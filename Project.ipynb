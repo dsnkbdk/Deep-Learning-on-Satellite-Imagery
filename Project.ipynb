{
 "cells": [
  {
   "cell_type": "markdown",
   "metadata": {},
   "source": [
    "# Load and setup"
   ]
  },
  {
   "cell_type": "markdown",
   "metadata": {},
   "source": [
    "## Turn off warning"
   ]
  },
  {
   "cell_type": "code",
   "execution_count": 1,
   "metadata": {},
   "outputs": [],
   "source": [
    "import warnings\n",
    "warnings.filterwarnings('ignore')"
   ]
  },
  {
   "cell_type": "markdown",
   "metadata": {},
   "source": [
    "## Load basic library"
   ]
  },
  {
   "cell_type": "code",
   "execution_count": 2,
   "metadata": {},
   "outputs": [],
   "source": [
    "import os\n",
    "import re\n",
    "import time\n",
    "import shutil\n",
    "import numpy as np\n",
    "import pandas as pd\n",
    "import matplotlib.pyplot as plt\n",
    "import matplotlib.patches as pch\n",
    "from tqdm.autonotebook import tqdm"
   ]
  },
  {
   "cell_type": "markdown",
   "metadata": {},
   "source": [
    "## Load geographic library"
   ]
  },
  {
   "cell_type": "code",
   "execution_count": 3,
   "metadata": {},
   "outputs": [],
   "source": [
    "import rasterio\n",
    "import rasterio.mask\n",
    "import rasterio.warp\n",
    "import geopandas as gpd\n",
    "from osgeo import gdal\n",
    "from rasterio.plot import show\n",
    "from rasterio.merge import merge\n",
    "from shapely.geometry import box"
   ]
  },
  {
   "cell_type": "markdown",
   "metadata": {},
   "source": [
    "## Load machine learning library"
   ]
  },
  {
   "cell_type": "code",
   "execution_count": 4,
   "metadata": {},
   "outputs": [],
   "source": [
    "import torch\n",
    "import torch.nn as nn\n",
    "from sklearn.linear_model import LinearRegression\n",
    "from sklearn.model_selection import train_test_split\n",
    "from torch.utils.data import DataLoader, TensorDataset\n",
    "from sklearn.metrics import mean_absolute_error, r2_score\n",
    "from sklearn.feature_selection import f_regression, SelectFpr"
   ]
  },
  {
   "cell_type": "markdown",
   "metadata": {},
   "source": [
    "## Setup"
   ]
  },
  {
   "cell_type": "code",
   "execution_count": 5,
   "metadata": {},
   "outputs": [],
   "source": [
    "RANDOM_STATE = 1000\n",
    "pd.set_option('display.max_rows', 10)\n",
    "pd.set_option('display.max_colwidth', None)\n",
    "# Remove the previous outputs\n",
    "for i in ['Images for Deep Learning (Slope)', 'Images for Deep Learning (All)', 'Training set', 'Test set']:\n",
    "    if os.path.isdir(i):\n",
    "        shutil.rmtree(i)"
   ]
  },
  {
   "cell_type": "markdown",
   "metadata": {},
   "source": [
    "# Define functions"
   ]
  },
  {
   "cell_type": "markdown",
   "metadata": {},
   "source": [
    "## Read satellite imagery"
   ]
  },
  {
   "cell_type": "code",
   "execution_count": 6,
   "metadata": {
    "tags": []
   },
   "outputs": [],
   "source": [
    "# Read specific files from path\n",
    "def readFiles(filePath, fileType):\n",
    "    fileList = []\n",
    "    for f in os.listdir(filePath):\n",
    "        # Specify the file type\n",
    "        if f.endswith(fileType):\n",
    "            fileList.append(f)\n",
    "    # Return a list of file names\n",
    "    return fileList"
   ]
  },
  {
   "cell_type": "code",
   "execution_count": 7,
   "metadata": {
    "tags": []
   },
   "outputs": [],
   "source": [
    "# Extract satellite image info\n",
    "def imgInfo(filePath, fileList):\n",
    "    Bands, Shapes, Resolution, CRS, BoundingBoxes = [], [], [], [], []\n",
    "    for i in tqdm(fileList, desc='Processing', unit=' img'):\n",
    "        with rasterio.open(filePath + '/' + i) as img:\n",
    "            # Extract features\n",
    "            Bands.append(img.count)\n",
    "            Shapes.append(img.shape)\n",
    "            Resolution.append([img.res])\n",
    "            CRS.append(img.crs.to_string())\n",
    "            BoundingBoxes.append([*img.bounds])\n",
    "    # Save image information as dataframe\n",
    "    df_CRS = pd.DataFrame(CRS, columns = ['CRS'])\n",
    "    df_Band = pd.DataFrame(Bands, columns = ['Bands'])\n",
    "    df_Name = pd.DataFrame(fileList, columns = ['File_Name'])\n",
    "    df_Shape = pd.DataFrame(Shapes, columns = ['Height', 'Width'])\n",
    "    df_Resolution = pd.DataFrame(Resolution, columns = ['Resolution'])\n",
    "    df_BoundingBox = pd.DataFrame(BoundingBoxes, columns = ['Bound_Left', 'Bound_Bottom', 'Bound_Right', 'Bound_Top'])\n",
    "    return pd.concat([df_Name, df_Band, df_Shape, df_Resolution, df_CRS, df_BoundingBox], axis = 1)"
   ]
  },
  {
   "cell_type": "markdown",
   "metadata": {},
   "source": [
    "## Reproject & Resampling"
   ]
  },
  {
   "cell_type": "code",
   "execution_count": 8,
   "metadata": {},
   "outputs": [],
   "source": [
    "def reproject_image(src_fileList, src_pattern, dst_path, dst_crs):\n",
    "    # Check if the new path exists\n",
    "    if not os.path.isdir(dst_path):\n",
    "        os.makedirs(dst_path)\n",
    "    for i in tqdm(src_fileList, desc='Processing', unit=' img'):\n",
    "        with rasterio.open(i) as src:\n",
    "            # calculate the transform matrix\n",
    "            transform, width, height = rasterio.warp.calculate_default_transform(\n",
    "                src.crs,\n",
    "                dst_crs,\n",
    "                src.width,\n",
    "                src.height,\n",
    "                *src.bounds,\n",
    "                resolution=(1, 1))\n",
    "            kwargs = src.meta.copy()\n",
    "            kwargs.update({'nodata': 0,\n",
    "                           'width': width,\n",
    "                           'height': height,\n",
    "                           'crs': dst_crs,\n",
    "                           'transform': transform})\n",
    "            dst_name = 'Reprojected ' + ' '.join(re.findall(src_pattern, src.name))\n",
    "            Reprojected_img = os.path.join(dst_path, dst_name)\n",
    "            with rasterio.open(Reprojected_img, 'w', **kwargs) as dst:\n",
    "                for i in range(1, src.count + 1):\n",
    "                    rasterio.warp.reproject(source=rasterio.band(src, i),\n",
    "                                            src_crs=src.crs,\n",
    "                                            src_transform=src.transform,\n",
    "                                            destination=rasterio.band(dst, i),\n",
    "                                            dst_crs=dst_crs,\n",
    "                                            dst_transform=transform,\n",
    "                                            resampling=rasterio.warp.Resampling.nearest)"
   ]
  },
  {
   "cell_type": "markdown",
   "metadata": {},
   "source": [
    "## Overlapping detection"
   ]
  },
  {
   "cell_type": "code",
   "execution_count": 9,
   "metadata": {},
   "outputs": [],
   "source": [
    "# Filter out the Lidar images that overlap with the paddock image\n",
    "def Paddock_overlap_Lidar(df_Paddock, df_Lidar):\n",
    "    overlapType, overlapList = [], []\n",
    "    Lidar_list = df_Lidar.File_Name.tolist()\n",
    "    for i in tqdm(df_Paddock.index, desc='Processing', unit=' img'):\n",
    "        # Set boundaries\n",
    "        L, B, R, T = df_Paddock.iloc[i]['Bound_Left':'Bound_Top']\n",
    "        # Check if the paddock is fully in the Lidar image\n",
    "        df_in = df_Lidar.query(\"Bound_Left <= @L & Bound_Bottom <= @B & Bound_Right >= @R & Bound_Top >= @T\")\n",
    "        if len(df_in) > 0:\n",
    "            overlapList.append([df_in.File_Name.tolist()])\n",
    "            overlapType.append('F')\n",
    "        else:\n",
    "            # Check if the paddock partially overlaps the Lidar image\n",
    "            df_non_overlap = df_Lidar.query(\"Bound_Left > @R | Bound_Bottom > @T | Bound_Right < @L | Bound_Top < @B\")\n",
    "            non_overlap = df_non_overlap.File_Name.tolist()\n",
    "            overlap = sorted(list(set(Lidar_list) - set(non_overlap)))\n",
    "            overlapList.append([overlap])\n",
    "            overlapType.append('P')\n",
    "    # Save results as dataframe\n",
    "    df_Name = df_Paddock[['File_Name']]\n",
    "    df_Type = pd.DataFrame(overlapType, columns = ['Overlap_Type'])\n",
    "    df_Overlap = pd.DataFrame(overlapList, columns = ['Paddock_Overlap_Lidar'])\n",
    "    return pd.concat([df_Name, df_Type, df_Overlap], axis = 1)"
   ]
  },
  {
   "cell_type": "markdown",
   "metadata": {},
   "source": [
    "## Copy overlapping Lidar images to new folder"
   ]
  },
  {
   "cell_type": "code",
   "execution_count": 10,
   "metadata": {},
   "outputs": [],
   "source": [
    "# Copy overlapping Lidar images to new folder\n",
    "def copyFiles(src_path, dst_path, fileList):\n",
    "    # Check if the new path exists\n",
    "    if not os.path.isdir(dst_path):\n",
    "        os.makedirs(dst_path)\n",
    "    # Copy the files in the file list to the new path\n",
    "    for f in tqdm(fileList, desc='Processing', unit=' img'):\n",
    "        full_src_path = os.path.join(src_path, f)\n",
    "        shutil.copy(full_src_path, dst_path)"
   ]
  },
  {
   "cell_type": "markdown",
   "metadata": {},
   "source": [
    "## Plot overlapping images"
   ]
  },
  {
   "cell_type": "code",
   "execution_count": 11,
   "metadata": {},
   "outputs": [],
   "source": [
    "# Plot paddock and Lidar images to check overlap status\n",
    "def plot_image(df_Paddock, df_Lidar):\n",
    "    # Initialize the plot\n",
    "    fig = plt.figure(figsize = (12, 6))\n",
    "    ax = fig.add_subplot(111)\n",
    "    # Plot all Lidar boundaries\n",
    "    for i in df_Lidar.index:\n",
    "        L, B, R, T = df_Lidar.iloc[i]['Bound_Left':'Bound_Top']\n",
    "        rect = pch.Rectangle((L, B), width = R - L, height = T - B, edgecolor = 'blue', fill = False)\n",
    "        ax.add_patch(rect)\n",
    "        # Add the file name of each Lidar image\n",
    "        text = df_Lidar.at[i,'File_Name'][-8:-4]\n",
    "        ax.text(rect.get_center()[0], rect.get_center()[1], text,\n",
    "                horizontalalignment = 'center', verticalalignment = 'center', color = 'blue')\n",
    "    # Plot all paddock boundaries\n",
    "    for i in df_Paddock.index:\n",
    "        L, B, R, T = df_Paddock.iloc[i]['Bound_Left':'Bound_Top']\n",
    "        rect = pch.Rectangle((L, B), width = R - L, height = T - B, edgecolor = 'red', fill = False)\n",
    "        ax.add_patch(rect)\n",
    "        # Add the file name of each Lidar image\n",
    "        text = re.findall('Paddock \\w+.tif', df_Paddock.at[i,'File_Name'])[0][8:-4]\n",
    "        ax.text(rect.get_center()[0], rect.get_center()[1], text,\n",
    "                horizontalalignment = 'center', verticalalignment = 'center', color = 'red')\n",
    "    # Extract the overall boundaries of Lidar images\n",
    "    xmin, xmax = df_Lidar.Bound_Left.min(), df_Lidar.Bound_Right.max()\n",
    "    ymin, ymax = df_Lidar.Bound_Bottom.min(), df_Lidar.Bound_Top.max()\n",
    "    # Set the range of the axes\n",
    "    plt.xlim(xmin - 20, xmax + 20)\n",
    "    plt.ylim(ymin - 20, ymax + 20)\n",
    "    plt.show()"
   ]
  },
  {
   "cell_type": "markdown",
   "metadata": {},
   "source": [
    "## Merge images"
   ]
  },
  {
   "cell_type": "code",
   "execution_count": 12,
   "metadata": {},
   "outputs": [],
   "source": [
    "def merge_image(filePath, df_Overlap):\n",
    "    for i in tqdm(df_Overlap.index, desc='Processing', unit=' img'):\n",
    "        if df_Overlap.at[i,'Overlap_Type'] == 'P':\n",
    "            overlapFile_list = df_Overlap.at[i,'Paddock_Overlap_Lidar']\n",
    "            file_to_mosiac = []\n",
    "            for f in overlapFile_list:\n",
    "                img = rasterio.open(filePath + '/' + f)\n",
    "                file_to_mosiac.append(img)\n",
    "            mosaic, transform = merge(file_to_mosiac)\n",
    "            kwargs = img.meta.copy()\n",
    "            kwargs.update({'height': mosaic.shape[1],\n",
    "                           'width': mosaic.shape[2],\n",
    "                           'transform': transform})\n",
    "            output_name = '+'.join(overlapFile_list)\n",
    "            Mosaicked_img = os.path.join(filePath, output_name)\n",
    "            with rasterio.open(Mosaicked_img, 'w', **kwargs) as output:\n",
    "                output.write(mosaic)"
   ]
  },
  {
   "cell_type": "markdown",
   "metadata": {},
   "source": [
    "## Calculate slope"
   ]
  },
  {
   "cell_type": "code",
   "execution_count": 13,
   "metadata": {},
   "outputs": [],
   "source": [
    "def calculate_slope(src_fileList, src_pattern, dst_path):\n",
    "    # Check if the new path exists\n",
    "    if not os.path.isdir(dst_path):\n",
    "        os.makedirs(dst_path)\n",
    "    for i in tqdm(src_fileList, desc='Processing', unit=' img'):\n",
    "        dst_name = 'Slope ' + '+'.join(re.findall(src_pattern, i))\n",
    "        Slope_img = os.path.join(dst_path, dst_name)\n",
    "        gdal.DEMProcessing(Slope_img, i, 'slope')"
   ]
  },
  {
   "cell_type": "markdown",
   "metadata": {},
   "source": [
    "## Crop Lidar images"
   ]
  },
  {
   "cell_type": "code",
   "execution_count": 14,
   "metadata": {},
   "outputs": [],
   "source": [
    "def crop_image(Paddock_path, Lidar_path, dst_path, df_Overlap):\n",
    "    # Check if the new path exists\n",
    "    if not os.path.isdir(dst_path):\n",
    "        os.makedirs(dst_path)\n",
    "    for i in tqdm(df_Overlap.index, desc='Processing', unit=' img'):\n",
    "        with rasterio.open(Paddock_path + '/' + df_Overlap.at[i,'File_Name']) as Paddock_img:\n",
    "            overlapLidar = '+'.join(df_Overlap.at[i,'Paddock_Overlap_Lidar'])\n",
    "            slopeLidar = 'Slope ' + '+'.join(re.findall('\\d+\\.tif', overlapLidar))\n",
    "            with rasterio.open(Lidar_path + '/' + slopeLidar) as Lidar_img:\n",
    "                bbox = box(*Paddock_img.bounds)\n",
    "                geo = gpd.GeoDataFrame({'geometry': [bbox]})\n",
    "                mask, transform = rasterio.mask.mask(Lidar_img, geo.geometry, crop=True)\n",
    "                kwargs = Lidar_img.meta.copy()\n",
    "                kwargs.update({'height': mask.shape[1],\n",
    "                               'width': mask.shape[2],\n",
    "                               'transform': transform})\n",
    "                output_name = 'Cropped ' + re.findall('\\w+ \\d{8}\\w+ - Paddock \\w+.tif[f]?', Paddock_img.name)[0]\n",
    "                Cropped_img = os.path.join(dst_path, output_name)\n",
    "                with rasterio.open(Cropped_img, 'w', **kwargs) as output:\n",
    "                    output.write(mask)"
   ]
  },
  {
   "cell_type": "markdown",
   "metadata": {},
   "source": [
    "## Trim, mask nodata, and save slope band"
   ]
  },
  {
   "cell_type": "code",
   "execution_count": 15,
   "metadata": {},
   "outputs": [],
   "source": [
    "def save_slope_band(cropped_filePath, cropped_fileList, reprojected_filePath, dst_path):\n",
    "    # Check if the new path exists\n",
    "    if not os.path.isdir(dst_path):\n",
    "        os.makedirs(dst_path)\n",
    "    for f in tqdm(cropped_fileList, desc='Processing', unit=' img'):\n",
    "        with rasterio.open(cropped_filePath + '/' + f) as slope_img:\n",
    "            slope_band = slope_img.read()\n",
    "            slope_band = slope_band[slope_band != -9999].reshape(slope_img.shape[0] - 1,\n",
    "                                                                 slope_img.shape[1] - 1)\n",
    "        paddock_name = re.findall('\\w+ \\d{8}\\w+ - Paddock \\w+.tif[f]?', f)[0]\n",
    "        output_name = 'Prepared ' + paddock_name\n",
    "        Prepared_img = os.path.join(dst_path, output_name)\n",
    "        with gdal.Open(reprojected_filePath + '/Reprojected ' + paddock_name) as src:\n",
    "            mask = src.GetRasterBand(1).ReadAsArray()\n",
    "            slope_band[mask == 0] = 0\n",
    "            driver = gdal.GetDriverByName('GTiff')\n",
    "            output = driver.Create(Prepared_img,\n",
    "                                   xsize=slope_band.shape[1],\n",
    "                                   ysize=slope_band.shape[0],\n",
    "                                   bands=5,\n",
    "                                   eType=gdal.GDT_Float32)\n",
    "            output.SetProjection(src.GetProjection())\n",
    "            output.SetGeoTransform(src.GetGeoTransform())\n",
    "            for i in range(4):\n",
    "                band = output.GetRasterBand(i + 1)\n",
    "                band.WriteArray(src.GetRasterBand(i + 1).ReadAsArray())\n",
    "                band.SetNoDataValue(0)\n",
    "                band.FlushCache()\n",
    "            band_5 = output.GetRasterBand(5)\n",
    "            band_5.WriteArray(slope_band)\n",
    "            band_5.SetNoDataValue(0)\n",
    "            band_5.FlushCache()"
   ]
  },
  {
   "cell_type": "markdown",
   "metadata": {},
   "source": [
    "# Implementation step by step"
   ]
  },
  {
   "cell_type": "markdown",
   "metadata": {},
   "source": [
    "## Lidar data info"
   ]
  },
  {
   "cell_type": "code",
   "execution_count": 16,
   "metadata": {},
   "outputs": [
    {
     "data": {
      "application/vnd.jupyter.widget-view+json": {
       "model_id": "39bafafd72d44ea7bc9230107c52ffc4",
       "version_major": 2,
       "version_minor": 0
      },
      "text/plain": [
       "Processing:   0%|          | 0/890 [00:00<?, ? img/s]"
      ]
     },
     "metadata": {},
     "output_type": "display_data"
    },
    {
     "data": {
      "text/html": [
       "<div>\n",
       "<style scoped>\n",
       "    .dataframe tbody tr th:only-of-type {\n",
       "        vertical-align: middle;\n",
       "    }\n",
       "\n",
       "    .dataframe tbody tr th {\n",
       "        vertical-align: top;\n",
       "    }\n",
       "\n",
       "    .dataframe thead th {\n",
       "        text-align: right;\n",
       "    }\n",
       "</style>\n",
       "<table border=\"1\" class=\"dataframe\">\n",
       "  <thead>\n",
       "    <tr style=\"text-align: right;\">\n",
       "      <th></th>\n",
       "      <th>File_Name</th>\n",
       "      <th>Bands</th>\n",
       "      <th>Height</th>\n",
       "      <th>Width</th>\n",
       "      <th>Resolution</th>\n",
       "      <th>CRS</th>\n",
       "      <th>Bound_Left</th>\n",
       "      <th>Bound_Bottom</th>\n",
       "      <th>Bound_Right</th>\n",
       "      <th>Bound_Top</th>\n",
       "    </tr>\n",
       "  </thead>\n",
       "  <tbody>\n",
       "    <tr>\n",
       "      <th>0</th>\n",
       "      <td>DEM_CE16_2021_1000_2941.tif</td>\n",
       "      <td>1</td>\n",
       "      <td>720</td>\n",
       "      <td>480</td>\n",
       "      <td>(1.0, 1.0)</td>\n",
       "      <td>EPSG:2193</td>\n",
       "      <td>1391200.0</td>\n",
       "      <td>4917120.0</td>\n",
       "      <td>1391680.0</td>\n",
       "      <td>4917840.0</td>\n",
       "    </tr>\n",
       "    <tr>\n",
       "      <th>1</th>\n",
       "      <td>DEM_CE17_2021_1000_2807.tif</td>\n",
       "      <td>1</td>\n",
       "      <td>720</td>\n",
       "      <td>480</td>\n",
       "      <td>(1.0, 1.0)</td>\n",
       "      <td>EPSG:2193</td>\n",
       "      <td>1398880.0</td>\n",
       "      <td>4917840.0</td>\n",
       "      <td>1399360.0</td>\n",
       "      <td>4918560.0</td>\n",
       "    </tr>\n",
       "    <tr>\n",
       "      <th>2</th>\n",
       "      <td>DEM_CE17_2021_1000_2813.tif</td>\n",
       "      <td>1</td>\n",
       "      <td>720</td>\n",
       "      <td>480</td>\n",
       "      <td>(1.0, 1.0)</td>\n",
       "      <td>EPSG:2193</td>\n",
       "      <td>1401760.0</td>\n",
       "      <td>4917840.0</td>\n",
       "      <td>1402240.0</td>\n",
       "      <td>4918560.0</td>\n",
       "    </tr>\n",
       "    <tr>\n",
       "      <th>3</th>\n",
       "      <td>DEM_CE17_2021_1000_2620.tif</td>\n",
       "      <td>1</td>\n",
       "      <td>720</td>\n",
       "      <td>480</td>\n",
       "      <td>(1.0, 1.0)</td>\n",
       "      <td>EPSG:2193</td>\n",
       "      <td>1405120.0</td>\n",
       "      <td>4919280.0</td>\n",
       "      <td>1405600.0</td>\n",
       "      <td>4920000.0</td>\n",
       "    </tr>\n",
       "    <tr>\n",
       "      <th>4</th>\n",
       "      <td>DEM_CE16_2021_1000_3336.tif</td>\n",
       "      <td>1</td>\n",
       "      <td>720</td>\n",
       "      <td>480</td>\n",
       "      <td>(1.0, 1.0)</td>\n",
       "      <td>EPSG:2193</td>\n",
       "      <td>1388800.0</td>\n",
       "      <td>4914240.0</td>\n",
       "      <td>1389280.0</td>\n",
       "      <td>4914960.0</td>\n",
       "    </tr>\n",
       "    <tr>\n",
       "      <th>...</th>\n",
       "      <td>...</td>\n",
       "      <td>...</td>\n",
       "      <td>...</td>\n",
       "      <td>...</td>\n",
       "      <td>...</td>\n",
       "      <td>...</td>\n",
       "      <td>...</td>\n",
       "      <td>...</td>\n",
       "      <td>...</td>\n",
       "      <td>...</td>\n",
       "    </tr>\n",
       "    <tr>\n",
       "      <th>885</th>\n",
       "      <td>DEM_CE17_2021_1000_2605.tif</td>\n",
       "      <td>1</td>\n",
       "      <td>720</td>\n",
       "      <td>480</td>\n",
       "      <td>(1.0, 1.0)</td>\n",
       "      <td>EPSG:2193</td>\n",
       "      <td>1397920.0</td>\n",
       "      <td>4919280.0</td>\n",
       "      <td>1398400.0</td>\n",
       "      <td>4920000.0</td>\n",
       "    </tr>\n",
       "    <tr>\n",
       "      <th>886</th>\n",
       "      <td>DEM_CE16_2021_1000_2743.tif</td>\n",
       "      <td>1</td>\n",
       "      <td>720</td>\n",
       "      <td>480</td>\n",
       "      <td>(1.0, 1.0)</td>\n",
       "      <td>EPSG:2193</td>\n",
       "      <td>1392160.0</td>\n",
       "      <td>4918560.0</td>\n",
       "      <td>1392640.0</td>\n",
       "      <td>4919280.0</td>\n",
       "    </tr>\n",
       "    <tr>\n",
       "      <th>887</th>\n",
       "      <td>DEM_CE16_2021_1000_3449.tif</td>\n",
       "      <td>1</td>\n",
       "      <td>720</td>\n",
       "      <td>480</td>\n",
       "      <td>(1.0, 1.0)</td>\n",
       "      <td>EPSG:2193</td>\n",
       "      <td>1395040.0</td>\n",
       "      <td>4913520.0</td>\n",
       "      <td>1395520.0</td>\n",
       "      <td>4914240.0</td>\n",
       "    </tr>\n",
       "    <tr>\n",
       "      <th>888</th>\n",
       "      <td>DEM_CE17_2021_1000_3527.tif</td>\n",
       "      <td>1</td>\n",
       "      <td>720</td>\n",
       "      <td>480</td>\n",
       "      <td>(1.0, 1.0)</td>\n",
       "      <td>EPSG:2193</td>\n",
       "      <td>1408480.0</td>\n",
       "      <td>4912800.0</td>\n",
       "      <td>1408960.0</td>\n",
       "      <td>4913520.0</td>\n",
       "    </tr>\n",
       "    <tr>\n",
       "      <th>889</th>\n",
       "      <td>DEM_CE17_2021_1000_2822.tif</td>\n",
       "      <td>1</td>\n",
       "      <td>720</td>\n",
       "      <td>480</td>\n",
       "      <td>(1.0, 1.0)</td>\n",
       "      <td>EPSG:2193</td>\n",
       "      <td>1406080.0</td>\n",
       "      <td>4917840.0</td>\n",
       "      <td>1406560.0</td>\n",
       "      <td>4918560.0</td>\n",
       "    </tr>\n",
       "  </tbody>\n",
       "</table>\n",
       "<p>890 rows × 10 columns</p>\n",
       "</div>"
      ],
      "text/plain": [
       "                       File_Name  Bands  Height  Width  Resolution        CRS  \\\n",
       "0    DEM_CE16_2021_1000_2941.tif      1     720    480  (1.0, 1.0)  EPSG:2193   \n",
       "1    DEM_CE17_2021_1000_2807.tif      1     720    480  (1.0, 1.0)  EPSG:2193   \n",
       "2    DEM_CE17_2021_1000_2813.tif      1     720    480  (1.0, 1.0)  EPSG:2193   \n",
       "3    DEM_CE17_2021_1000_2620.tif      1     720    480  (1.0, 1.0)  EPSG:2193   \n",
       "4    DEM_CE16_2021_1000_3336.tif      1     720    480  (1.0, 1.0)  EPSG:2193   \n",
       "..                           ...    ...     ...    ...         ...        ...   \n",
       "885  DEM_CE17_2021_1000_2605.tif      1     720    480  (1.0, 1.0)  EPSG:2193   \n",
       "886  DEM_CE16_2021_1000_2743.tif      1     720    480  (1.0, 1.0)  EPSG:2193   \n",
       "887  DEM_CE16_2021_1000_3449.tif      1     720    480  (1.0, 1.0)  EPSG:2193   \n",
       "888  DEM_CE17_2021_1000_3527.tif      1     720    480  (1.0, 1.0)  EPSG:2193   \n",
       "889  DEM_CE17_2021_1000_2822.tif      1     720    480  (1.0, 1.0)  EPSG:2193   \n",
       "\n",
       "     Bound_Left  Bound_Bottom  Bound_Right  Bound_Top  \n",
       "0     1391200.0     4917120.0    1391680.0  4917840.0  \n",
       "1     1398880.0     4917840.0    1399360.0  4918560.0  \n",
       "2     1401760.0     4917840.0    1402240.0  4918560.0  \n",
       "3     1405120.0     4919280.0    1405600.0  4920000.0  \n",
       "4     1388800.0     4914240.0    1389280.0  4914960.0  \n",
       "..          ...           ...          ...        ...  \n",
       "885   1397920.0     4919280.0    1398400.0  4920000.0  \n",
       "886   1392160.0     4918560.0    1392640.0  4919280.0  \n",
       "887   1395040.0     4913520.0    1395520.0  4914240.0  \n",
       "888   1408480.0     4912800.0    1408960.0  4913520.0  \n",
       "889   1406080.0     4917840.0    1406560.0  4918560.0  \n",
       "\n",
       "[890 rows x 10 columns]"
      ]
     },
     "execution_count": 16,
     "metadata": {},
     "output_type": "execute_result"
    }
   ],
   "source": [
    "filePath, fileType = 'Invermay/Invermay Lidar 890', '.tif'\n",
    "df_Invermay_Lidar = imgInfo(filePath, readFiles(filePath, fileType))\n",
    "df_Invermay_Lidar\n",
    "# df_Invermay_Lidar.to_excel('df_Invermay_Lidar.xlsx', index=False)"
   ]
  },
  {
   "cell_type": "markdown",
   "metadata": {},
   "source": [
    "## Paddock data info"
   ]
  },
  {
   "cell_type": "code",
   "execution_count": 17,
   "metadata": {
    "tags": []
   },
   "outputs": [
    {
     "data": {
      "application/vnd.jupyter.widget-view+json": {
       "model_id": "3b520a55e0e3461da52c4645c537a493",
       "version_major": 2,
       "version_minor": 0
      },
      "text/plain": [
       "Processing:   0%|          | 0/23 [00:00<?, ? img/s]"
      ]
     },
     "metadata": {},
     "output_type": "display_data"
    },
    {
     "data": {
      "text/html": [
       "<div>\n",
       "<style scoped>\n",
       "    .dataframe tbody tr th:only-of-type {\n",
       "        vertical-align: middle;\n",
       "    }\n",
       "\n",
       "    .dataframe tbody tr th {\n",
       "        vertical-align: top;\n",
       "    }\n",
       "\n",
       "    .dataframe thead th {\n",
       "        text-align: right;\n",
       "    }\n",
       "</style>\n",
       "<table border=\"1\" class=\"dataframe\">\n",
       "  <thead>\n",
       "    <tr style=\"text-align: right;\">\n",
       "      <th></th>\n",
       "      <th>File_Name</th>\n",
       "      <th>Bands</th>\n",
       "      <th>Height</th>\n",
       "      <th>Width</th>\n",
       "      <th>Resolution</th>\n",
       "      <th>CRS</th>\n",
       "      <th>Bound_Left</th>\n",
       "      <th>Bound_Bottom</th>\n",
       "      <th>Bound_Right</th>\n",
       "      <th>Bound_Top</th>\n",
       "    </tr>\n",
       "  </thead>\n",
       "  <tbody>\n",
       "    <tr>\n",
       "      <th>0</th>\n",
       "      <td>Invermay 20201008_Planet_221357 - Paddock 215.tif</td>\n",
       "      <td>4</td>\n",
       "      <td>52</td>\n",
       "      <td>50</td>\n",
       "      <td>(3.0, 3.0)</td>\n",
       "      <td>EPSG:32759</td>\n",
       "      <td>453885.0</td>\n",
       "      <td>4921398.0</td>\n",
       "      <td>454035.0</td>\n",
       "      <td>4921554.0</td>\n",
       "    </tr>\n",
       "    <tr>\n",
       "      <th>1</th>\n",
       "      <td>Invermay 20201008_Planet_221357 - Paddock 201.tif</td>\n",
       "      <td>4</td>\n",
       "      <td>44</td>\n",
       "      <td>38</td>\n",
       "      <td>(3.0, 3.0)</td>\n",
       "      <td>EPSG:32759</td>\n",
       "      <td>453519.0</td>\n",
       "      <td>4921572.0</td>\n",
       "      <td>453633.0</td>\n",
       "      <td>4921704.0</td>\n",
       "    </tr>\n",
       "    <tr>\n",
       "      <th>2</th>\n",
       "      <td>Invermay 20201008_Planet_221357 - Paddock 200.tif</td>\n",
       "      <td>4</td>\n",
       "      <td>43</td>\n",
       "      <td>37</td>\n",
       "      <td>(3.0, 3.0)</td>\n",
       "      <td>EPSG:32759</td>\n",
       "      <td>453486.0</td>\n",
       "      <td>4921500.0</td>\n",
       "      <td>453597.0</td>\n",
       "      <td>4921629.0</td>\n",
       "    </tr>\n",
       "    <tr>\n",
       "      <th>3</th>\n",
       "      <td>Invermay 20201008_Planet_221357 - Paddock 202.tif</td>\n",
       "      <td>4</td>\n",
       "      <td>56</td>\n",
       "      <td>69</td>\n",
       "      <td>(3.0, 3.0)</td>\n",
       "      <td>EPSG:32759</td>\n",
       "      <td>453531.0</td>\n",
       "      <td>4921647.0</td>\n",
       "      <td>453738.0</td>\n",
       "      <td>4921815.0</td>\n",
       "    </tr>\n",
       "    <tr>\n",
       "      <th>4</th>\n",
       "      <td>Invermay 20201008_Planet_221357 - Paddock 216.tif</td>\n",
       "      <td>4</td>\n",
       "      <td>65</td>\n",
       "      <td>101</td>\n",
       "      <td>(3.0, 3.0)</td>\n",
       "      <td>EPSG:32759</td>\n",
       "      <td>453849.0</td>\n",
       "      <td>4921545.0</td>\n",
       "      <td>454152.0</td>\n",
       "      <td>4921740.0</td>\n",
       "    </tr>\n",
       "    <tr>\n",
       "      <th>...</th>\n",
       "      <td>...</td>\n",
       "      <td>...</td>\n",
       "      <td>...</td>\n",
       "      <td>...</td>\n",
       "      <td>...</td>\n",
       "      <td>...</td>\n",
       "      <td>...</td>\n",
       "      <td>...</td>\n",
       "      <td>...</td>\n",
       "      <td>...</td>\n",
       "    </tr>\n",
       "    <tr>\n",
       "      <th>18</th>\n",
       "      <td>Invermay 20201008_Planet_221357 - Paddock 222.tif</td>\n",
       "      <td>4</td>\n",
       "      <td>63</td>\n",
       "      <td>65</td>\n",
       "      <td>(3.0, 3.0)</td>\n",
       "      <td>EPSG:32759</td>\n",
       "      <td>454275.0</td>\n",
       "      <td>4921296.0</td>\n",
       "      <td>454470.0</td>\n",
       "      <td>4921485.0</td>\n",
       "    </tr>\n",
       "    <tr>\n",
       "      <th>19</th>\n",
       "      <td>Invermay 20201008_Planet_221357 - Paddock 226.tif</td>\n",
       "      <td>4</td>\n",
       "      <td>45</td>\n",
       "      <td>48</td>\n",
       "      <td>(3.0, 3.0)</td>\n",
       "      <td>EPSG:32759</td>\n",
       "      <td>453729.0</td>\n",
       "      <td>4920900.0</td>\n",
       "      <td>453873.0</td>\n",
       "      <td>4921035.0</td>\n",
       "    </tr>\n",
       "    <tr>\n",
       "      <th>20</th>\n",
       "      <td>Invermay 20201008_Planet_221357 - Paddock 225.tif</td>\n",
       "      <td>4</td>\n",
       "      <td>63</td>\n",
       "      <td>99</td>\n",
       "      <td>(3.0, 3.0)</td>\n",
       "      <td>EPSG:32759</td>\n",
       "      <td>453834.0</td>\n",
       "      <td>4920984.0</td>\n",
       "      <td>454131.0</td>\n",
       "      <td>4921173.0</td>\n",
       "    </tr>\n",
       "    <tr>\n",
       "      <th>21</th>\n",
       "      <td>Invermay 20201008_Planet_221357 - Paddock 224.tif</td>\n",
       "      <td>4</td>\n",
       "      <td>72</td>\n",
       "      <td>101</td>\n",
       "      <td>(3.0, 3.0)</td>\n",
       "      <td>EPSG:32759</td>\n",
       "      <td>453936.0</td>\n",
       "      <td>4921074.0</td>\n",
       "      <td>454239.0</td>\n",
       "      <td>4921290.0</td>\n",
       "    </tr>\n",
       "    <tr>\n",
       "      <th>22</th>\n",
       "      <td>Invermay 20201008_Planet_221357 - Paddock 218.tif</td>\n",
       "      <td>4</td>\n",
       "      <td>25</td>\n",
       "      <td>63</td>\n",
       "      <td>(3.0, 3.0)</td>\n",
       "      <td>EPSG:32759</td>\n",
       "      <td>453828.0</td>\n",
       "      <td>4921815.0</td>\n",
       "      <td>454017.0</td>\n",
       "      <td>4921890.0</td>\n",
       "    </tr>\n",
       "  </tbody>\n",
       "</table>\n",
       "<p>23 rows × 10 columns</p>\n",
       "</div>"
      ],
      "text/plain": [
       "                                            File_Name  Bands  Height  Width  \\\n",
       "0   Invermay 20201008_Planet_221357 - Paddock 215.tif      4      52     50   \n",
       "1   Invermay 20201008_Planet_221357 - Paddock 201.tif      4      44     38   \n",
       "2   Invermay 20201008_Planet_221357 - Paddock 200.tif      4      43     37   \n",
       "3   Invermay 20201008_Planet_221357 - Paddock 202.tif      4      56     69   \n",
       "4   Invermay 20201008_Planet_221357 - Paddock 216.tif      4      65    101   \n",
       "..                                                ...    ...     ...    ...   \n",
       "18  Invermay 20201008_Planet_221357 - Paddock 222.tif      4      63     65   \n",
       "19  Invermay 20201008_Planet_221357 - Paddock 226.tif      4      45     48   \n",
       "20  Invermay 20201008_Planet_221357 - Paddock 225.tif      4      63     99   \n",
       "21  Invermay 20201008_Planet_221357 - Paddock 224.tif      4      72    101   \n",
       "22  Invermay 20201008_Planet_221357 - Paddock 218.tif      4      25     63   \n",
       "\n",
       "    Resolution         CRS  Bound_Left  Bound_Bottom  Bound_Right  Bound_Top  \n",
       "0   (3.0, 3.0)  EPSG:32759    453885.0     4921398.0     454035.0  4921554.0  \n",
       "1   (3.0, 3.0)  EPSG:32759    453519.0     4921572.0     453633.0  4921704.0  \n",
       "2   (3.0, 3.0)  EPSG:32759    453486.0     4921500.0     453597.0  4921629.0  \n",
       "3   (3.0, 3.0)  EPSG:32759    453531.0     4921647.0     453738.0  4921815.0  \n",
       "4   (3.0, 3.0)  EPSG:32759    453849.0     4921545.0     454152.0  4921740.0  \n",
       "..         ...         ...         ...           ...          ...        ...  \n",
       "18  (3.0, 3.0)  EPSG:32759    454275.0     4921296.0     454470.0  4921485.0  \n",
       "19  (3.0, 3.0)  EPSG:32759    453729.0     4920900.0     453873.0  4921035.0  \n",
       "20  (3.0, 3.0)  EPSG:32759    453834.0     4920984.0     454131.0  4921173.0  \n",
       "21  (3.0, 3.0)  EPSG:32759    453936.0     4921074.0     454239.0  4921290.0  \n",
       "22  (3.0, 3.0)  EPSG:32759    453828.0     4921815.0     454017.0  4921890.0  \n",
       "\n",
       "[23 rows x 10 columns]"
      ]
     },
     "execution_count": 17,
     "metadata": {},
     "output_type": "execute_result"
    }
   ],
   "source": [
    "filePath, fileType = 'Invermay/20201005-20201008 - Planet', ('.tif', '.tiff')\n",
    "df_Invermay = imgInfo(filePath, readFiles(filePath, fileType))\n",
    "df_Invermay\n",
    "# df_Invermay.to_excel('df_Invermay.xlsx', index=False)"
   ]
  },
  {
   "cell_type": "markdown",
   "metadata": {},
   "source": [
    "## Execute reproject"
   ]
  },
  {
   "cell_type": "code",
   "execution_count": 18,
   "metadata": {},
   "outputs": [
    {
     "data": {
      "application/vnd.jupyter.widget-view+json": {
       "model_id": "891c05a43bc747e5a8c9082eb2add53f",
       "version_major": 2,
       "version_minor": 0
      },
      "text/plain": [
       "Processing:   0%|          | 0/23 [00:00<?, ? img/s]"
      ]
     },
     "metadata": {},
     "output_type": "display_data"
    }
   ],
   "source": [
    "filePath = 'Invermay/20201005-20201008 - Planet'\n",
    "fileList = df_Invermay.File_Name.to_list()\n",
    "src_fileList = [filePath + '/' + i for i in fileList]\n",
    "src_pattern = '\\w+ \\d{8}\\w+ - Paddock \\w+.tif[f]?'\n",
    "dst_path, dst_crs = '1.Reprojected Paddock', 'EPSG:2193'\n",
    "reproject_image(src_fileList, src_pattern, dst_path, dst_crs)"
   ]
  },
  {
   "cell_type": "markdown",
   "metadata": {},
   "source": [
    "## Reprojected paddock info"
   ]
  },
  {
   "cell_type": "code",
   "execution_count": 19,
   "metadata": {},
   "outputs": [
    {
     "data": {
      "application/vnd.jupyter.widget-view+json": {
       "model_id": "a214e00b4a7c42f3a4596d0bcac2d779",
       "version_major": 2,
       "version_minor": 0
      },
      "text/plain": [
       "Processing:   0%|          | 0/23 [00:00<?, ? img/s]"
      ]
     },
     "metadata": {},
     "output_type": "display_data"
    },
    {
     "data": {
      "text/html": [
       "<div>\n",
       "<style scoped>\n",
       "    .dataframe tbody tr th:only-of-type {\n",
       "        vertical-align: middle;\n",
       "    }\n",
       "\n",
       "    .dataframe tbody tr th {\n",
       "        vertical-align: top;\n",
       "    }\n",
       "\n",
       "    .dataframe thead th {\n",
       "        text-align: right;\n",
       "    }\n",
       "</style>\n",
       "<table border=\"1\" class=\"dataframe\">\n",
       "  <thead>\n",
       "    <tr style=\"text-align: right;\">\n",
       "      <th></th>\n",
       "      <th>File_Name</th>\n",
       "      <th>Bands</th>\n",
       "      <th>Height</th>\n",
       "      <th>Width</th>\n",
       "      <th>Resolution</th>\n",
       "      <th>CRS</th>\n",
       "      <th>Bound_Left</th>\n",
       "      <th>Bound_Bottom</th>\n",
       "      <th>Bound_Right</th>\n",
       "      <th>Bound_Top</th>\n",
       "    </tr>\n",
       "  </thead>\n",
       "  <tbody>\n",
       "    <tr>\n",
       "      <th>0</th>\n",
       "      <td>Reprojected Invermay 20201008_Planet_221357 - Paddock 226.tif</td>\n",
       "      <td>4</td>\n",
       "      <td>139</td>\n",
       "      <td>148</td>\n",
       "      <td>(1.0, 1.0)</td>\n",
       "      <td>EPSG:2193</td>\n",
       "      <td>1.398484e+06</td>\n",
       "      <td>4.917795e+06</td>\n",
       "      <td>1.398632e+06</td>\n",
       "      <td>4.917934e+06</td>\n",
       "    </tr>\n",
       "    <tr>\n",
       "      <th>1</th>\n",
       "      <td>Reprojected Invermay 20201008_Planet_221357 - Paddock 225.tif</td>\n",
       "      <td>4</td>\n",
       "      <td>196</td>\n",
       "      <td>304</td>\n",
       "      <td>(1.0, 1.0)</td>\n",
       "      <td>EPSG:2193</td>\n",
       "      <td>1.398585e+06</td>\n",
       "      <td>4.917882e+06</td>\n",
       "      <td>1.398889e+06</td>\n",
       "      <td>4.918078e+06</td>\n",
       "    </tr>\n",
       "    <tr>\n",
       "      <th>2</th>\n",
       "      <td>Reprojected Invermay 20201008_Planet_221357 - Paddock 217A.tif</td>\n",
       "      <td>4</td>\n",
       "      <td>148</td>\n",
       "      <td>286</td>\n",
       "      <td>(1.0, 1.0)</td>\n",
       "      <td>EPSG:2193</td>\n",
       "      <td>1.398705e+06</td>\n",
       "      <td>4.918644e+06</td>\n",
       "      <td>1.398991e+06</td>\n",
       "      <td>4.918792e+06</td>\n",
       "    </tr>\n",
       "    <tr>\n",
       "      <th>3</th>\n",
       "      <td>Reprojected Invermay 20201008_Planet_221357 - Paddock 224.tif</td>\n",
       "      <td>4</td>\n",
       "      <td>226</td>\n",
       "      <td>310</td>\n",
       "      <td>(1.0, 1.0)</td>\n",
       "      <td>EPSG:2193</td>\n",
       "      <td>1.398684e+06</td>\n",
       "      <td>4.917972e+06</td>\n",
       "      <td>1.398994e+06</td>\n",
       "      <td>4.918198e+06</td>\n",
       "    </tr>\n",
       "    <tr>\n",
       "      <th>4</th>\n",
       "      <td>Reprojected Invermay 20201008_Planet_221357 - Paddock 218.tif</td>\n",
       "      <td>4</td>\n",
       "      <td>82</td>\n",
       "      <td>193</td>\n",
       "      <td>(1.0, 1.0)</td>\n",
       "      <td>EPSG:2193</td>\n",
       "      <td>1.398561e+06</td>\n",
       "      <td>4.918711e+06</td>\n",
       "      <td>1.398754e+06</td>\n",
       "      <td>4.918793e+06</td>\n",
       "    </tr>\n",
       "    <tr>\n",
       "      <th>...</th>\n",
       "      <td>...</td>\n",
       "      <td>...</td>\n",
       "      <td>...</td>\n",
       "      <td>...</td>\n",
       "      <td>...</td>\n",
       "      <td>...</td>\n",
       "      <td>...</td>\n",
       "      <td>...</td>\n",
       "      <td>...</td>\n",
       "      <td>...</td>\n",
       "    </tr>\n",
       "    <tr>\n",
       "      <th>18</th>\n",
       "      <td>Reprojected Invermay 20201008_Planet_221357 - Paddock 200.tif</td>\n",
       "      <td>4</td>\n",
       "      <td>133</td>\n",
       "      <td>115</td>\n",
       "      <td>(1.0, 1.0)</td>\n",
       "      <td>EPSG:2193</td>\n",
       "      <td>1.398226e+06</td>\n",
       "      <td>4.918388e+06</td>\n",
       "      <td>1.398341e+06</td>\n",
       "      <td>4.918521e+06</td>\n",
       "    </tr>\n",
       "    <tr>\n",
       "      <th>19</th>\n",
       "      <td>Reprojected Invermay 20201008_Planet_221357 - Paddock 216.tif</td>\n",
       "      <td>4</td>\n",
       "      <td>205</td>\n",
       "      <td>310</td>\n",
       "      <td>(1.0, 1.0)</td>\n",
       "      <td>EPSG:2193</td>\n",
       "      <td>1.398586e+06</td>\n",
       "      <td>4.918441e+06</td>\n",
       "      <td>1.398896e+06</td>\n",
       "      <td>4.918646e+06</td>\n",
       "    </tr>\n",
       "    <tr>\n",
       "      <th>20</th>\n",
       "      <td>Reprojected Invermay 20201008_Planet_221357 - Paddock 202.tif</td>\n",
       "      <td>4</td>\n",
       "      <td>175</td>\n",
       "      <td>211</td>\n",
       "      <td>(1.0, 1.0)</td>\n",
       "      <td>EPSG:2193</td>\n",
       "      <td>1.398266e+06</td>\n",
       "      <td>4.918536e+06</td>\n",
       "      <td>1.398477e+06</td>\n",
       "      <td>4.918711e+06</td>\n",
       "    </tr>\n",
       "    <tr>\n",
       "      <th>21</th>\n",
       "      <td>Reprojected Invermay 20201008_Planet_221357 - Paddock 203.tif</td>\n",
       "      <td>4</td>\n",
       "      <td>145</td>\n",
       "      <td>112</td>\n",
       "      <td>(1.0, 1.0)</td>\n",
       "      <td>EPSG:2193</td>\n",
       "      <td>1.398386e+06</td>\n",
       "      <td>4.918464e+06</td>\n",
       "      <td>1.398498e+06</td>\n",
       "      <td>4.918609e+06</td>\n",
       "    </tr>\n",
       "    <tr>\n",
       "      <th>22</th>\n",
       "      <td>Reprojected Invermay 20201008_Planet_221357 - Paddock 217.tif</td>\n",
       "      <td>4</td>\n",
       "      <td>121</td>\n",
       "      <td>175</td>\n",
       "      <td>(1.0, 1.0)</td>\n",
       "      <td>EPSG:2193</td>\n",
       "      <td>1.398806e+06</td>\n",
       "      <td>4.918713e+06</td>\n",
       "      <td>1.398981e+06</td>\n",
       "      <td>4.918834e+06</td>\n",
       "    </tr>\n",
       "  </tbody>\n",
       "</table>\n",
       "<p>23 rows × 10 columns</p>\n",
       "</div>"
      ],
      "text/plain": [
       "                                                         File_Name  Bands  \\\n",
       "0    Reprojected Invermay 20201008_Planet_221357 - Paddock 226.tif      4   \n",
       "1    Reprojected Invermay 20201008_Planet_221357 - Paddock 225.tif      4   \n",
       "2   Reprojected Invermay 20201008_Planet_221357 - Paddock 217A.tif      4   \n",
       "3    Reprojected Invermay 20201008_Planet_221357 - Paddock 224.tif      4   \n",
       "4    Reprojected Invermay 20201008_Planet_221357 - Paddock 218.tif      4   \n",
       "..                                                             ...    ...   \n",
       "18   Reprojected Invermay 20201008_Planet_221357 - Paddock 200.tif      4   \n",
       "19   Reprojected Invermay 20201008_Planet_221357 - Paddock 216.tif      4   \n",
       "20   Reprojected Invermay 20201008_Planet_221357 - Paddock 202.tif      4   \n",
       "21   Reprojected Invermay 20201008_Planet_221357 - Paddock 203.tif      4   \n",
       "22   Reprojected Invermay 20201008_Planet_221357 - Paddock 217.tif      4   \n",
       "\n",
       "    Height  Width  Resolution        CRS    Bound_Left  Bound_Bottom  \\\n",
       "0      139    148  (1.0, 1.0)  EPSG:2193  1.398484e+06  4.917795e+06   \n",
       "1      196    304  (1.0, 1.0)  EPSG:2193  1.398585e+06  4.917882e+06   \n",
       "2      148    286  (1.0, 1.0)  EPSG:2193  1.398705e+06  4.918644e+06   \n",
       "3      226    310  (1.0, 1.0)  EPSG:2193  1.398684e+06  4.917972e+06   \n",
       "4       82    193  (1.0, 1.0)  EPSG:2193  1.398561e+06  4.918711e+06   \n",
       "..     ...    ...         ...        ...           ...           ...   \n",
       "18     133    115  (1.0, 1.0)  EPSG:2193  1.398226e+06  4.918388e+06   \n",
       "19     205    310  (1.0, 1.0)  EPSG:2193  1.398586e+06  4.918441e+06   \n",
       "20     175    211  (1.0, 1.0)  EPSG:2193  1.398266e+06  4.918536e+06   \n",
       "21     145    112  (1.0, 1.0)  EPSG:2193  1.398386e+06  4.918464e+06   \n",
       "22     121    175  (1.0, 1.0)  EPSG:2193  1.398806e+06  4.918713e+06   \n",
       "\n",
       "     Bound_Right     Bound_Top  \n",
       "0   1.398632e+06  4.917934e+06  \n",
       "1   1.398889e+06  4.918078e+06  \n",
       "2   1.398991e+06  4.918792e+06  \n",
       "3   1.398994e+06  4.918198e+06  \n",
       "4   1.398754e+06  4.918793e+06  \n",
       "..           ...           ...  \n",
       "18  1.398341e+06  4.918521e+06  \n",
       "19  1.398896e+06  4.918646e+06  \n",
       "20  1.398477e+06  4.918711e+06  \n",
       "21  1.398498e+06  4.918609e+06  \n",
       "22  1.398981e+06  4.918834e+06  \n",
       "\n",
       "[23 rows x 10 columns]"
      ]
     },
     "execution_count": 19,
     "metadata": {},
     "output_type": "execute_result"
    }
   ],
   "source": [
    "filePath = '1.Reprojected Paddock'\n",
    "fileList = os.listdir(filePath)\n",
    "df_Reprojected_Invermay = imgInfo(filePath, fileList)\n",
    "df_Reprojected_Invermay\n",
    "# df_Reprojected_Invermay.to_excel('df_Reprojected_Invermay.xlsx', index=False)"
   ]
  },
  {
   "cell_type": "markdown",
   "metadata": {},
   "source": [
    "## Overlapping list"
   ]
  },
  {
   "cell_type": "code",
   "execution_count": 20,
   "metadata": {
    "tags": []
   },
   "outputs": [
    {
     "data": {
      "application/vnd.jupyter.widget-view+json": {
       "model_id": "fe366ff437134a379a1b2922a7d90bc3",
       "version_major": 2,
       "version_minor": 0
      },
      "text/plain": [
       "Processing:   0%|          | 0/23 [00:00<?, ? img/s]"
      ]
     },
     "metadata": {},
     "output_type": "display_data"
    },
    {
     "data": {
      "text/html": [
       "<div>\n",
       "<style scoped>\n",
       "    .dataframe tbody tr th:only-of-type {\n",
       "        vertical-align: middle;\n",
       "    }\n",
       "\n",
       "    .dataframe tbody tr th {\n",
       "        vertical-align: top;\n",
       "    }\n",
       "\n",
       "    .dataframe thead th {\n",
       "        text-align: right;\n",
       "    }\n",
       "</style>\n",
       "<table border=\"1\" class=\"dataframe\">\n",
       "  <thead>\n",
       "    <tr style=\"text-align: right;\">\n",
       "      <th></th>\n",
       "      <th>File_Name</th>\n",
       "      <th>Overlap_Type</th>\n",
       "      <th>Paddock_Overlap_Lidar</th>\n",
       "    </tr>\n",
       "  </thead>\n",
       "  <tbody>\n",
       "    <tr>\n",
       "      <th>0</th>\n",
       "      <td>Reprojected Invermay 20201008_Planet_221357 - Paddock 226.tif</td>\n",
       "      <td>P</td>\n",
       "      <td>[DEM_CE17_2021_1000_2806.tif, DEM_CE17_2021_1000_2906.tif]</td>\n",
       "    </tr>\n",
       "    <tr>\n",
       "      <th>1</th>\n",
       "      <td>Reprojected Invermay 20201008_Planet_221357 - Paddock 225.tif</td>\n",
       "      <td>P</td>\n",
       "      <td>[DEM_CE17_2021_1000_2806.tif, DEM_CE17_2021_1000_2807.tif]</td>\n",
       "    </tr>\n",
       "    <tr>\n",
       "      <th>2</th>\n",
       "      <td>Reprojected Invermay 20201008_Planet_221357 - Paddock 217A.tif</td>\n",
       "      <td>P</td>\n",
       "      <td>[DEM_CE17_2021_1000_2706.tif, DEM_CE17_2021_1000_2707.tif]</td>\n",
       "    </tr>\n",
       "    <tr>\n",
       "      <th>3</th>\n",
       "      <td>Reprojected Invermay 20201008_Planet_221357 - Paddock 224.tif</td>\n",
       "      <td>P</td>\n",
       "      <td>[DEM_CE17_2021_1000_2806.tif, DEM_CE17_2021_1000_2807.tif]</td>\n",
       "    </tr>\n",
       "    <tr>\n",
       "      <th>4</th>\n",
       "      <td>Reprojected Invermay 20201008_Planet_221357 - Paddock 218.tif</td>\n",
       "      <td>F</td>\n",
       "      <td>[DEM_CE17_2021_1000_2706.tif]</td>\n",
       "    </tr>\n",
       "    <tr>\n",
       "      <th>...</th>\n",
       "      <td>...</td>\n",
       "      <td>...</td>\n",
       "      <td>...</td>\n",
       "    </tr>\n",
       "    <tr>\n",
       "      <th>18</th>\n",
       "      <td>Reprojected Invermay 20201008_Planet_221357 - Paddock 200.tif</td>\n",
       "      <td>F</td>\n",
       "      <td>[DEM_CE17_2021_1000_2805.tif]</td>\n",
       "    </tr>\n",
       "    <tr>\n",
       "      <th>19</th>\n",
       "      <td>Reprojected Invermay 20201008_Planet_221357 - Paddock 216.tif</td>\n",
       "      <td>P</td>\n",
       "      <td>[DEM_CE17_2021_1000_2706.tif, DEM_CE17_2021_1000_2707.tif, DEM_CE17_2021_1000_2806.tif, DEM_CE17_2021_1000_2807.tif]</td>\n",
       "    </tr>\n",
       "    <tr>\n",
       "      <th>20</th>\n",
       "      <td>Reprojected Invermay 20201008_Planet_221357 - Paddock 202.tif</td>\n",
       "      <td>P</td>\n",
       "      <td>[DEM_CE17_2021_1000_2705.tif, DEM_CE17_2021_1000_2706.tif, DEM_CE17_2021_1000_2805.tif, DEM_CE17_2021_1000_2806.tif]</td>\n",
       "    </tr>\n",
       "    <tr>\n",
       "      <th>21</th>\n",
       "      <td>Reprojected Invermay 20201008_Planet_221357 - Paddock 203.tif</td>\n",
       "      <td>P</td>\n",
       "      <td>[DEM_CE17_2021_1000_2705.tif, DEM_CE17_2021_1000_2706.tif, DEM_CE17_2021_1000_2805.tif, DEM_CE17_2021_1000_2806.tif]</td>\n",
       "    </tr>\n",
       "    <tr>\n",
       "      <th>22</th>\n",
       "      <td>Reprojected Invermay 20201008_Planet_221357 - Paddock 217.tif</td>\n",
       "      <td>P</td>\n",
       "      <td>[DEM_CE17_2021_1000_2706.tif, DEM_CE17_2021_1000_2707.tif]</td>\n",
       "    </tr>\n",
       "  </tbody>\n",
       "</table>\n",
       "<p>23 rows × 3 columns</p>\n",
       "</div>"
      ],
      "text/plain": [
       "                                                         File_Name  \\\n",
       "0    Reprojected Invermay 20201008_Planet_221357 - Paddock 226.tif   \n",
       "1    Reprojected Invermay 20201008_Planet_221357 - Paddock 225.tif   \n",
       "2   Reprojected Invermay 20201008_Planet_221357 - Paddock 217A.tif   \n",
       "3    Reprojected Invermay 20201008_Planet_221357 - Paddock 224.tif   \n",
       "4    Reprojected Invermay 20201008_Planet_221357 - Paddock 218.tif   \n",
       "..                                                             ...   \n",
       "18   Reprojected Invermay 20201008_Planet_221357 - Paddock 200.tif   \n",
       "19   Reprojected Invermay 20201008_Planet_221357 - Paddock 216.tif   \n",
       "20   Reprojected Invermay 20201008_Planet_221357 - Paddock 202.tif   \n",
       "21   Reprojected Invermay 20201008_Planet_221357 - Paddock 203.tif   \n",
       "22   Reprojected Invermay 20201008_Planet_221357 - Paddock 217.tif   \n",
       "\n",
       "   Overlap_Type  \\\n",
       "0             P   \n",
       "1             P   \n",
       "2             P   \n",
       "3             P   \n",
       "4             F   \n",
       "..          ...   \n",
       "18            F   \n",
       "19            P   \n",
       "20            P   \n",
       "21            P   \n",
       "22            P   \n",
       "\n",
       "                                                                                                   Paddock_Overlap_Lidar  \n",
       "0                                                             [DEM_CE17_2021_1000_2806.tif, DEM_CE17_2021_1000_2906.tif]  \n",
       "1                                                             [DEM_CE17_2021_1000_2806.tif, DEM_CE17_2021_1000_2807.tif]  \n",
       "2                                                             [DEM_CE17_2021_1000_2706.tif, DEM_CE17_2021_1000_2707.tif]  \n",
       "3                                                             [DEM_CE17_2021_1000_2806.tif, DEM_CE17_2021_1000_2807.tif]  \n",
       "4                                                                                          [DEM_CE17_2021_1000_2706.tif]  \n",
       "..                                                                                                                   ...  \n",
       "18                                                                                         [DEM_CE17_2021_1000_2805.tif]  \n",
       "19  [DEM_CE17_2021_1000_2706.tif, DEM_CE17_2021_1000_2707.tif, DEM_CE17_2021_1000_2806.tif, DEM_CE17_2021_1000_2807.tif]  \n",
       "20  [DEM_CE17_2021_1000_2705.tif, DEM_CE17_2021_1000_2706.tif, DEM_CE17_2021_1000_2805.tif, DEM_CE17_2021_1000_2806.tif]  \n",
       "21  [DEM_CE17_2021_1000_2705.tif, DEM_CE17_2021_1000_2706.tif, DEM_CE17_2021_1000_2805.tif, DEM_CE17_2021_1000_2806.tif]  \n",
       "22                                                            [DEM_CE17_2021_1000_2706.tif, DEM_CE17_2021_1000_2707.tif]  \n",
       "\n",
       "[23 rows x 3 columns]"
      ]
     },
     "execution_count": 20,
     "metadata": {},
     "output_type": "execute_result"
    }
   ],
   "source": [
    "df_Overlap = Paddock_overlap_Lidar(df_Reprojected_Invermay, df_Invermay_Lidar)\n",
    "df_Overlap"
   ]
  },
  {
   "cell_type": "markdown",
   "metadata": {},
   "source": [
    "## Copy overlapping Lidar images"
   ]
  },
  {
   "cell_type": "code",
   "execution_count": 21,
   "metadata": {},
   "outputs": [
    {
     "data": {
      "application/vnd.jupyter.widget-view+json": {
       "model_id": "9a6d4f6962274abea955434a167662cd",
       "version_major": 2,
       "version_minor": 0
      },
      "text/plain": [
       "Processing:   0%|          | 0/12 [00:00<?, ? img/s]"
      ]
     },
     "metadata": {},
     "output_type": "display_data"
    }
   ],
   "source": [
    "src_path, dst_path = 'Invermay/Invermay Lidar 890', '2.Overlapping Lidar'\n",
    "fileList = {item for sublist in df_Overlap.Paddock_Overlap_Lidar.tolist() for item in sublist}\n",
    "copyFiles(src_path, dst_path, fileList)"
   ]
  },
  {
   "cell_type": "markdown",
   "metadata": {},
   "source": [
    "## Execute plotting"
   ]
  },
  {
   "cell_type": "code",
   "execution_count": 22,
   "metadata": {
    "tags": []
   },
   "outputs": [
    {
     "data": {
      "application/vnd.jupyter.widget-view+json": {
       "model_id": "9ae681c84fd74a598adc4bdb86e3636e",
       "version_major": 2,
       "version_minor": 0
      },
      "text/plain": [
       "Processing:   0%|          | 0/12 [00:00<?, ? img/s]"
      ]
     },
     "metadata": {},
     "output_type": "display_data"
    },
    {
     "data": {
      "image/png": "[encoded data removed]",
      "text/plain": [
       "<Figure size 1200x600 with 1 Axes>"
      ]
     },
     "metadata": {},
     "output_type": "display_data"
    }
   ],
   "source": [
    "filePath = '2.Overlapping Lidar'\n",
    "fileList = os.listdir(filePath)\n",
    "df_overlap_Lidar = imgInfo(filePath, fileList)\n",
    "plot_image(df_Reprojected_Invermay, df_overlap_Lidar)"
   ]
  },
  {
   "cell_type": "markdown",
   "metadata": {},
   "source": [
    "## Execute merge"
   ]
  },
  {
   "cell_type": "code",
   "execution_count": 23,
   "metadata": {
    "tags": []
   },
   "outputs": [
    {
     "data": {
      "application/vnd.jupyter.widget-view+json": {
       "model_id": "2a004acf4d3f416ea7fcb407a9a54735",
       "version_major": 2,
       "version_minor": 0
      },
      "text/plain": [
       "Processing:   0%|          | 0/23 [00:00<?, ? img/s]"
      ]
     },
     "metadata": {},
     "output_type": "display_data"
    }
   ],
   "source": [
    "filePath = '2.Overlapping Lidar'\n",
    "merge_image(filePath, df_Overlap)"
   ]
  },
  {
   "cell_type": "markdown",
   "metadata": {},
   "source": [
    "## Calculate slope of overlapping Lidar images"
   ]
  },
  {
   "cell_type": "code",
   "execution_count": 24,
   "metadata": {},
   "outputs": [
    {
     "data": {
      "application/vnd.jupyter.widget-view+json": {
       "model_id": "d331dea099454bdba70ad7f6b3fe15cd",
       "version_major": 2,
       "version_minor": 0
      },
      "text/plain": [
       "Processing:   0%|          | 0/24 [00:00<?, ? img/s]"
      ]
     },
     "metadata": {},
     "output_type": "display_data"
    }
   ],
   "source": [
    "filePath = '2.Overlapping Lidar'\n",
    "fileList = os.listdir(filePath)\n",
    "src_fileList = [filePath + '/' + i for i in fileList]\n",
    "src_pattern = '\\d+\\.tif'\n",
    "dst_path = '3.Slope Lidar'\n",
    "calculate_slope(src_fileList, src_pattern, dst_path)"
   ]
  },
  {
   "cell_type": "markdown",
   "metadata": {},
   "source": [
    "## Crop paddock area from lidar slope images"
   ]
  },
  {
   "cell_type": "code",
   "execution_count": 25,
   "metadata": {
    "tags": []
   },
   "outputs": [
    {
     "data": {
      "application/vnd.jupyter.widget-view+json": {
       "model_id": "71a90724458b46ecb070e1d1f354bf33",
       "version_major": 2,
       "version_minor": 0
      },
      "text/plain": [
       "Processing:   0%|          | 0/23 [00:00<?, ? img/s]"
      ]
     },
     "metadata": {},
     "output_type": "display_data"
    }
   ],
   "source": [
    "Paddock_path, Lidar_path, dst_path = '1.Reprojected Paddock', '3.Slope Lidar', '4.Cropped Lidar'\n",
    "crop_image(Paddock_path, Lidar_path, dst_path, df_Overlap)"
   ]
  },
  {
   "cell_type": "markdown",
   "metadata": {},
   "source": [
    "## Cropped Lidar info"
   ]
  },
  {
   "cell_type": "code",
   "execution_count": 26,
   "metadata": {},
   "outputs": [
    {
     "data": {
      "application/vnd.jupyter.widget-view+json": {
       "model_id": "6aa6eaa8c76c4f3b98f46f1569990279",
       "version_major": 2,
       "version_minor": 0
      },
      "text/plain": [
       "Processing:   0%|          | 0/23 [00:00<?, ? img/s]"
      ]
     },
     "metadata": {},
     "output_type": "display_data"
    },
    {
     "data": {
      "text/html": [
       "<div>\n",
       "<style scoped>\n",
       "    .dataframe tbody tr th:only-of-type {\n",
       "        vertical-align: middle;\n",
       "    }\n",
       "\n",
       "    .dataframe tbody tr th {\n",
       "        vertical-align: top;\n",
       "    }\n",
       "\n",
       "    .dataframe thead th {\n",
       "        text-align: right;\n",
       "    }\n",
       "</style>\n",
       "<table border=\"1\" class=\"dataframe\">\n",
       "  <thead>\n",
       "    <tr style=\"text-align: right;\">\n",
       "      <th></th>\n",
       "      <th>File_Name</th>\n",
       "      <th>Bands</th>\n",
       "      <th>Height</th>\n",
       "      <th>Width</th>\n",
       "      <th>Resolution</th>\n",
       "      <th>CRS</th>\n",
       "      <th>Bound_Left</th>\n",
       "      <th>Bound_Bottom</th>\n",
       "      <th>Bound_Right</th>\n",
       "      <th>Bound_Top</th>\n",
       "    </tr>\n",
       "  </thead>\n",
       "  <tbody>\n",
       "    <tr>\n",
       "      <th>0</th>\n",
       "      <td>Cropped Invermay 20201008_Planet_221357 - Paddock 225.tif</td>\n",
       "      <td>1</td>\n",
       "      <td>197</td>\n",
       "      <td>305</td>\n",
       "      <td>(1.0, 1.0)</td>\n",
       "      <td>EPSG:2193</td>\n",
       "      <td>1398585.0</td>\n",
       "      <td>4917882.0</td>\n",
       "      <td>1398890.0</td>\n",
       "      <td>4918079.0</td>\n",
       "    </tr>\n",
       "    <tr>\n",
       "      <th>1</th>\n",
       "      <td>Cropped Invermay 20201008_Planet_221357 - Paddock 218.tif</td>\n",
       "      <td>1</td>\n",
       "      <td>83</td>\n",
       "      <td>194</td>\n",
       "      <td>(1.0, 1.0)</td>\n",
       "      <td>EPSG:2193</td>\n",
       "      <td>1398561.0</td>\n",
       "      <td>4918710.0</td>\n",
       "      <td>1398755.0</td>\n",
       "      <td>4918793.0</td>\n",
       "    </tr>\n",
       "    <tr>\n",
       "      <th>2</th>\n",
       "      <td>Cropped Invermay 20201008_Planet_221357 - Paddock 224.tif</td>\n",
       "      <td>1</td>\n",
       "      <td>227</td>\n",
       "      <td>311</td>\n",
       "      <td>(1.0, 1.0)</td>\n",
       "      <td>EPSG:2193</td>\n",
       "      <td>1398684.0</td>\n",
       "      <td>4917972.0</td>\n",
       "      <td>1398995.0</td>\n",
       "      <td>4918199.0</td>\n",
       "    </tr>\n",
       "    <tr>\n",
       "      <th>3</th>\n",
       "      <td>Cropped Invermay 20201008_Planet_221357 - Paddock 226.tif</td>\n",
       "      <td>1</td>\n",
       "      <td>140</td>\n",
       "      <td>149</td>\n",
       "      <td>(1.0, 1.0)</td>\n",
       "      <td>EPSG:2193</td>\n",
       "      <td>1398483.0</td>\n",
       "      <td>4917794.0</td>\n",
       "      <td>1398632.0</td>\n",
       "      <td>4917934.0</td>\n",
       "    </tr>\n",
       "    <tr>\n",
       "      <th>4</th>\n",
       "      <td>Cropped Invermay 20201008_Planet_221357 - Paddock 223.tif</td>\n",
       "      <td>1</td>\n",
       "      <td>272</td>\n",
       "      <td>347</td>\n",
       "      <td>(1.0, 1.0)</td>\n",
       "      <td>EPSG:2193</td>\n",
       "      <td>1398731.0</td>\n",
       "      <td>4918100.0</td>\n",
       "      <td>1399078.0</td>\n",
       "      <td>4918372.0</td>\n",
       "    </tr>\n",
       "    <tr>\n",
       "      <th>...</th>\n",
       "      <td>...</td>\n",
       "      <td>...</td>\n",
       "      <td>...</td>\n",
       "      <td>...</td>\n",
       "      <td>...</td>\n",
       "      <td>...</td>\n",
       "      <td>...</td>\n",
       "      <td>...</td>\n",
       "      <td>...</td>\n",
       "      <td>...</td>\n",
       "    </tr>\n",
       "    <tr>\n",
       "      <th>18</th>\n",
       "      <td>Cropped Invermay 20201008_Planet_221357 - Paddock 203.tif</td>\n",
       "      <td>1</td>\n",
       "      <td>146</td>\n",
       "      <td>113</td>\n",
       "      <td>(1.0, 1.0)</td>\n",
       "      <td>EPSG:2193</td>\n",
       "      <td>1398385.0</td>\n",
       "      <td>4918463.0</td>\n",
       "      <td>1398498.0</td>\n",
       "      <td>4918609.0</td>\n",
       "    </tr>\n",
       "    <tr>\n",
       "      <th>19</th>\n",
       "      <td>Cropped Invermay 20201008_Planet_221357 - Paddock 217.tif</td>\n",
       "      <td>1</td>\n",
       "      <td>122</td>\n",
       "      <td>176</td>\n",
       "      <td>(1.0, 1.0)</td>\n",
       "      <td>EPSG:2193</td>\n",
       "      <td>1398806.0</td>\n",
       "      <td>4918713.0</td>\n",
       "      <td>1398982.0</td>\n",
       "      <td>4918835.0</td>\n",
       "    </tr>\n",
       "    <tr>\n",
       "      <th>20</th>\n",
       "      <td>Cropped Invermay 20201008_Planet_221357 - Paddock 201.tif</td>\n",
       "      <td>1</td>\n",
       "      <td>137</td>\n",
       "      <td>119</td>\n",
       "      <td>(1.0, 1.0)</td>\n",
       "      <td>EPSG:2193</td>\n",
       "      <td>1398256.0</td>\n",
       "      <td>4918460.0</td>\n",
       "      <td>1398375.0</td>\n",
       "      <td>4918597.0</td>\n",
       "    </tr>\n",
       "    <tr>\n",
       "      <th>21</th>\n",
       "      <td>Cropped Invermay 20201008_Planet_221357 - Paddock 215.tif</td>\n",
       "      <td>1</td>\n",
       "      <td>161</td>\n",
       "      <td>155</td>\n",
       "      <td>(1.0, 1.0)</td>\n",
       "      <td>EPSG:2193</td>\n",
       "      <td>1398626.0</td>\n",
       "      <td>4918296.0</td>\n",
       "      <td>1398781.0</td>\n",
       "      <td>4918457.0</td>\n",
       "    </tr>\n",
       "    <tr>\n",
       "      <th>22</th>\n",
       "      <td>Cropped Invermay 20201008_Planet_221357 - Paddock 200.tif</td>\n",
       "      <td>1</td>\n",
       "      <td>134</td>\n",
       "      <td>116</td>\n",
       "      <td>(1.0, 1.0)</td>\n",
       "      <td>EPSG:2193</td>\n",
       "      <td>1398225.0</td>\n",
       "      <td>4918387.0</td>\n",
       "      <td>1398341.0</td>\n",
       "      <td>4918521.0</td>\n",
       "    </tr>\n",
       "  </tbody>\n",
       "</table>\n",
       "<p>23 rows × 10 columns</p>\n",
       "</div>"
      ],
      "text/plain": [
       "                                                    File_Name  Bands  Height  \\\n",
       "0   Cropped Invermay 20201008_Planet_221357 - Paddock 225.tif      1     197   \n",
       "1   Cropped Invermay 20201008_Planet_221357 - Paddock 218.tif      1      83   \n",
       "2   Cropped Invermay 20201008_Planet_221357 - Paddock 224.tif      1     227   \n",
       "3   Cropped Invermay 20201008_Planet_221357 - Paddock 226.tif      1     140   \n",
       "4   Cropped Invermay 20201008_Planet_221357 - Paddock 223.tif      1     272   \n",
       "..                                                        ...    ...     ...   \n",
       "18  Cropped Invermay 20201008_Planet_221357 - Paddock 203.tif      1     146   \n",
       "19  Cropped Invermay 20201008_Planet_221357 - Paddock 217.tif      1     122   \n",
       "20  Cropped Invermay 20201008_Planet_221357 - Paddock 201.tif      1     137   \n",
       "21  Cropped Invermay 20201008_Planet_221357 - Paddock 215.tif      1     161   \n",
       "22  Cropped Invermay 20201008_Planet_221357 - Paddock 200.tif      1     134   \n",
       "\n",
       "    Width  Resolution        CRS  Bound_Left  Bound_Bottom  Bound_Right  \\\n",
       "0     305  (1.0, 1.0)  EPSG:2193   1398585.0     4917882.0    1398890.0   \n",
       "1     194  (1.0, 1.0)  EPSG:2193   1398561.0     4918710.0    1398755.0   \n",
       "2     311  (1.0, 1.0)  EPSG:2193   1398684.0     4917972.0    1398995.0   \n",
       "3     149  (1.0, 1.0)  EPSG:2193   1398483.0     4917794.0    1398632.0   \n",
       "4     347  (1.0, 1.0)  EPSG:2193   1398731.0     4918100.0    1399078.0   \n",
       "..    ...         ...        ...         ...           ...          ...   \n",
       "18    113  (1.0, 1.0)  EPSG:2193   1398385.0     4918463.0    1398498.0   \n",
       "19    176  (1.0, 1.0)  EPSG:2193   1398806.0     4918713.0    1398982.0   \n",
       "20    119  (1.0, 1.0)  EPSG:2193   1398256.0     4918460.0    1398375.0   \n",
       "21    155  (1.0, 1.0)  EPSG:2193   1398626.0     4918296.0    1398781.0   \n",
       "22    116  (1.0, 1.0)  EPSG:2193   1398225.0     4918387.0    1398341.0   \n",
       "\n",
       "    Bound_Top  \n",
       "0   4918079.0  \n",
       "1   4918793.0  \n",
       "2   4918199.0  \n",
       "3   4917934.0  \n",
       "4   4918372.0  \n",
       "..        ...  \n",
       "18  4918609.0  \n",
       "19  4918835.0  \n",
       "20  4918597.0  \n",
       "21  4918457.0  \n",
       "22  4918521.0  \n",
       "\n",
       "[23 rows x 10 columns]"
      ]
     },
     "execution_count": 26,
     "metadata": {},
     "output_type": "execute_result"
    }
   ],
   "source": [
    "filePath = '4.Cropped Lidar'\n",
    "fileList = os.listdir(filePath)\n",
    "df_slope_Invermay = imgInfo(filePath, fileList)\n",
    "df_slope_Invermay"
   ]
  },
  {
   "cell_type": "markdown",
   "metadata": {},
   "source": [
    "## Execute trim and mask"
   ]
  },
  {
   "cell_type": "code",
   "execution_count": 27,
   "metadata": {},
   "outputs": [
    {
     "data": {
      "application/vnd.jupyter.widget-view+json": {
       "model_id": "2ff3cbc43ae84523b6cd7fdd0c62901b",
       "version_major": 2,
       "version_minor": 0
      },
      "text/plain": [
       "Processing:   0%|          | 0/23 [00:00<?, ? img/s]"
      ]
     },
     "metadata": {},
     "output_type": "display_data"
    }
   ],
   "source": [
    "cropped_filePath = '4.Cropped Lidar'\n",
    "cropped_fileList = os.listdir(cropped_filePath)\n",
    "reprojected_filePath = '1.Reprojected Paddock'\n",
    "dst_path = '5.Prepared Paddock'\n",
    "save_slope_band(cropped_filePath, cropped_fileList, reprojected_filePath, dst_path)"
   ]
  },
  {
   "cell_type": "markdown",
   "metadata": {},
   "source": [
    "## Prepared paddock info"
   ]
  },
  {
   "cell_type": "code",
   "execution_count": 28,
   "metadata": {},
   "outputs": [
    {
     "data": {
      "application/vnd.jupyter.widget-view+json": {
       "model_id": "acfc258f5c6548e1a0b7e7cac323a77e",
       "version_major": 2,
       "version_minor": 0
      },
      "text/plain": [
       "Processing:   0%|          | 0/23 [00:00<?, ? img/s]"
      ]
     },
     "metadata": {},
     "output_type": "display_data"
    },
    {
     "data": {
      "text/html": [
       "<div>\n",
       "<style scoped>\n",
       "    .dataframe tbody tr th:only-of-type {\n",
       "        vertical-align: middle;\n",
       "    }\n",
       "\n",
       "    .dataframe tbody tr th {\n",
       "        vertical-align: top;\n",
       "    }\n",
       "\n",
       "    .dataframe thead th {\n",
       "        text-align: right;\n",
       "    }\n",
       "</style>\n",
       "<table border=\"1\" class=\"dataframe\">\n",
       "  <thead>\n",
       "    <tr style=\"text-align: right;\">\n",
       "      <th></th>\n",
       "      <th>File_Name</th>\n",
       "      <th>Bands</th>\n",
       "      <th>Height</th>\n",
       "      <th>Width</th>\n",
       "      <th>Resolution</th>\n",
       "      <th>CRS</th>\n",
       "      <th>Bound_Left</th>\n",
       "      <th>Bound_Bottom</th>\n",
       "      <th>Bound_Right</th>\n",
       "      <th>Bound_Top</th>\n",
       "    </tr>\n",
       "  </thead>\n",
       "  <tbody>\n",
       "    <tr>\n",
       "      <th>0</th>\n",
       "      <td>Prepared Invermay 20201008_Planet_221357 - Paddock 218.tif</td>\n",
       "      <td>5</td>\n",
       "      <td>82</td>\n",
       "      <td>193</td>\n",
       "      <td>(1.0, 1.0)</td>\n",
       "      <td>EPSG:2193</td>\n",
       "      <td>1.398561e+06</td>\n",
       "      <td>4.918711e+06</td>\n",
       "      <td>1.398754e+06</td>\n",
       "      <td>4.918793e+06</td>\n",
       "    </tr>\n",
       "    <tr>\n",
       "      <th>1</th>\n",
       "      <td>Prepared Invermay 20201008_Planet_221357 - Paddock 224.tif</td>\n",
       "      <td>5</td>\n",
       "      <td>226</td>\n",
       "      <td>310</td>\n",
       "      <td>(1.0, 1.0)</td>\n",
       "      <td>EPSG:2193</td>\n",
       "      <td>1.398684e+06</td>\n",
       "      <td>4.917972e+06</td>\n",
       "      <td>1.398994e+06</td>\n",
       "      <td>4.918198e+06</td>\n",
       "    </tr>\n",
       "    <tr>\n",
       "      <th>2</th>\n",
       "      <td>Prepared Invermay 20201008_Planet_221357 - Paddock 225.tif</td>\n",
       "      <td>5</td>\n",
       "      <td>196</td>\n",
       "      <td>304</td>\n",
       "      <td>(1.0, 1.0)</td>\n",
       "      <td>EPSG:2193</td>\n",
       "      <td>1.398585e+06</td>\n",
       "      <td>4.917882e+06</td>\n",
       "      <td>1.398889e+06</td>\n",
       "      <td>4.918078e+06</td>\n",
       "    </tr>\n",
       "    <tr>\n",
       "      <th>3</th>\n",
       "      <td>Prepared Invermay 20201008_Planet_221357 - Paddock 226.tif</td>\n",
       "      <td>5</td>\n",
       "      <td>139</td>\n",
       "      <td>148</td>\n",
       "      <td>(1.0, 1.0)</td>\n",
       "      <td>EPSG:2193</td>\n",
       "      <td>1.398484e+06</td>\n",
       "      <td>4.917795e+06</td>\n",
       "      <td>1.398632e+06</td>\n",
       "      <td>4.917934e+06</td>\n",
       "    </tr>\n",
       "    <tr>\n",
       "      <th>4</th>\n",
       "      <td>Prepared Invermay 20201008_Planet_221357 - Paddock 222.tif</td>\n",
       "      <td>5</td>\n",
       "      <td>196</td>\n",
       "      <td>202</td>\n",
       "      <td>(1.0, 1.0)</td>\n",
       "      <td>EPSG:2193</td>\n",
       "      <td>1.399019e+06</td>\n",
       "      <td>4.918203e+06</td>\n",
       "      <td>1.399221e+06</td>\n",
       "      <td>4.918399e+06</td>\n",
       "    </tr>\n",
       "    <tr>\n",
       "      <th>...</th>\n",
       "      <td>...</td>\n",
       "      <td>...</td>\n",
       "      <td>...</td>\n",
       "      <td>...</td>\n",
       "      <td>...</td>\n",
       "      <td>...</td>\n",
       "      <td>...</td>\n",
       "      <td>...</td>\n",
       "      <td>...</td>\n",
       "      <td>...</td>\n",
       "    </tr>\n",
       "    <tr>\n",
       "      <th>18</th>\n",
       "      <td>Prepared Invermay 20201008_Planet_221357 - Paddock 202.tif</td>\n",
       "      <td>5</td>\n",
       "      <td>175</td>\n",
       "      <td>211</td>\n",
       "      <td>(1.0, 1.0)</td>\n",
       "      <td>EPSG:2193</td>\n",
       "      <td>1.398266e+06</td>\n",
       "      <td>4.918536e+06</td>\n",
       "      <td>1.398477e+06</td>\n",
       "      <td>4.918711e+06</td>\n",
       "    </tr>\n",
       "    <tr>\n",
       "      <th>19</th>\n",
       "      <td>Prepared Invermay 20201008_Planet_221357 - Paddock 216.tif</td>\n",
       "      <td>5</td>\n",
       "      <td>205</td>\n",
       "      <td>310</td>\n",
       "      <td>(1.0, 1.0)</td>\n",
       "      <td>EPSG:2193</td>\n",
       "      <td>1.398586e+06</td>\n",
       "      <td>4.918441e+06</td>\n",
       "      <td>1.398896e+06</td>\n",
       "      <td>4.918646e+06</td>\n",
       "    </tr>\n",
       "    <tr>\n",
       "      <th>20</th>\n",
       "      <td>Prepared Invermay 20201008_Planet_221357 - Paddock 200.tif</td>\n",
       "      <td>5</td>\n",
       "      <td>133</td>\n",
       "      <td>115</td>\n",
       "      <td>(1.0, 1.0)</td>\n",
       "      <td>EPSG:2193</td>\n",
       "      <td>1.398226e+06</td>\n",
       "      <td>4.918388e+06</td>\n",
       "      <td>1.398341e+06</td>\n",
       "      <td>4.918521e+06</td>\n",
       "    </tr>\n",
       "    <tr>\n",
       "      <th>21</th>\n",
       "      <td>Prepared Invermay 20201008_Planet_221357 - Paddock 215.tif</td>\n",
       "      <td>5</td>\n",
       "      <td>160</td>\n",
       "      <td>154</td>\n",
       "      <td>(1.0, 1.0)</td>\n",
       "      <td>EPSG:2193</td>\n",
       "      <td>1.398627e+06</td>\n",
       "      <td>4.918297e+06</td>\n",
       "      <td>1.398781e+06</td>\n",
       "      <td>4.918457e+06</td>\n",
       "    </tr>\n",
       "    <tr>\n",
       "      <th>22</th>\n",
       "      <td>Prepared Invermay 20201008_Planet_221357 - Paddock 201.tif</td>\n",
       "      <td>5</td>\n",
       "      <td>136</td>\n",
       "      <td>118</td>\n",
       "      <td>(1.0, 1.0)</td>\n",
       "      <td>EPSG:2193</td>\n",
       "      <td>1.398257e+06</td>\n",
       "      <td>4.918461e+06</td>\n",
       "      <td>1.398375e+06</td>\n",
       "      <td>4.918597e+06</td>\n",
       "    </tr>\n",
       "  </tbody>\n",
       "</table>\n",
       "<p>23 rows × 10 columns</p>\n",
       "</div>"
      ],
      "text/plain": [
       "                                                     File_Name  Bands  Height  \\\n",
       "0   Prepared Invermay 20201008_Planet_221357 - Paddock 218.tif      5      82   \n",
       "1   Prepared Invermay 20201008_Planet_221357 - Paddock 224.tif      5     226   \n",
       "2   Prepared Invermay 20201008_Planet_221357 - Paddock 225.tif      5     196   \n",
       "3   Prepared Invermay 20201008_Planet_221357 - Paddock 226.tif      5     139   \n",
       "4   Prepared Invermay 20201008_Planet_221357 - Paddock 222.tif      5     196   \n",
       "..                                                         ...    ...     ...   \n",
       "18  Prepared Invermay 20201008_Planet_221357 - Paddock 202.tif      5     175   \n",
       "19  Prepared Invermay 20201008_Planet_221357 - Paddock 216.tif      5     205   \n",
       "20  Prepared Invermay 20201008_Planet_221357 - Paddock 200.tif      5     133   \n",
       "21  Prepared Invermay 20201008_Planet_221357 - Paddock 215.tif      5     160   \n",
       "22  Prepared Invermay 20201008_Planet_221357 - Paddock 201.tif      5     136   \n",
       "\n",
       "    Width  Resolution        CRS    Bound_Left  Bound_Bottom   Bound_Right  \\\n",
       "0     193  (1.0, 1.0)  EPSG:2193  1.398561e+06  4.918711e+06  1.398754e+06   \n",
       "1     310  (1.0, 1.0)  EPSG:2193  1.398684e+06  4.917972e+06  1.398994e+06   \n",
       "2     304  (1.0, 1.0)  EPSG:2193  1.398585e+06  4.917882e+06  1.398889e+06   \n",
       "3     148  (1.0, 1.0)  EPSG:2193  1.398484e+06  4.917795e+06  1.398632e+06   \n",
       "4     202  (1.0, 1.0)  EPSG:2193  1.399019e+06  4.918203e+06  1.399221e+06   \n",
       "..    ...         ...        ...           ...           ...           ...   \n",
       "18    211  (1.0, 1.0)  EPSG:2193  1.398266e+06  4.918536e+06  1.398477e+06   \n",
       "19    310  (1.0, 1.0)  EPSG:2193  1.398586e+06  4.918441e+06  1.398896e+06   \n",
       "20    115  (1.0, 1.0)  EPSG:2193  1.398226e+06  4.918388e+06  1.398341e+06   \n",
       "21    154  (1.0, 1.0)  EPSG:2193  1.398627e+06  4.918297e+06  1.398781e+06   \n",
       "22    118  (1.0, 1.0)  EPSG:2193  1.398257e+06  4.918461e+06  1.398375e+06   \n",
       "\n",
       "       Bound_Top  \n",
       "0   4.918793e+06  \n",
       "1   4.918198e+06  \n",
       "2   4.918078e+06  \n",
       "3   4.917934e+06  \n",
       "4   4.918399e+06  \n",
       "..           ...  \n",
       "18  4.918711e+06  \n",
       "19  4.918646e+06  \n",
       "20  4.918521e+06  \n",
       "21  4.918457e+06  \n",
       "22  4.918597e+06  \n",
       "\n",
       "[23 rows x 10 columns]"
      ]
     },
     "execution_count": 28,
     "metadata": {},
     "output_type": "execute_result"
    }
   ],
   "source": [
    "filePath = '5.Prepared Paddock'\n",
    "fileList = os.listdir(filePath)\n",
    "df_Prepared_Invermay = imgInfo(filePath, fileList)\n",
    "df_Prepared_Invermay"
   ]
  },
  {
   "cell_type": "markdown",
   "metadata": {},
   "source": [
    "# Implementation all Invermay images"
   ]
  },
  {
   "cell_type": "code",
   "execution_count": 29,
   "metadata": {
    "scrolled": true
   },
   "outputs": [
    {
     "data": {
      "application/vnd.jupyter.widget-view+json": {
       "model_id": "0571ece7839546ea91ee0376923b42b0",
       "version_major": 2,
       "version_minor": 0
      },
      "text/plain": [
       "Processing:   0%|          | 0/23 [00:00<?, ? img/s]"
      ]
     },
     "metadata": {},
     "output_type": "display_data"
    },
    {
     "data": {
      "application/vnd.jupyter.widget-view+json": {
       "model_id": "23461ee3ca244e60a5d051e7ee3cd8c7",
       "version_major": 2,
       "version_minor": 0
      },
      "text/plain": [
       "Processing:   0%|          | 0/23 [00:00<?, ? img/s]"
      ]
     },
     "metadata": {},
     "output_type": "display_data"
    },
    {
     "data": {
      "application/vnd.jupyter.widget-view+json": {
       "model_id": "ef86f41da5ed48feaf1433526f9f6bb9",
       "version_major": 2,
       "version_minor": 0
      },
      "text/plain": [
       "Processing:   0%|          | 0/23 [00:00<?, ? img/s]"
      ]
     },
     "metadata": {},
     "output_type": "display_data"
    },
    {
     "data": {
      "application/vnd.jupyter.widget-view+json": {
       "model_id": "65c71358bda34470a67665312b6cc859",
       "version_major": 2,
       "version_minor": 0
      },
      "text/plain": [
       "Processing:   0%|          | 0/23 [00:00<?, ? img/s]"
      ]
     },
     "metadata": {},
     "output_type": "display_data"
    },
    {
     "data": {
      "application/vnd.jupyter.widget-view+json": {
       "model_id": "0235f844387240e39633a3d8203041d5",
       "version_major": 2,
       "version_minor": 0
      },
      "text/plain": [
       "Processing:   0%|          | 0/12 [00:00<?, ? img/s]"
      ]
     },
     "metadata": {},
     "output_type": "display_data"
    },
    {
     "data": {
      "application/vnd.jupyter.widget-view+json": {
       "model_id": "ed1516460e79484597b422174bd8f291",
       "version_major": 2,
       "version_minor": 0
      },
      "text/plain": [
       "Processing:   0%|          | 0/23 [00:00<?, ? img/s]"
      ]
     },
     "metadata": {},
     "output_type": "display_data"
    },
    {
     "data": {
      "application/vnd.jupyter.widget-view+json": {
       "model_id": "c1084d103a564975b96cccd02f58a2b9",
       "version_major": 2,
       "version_minor": 0
      },
      "text/plain": [
       "Processing:   0%|          | 0/24 [00:00<?, ? img/s]"
      ]
     },
     "metadata": {},
     "output_type": "display_data"
    },
    {
     "data": {
      "application/vnd.jupyter.widget-view+json": {
       "model_id": "ec0f13434df94c67b260f436771c7f39",
       "version_major": 2,
       "version_minor": 0
      },
      "text/plain": [
       "Processing:   0%|          | 0/23 [00:00<?, ? img/s]"
      ]
     },
     "metadata": {},
     "output_type": "display_data"
    },
    {
     "data": {
      "application/vnd.jupyter.widget-view+json": {
       "model_id": "29f7ce011f4a4f99a322b35f1f7c2e9d",
       "version_major": 2,
       "version_minor": 0
      },
      "text/plain": [
       "Processing:   0%|          | 0/23 [00:00<?, ? img/s]"
      ]
     },
     "metadata": {},
     "output_type": "display_data"
    },
    {
     "data": {
      "application/vnd.jupyter.widget-view+json": {
       "model_id": "312fe9b7891544e6b5edae5728f5b4a4",
       "version_major": 2,
       "version_minor": 0
      },
      "text/plain": [
       "Processing:   0%|          | 0/32 [00:00<?, ? img/s]"
      ]
     },
     "metadata": {},
     "output_type": "display_data"
    },
    {
     "data": {
      "application/vnd.jupyter.widget-view+json": {
       "model_id": "7534137fe55b496498b10f1c4a23ae94",
       "version_major": 2,
       "version_minor": 0
      },
      "text/plain": [
       "Processing:   0%|          | 0/32 [00:00<?, ? img/s]"
      ]
     },
     "metadata": {},
     "output_type": "display_data"
    },
    {
     "data": {
      "application/vnd.jupyter.widget-view+json": {
       "model_id": "6fe17327a3144622906482dbb5a0ffa6",
       "version_major": 2,
       "version_minor": 0
      },
      "text/plain": [
       "Processing:   0%|          | 0/32 [00:00<?, ? img/s]"
      ]
     },
     "metadata": {},
     "output_type": "display_data"
    },
    {
     "data": {
      "application/vnd.jupyter.widget-view+json": {
       "model_id": "01124222753c4a0b9214213ac0856bd8",
       "version_major": 2,
       "version_minor": 0
      },
      "text/plain": [
       "Processing:   0%|          | 0/32 [00:00<?, ? img/s]"
      ]
     },
     "metadata": {},
     "output_type": "display_data"
    },
    {
     "data": {
      "application/vnd.jupyter.widget-view+json": {
       "model_id": "05f69b95657b441995e1b484cb5cdbc3",
       "version_major": 2,
       "version_minor": 0
      },
      "text/plain": [
       "Processing:   0%|          | 0/5 [00:00<?, ? img/s]"
      ]
     },
     "metadata": {},
     "output_type": "display_data"
    },
    {
     "data": {
      "application/vnd.jupyter.widget-view+json": {
       "model_id": "46647668c75841f5ab1c111175771c88",
       "version_major": 2,
       "version_minor": 0
      },
      "text/plain": [
       "Processing:   0%|          | 0/32 [00:00<?, ? img/s]"
      ]
     },
     "metadata": {},
     "output_type": "display_data"
    },
    {
     "data": {
      "application/vnd.jupyter.widget-view+json": {
       "model_id": "dcfde392d73c4f8ea361ba80886c667b",
       "version_major": 2,
       "version_minor": 0
      },
      "text/plain": [
       "Processing:   0%|          | 0/9 [00:00<?, ? img/s]"
      ]
     },
     "metadata": {},
     "output_type": "display_data"
    },
    {
     "data": {
      "application/vnd.jupyter.widget-view+json": {
       "model_id": "57dc44c656694d77883af45a4aef358b",
       "version_major": 2,
       "version_minor": 0
      },
      "text/plain": [
       "Processing:   0%|          | 0/32 [00:00<?, ? img/s]"
      ]
     },
     "metadata": {},
     "output_type": "display_data"
    },
    {
     "data": {
      "application/vnd.jupyter.widget-view+json": {
       "model_id": "87eda554815d4de589a70423873779d2",
       "version_major": 2,
       "version_minor": 0
      },
      "text/plain": [
       "Processing:   0%|          | 0/32 [00:00<?, ? img/s]"
      ]
     },
     "metadata": {},
     "output_type": "display_data"
    },
    {
     "data": {
      "application/vnd.jupyter.widget-view+json": {
       "model_id": "8459555d26f847c888614eceaf1782d5",
       "version_major": 2,
       "version_minor": 0
      },
      "text/plain": [
       "Processing:   0%|          | 0/11 [00:00<?, ? img/s]"
      ]
     },
     "metadata": {},
     "output_type": "display_data"
    },
    {
     "data": {
      "application/vnd.jupyter.widget-view+json": {
       "model_id": "2eb5bd5a2c514342865d7aa41dd1319c",
       "version_major": 2,
       "version_minor": 0
      },
      "text/plain": [
       "Processing:   0%|          | 0/11 [00:00<?, ? img/s]"
      ]
     },
     "metadata": {},
     "output_type": "display_data"
    },
    {
     "data": {
      "application/vnd.jupyter.widget-view+json": {
       "model_id": "f5ce6f63804e4105a21dcb9c71c981a8",
       "version_major": 2,
       "version_minor": 0
      },
      "text/plain": [
       "Processing:   0%|          | 0/11 [00:00<?, ? img/s]"
      ]
     },
     "metadata": {},
     "output_type": "display_data"
    },
    {
     "data": {
      "application/vnd.jupyter.widget-view+json": {
       "model_id": "a3364d9477144b10bcac4000d626d9a3",
       "version_major": 2,
       "version_minor": 0
      },
      "text/plain": [
       "Processing:   0%|          | 0/11 [00:00<?, ? img/s]"
      ]
     },
     "metadata": {},
     "output_type": "display_data"
    },
    {
     "data": {
      "application/vnd.jupyter.widget-view+json": {
       "model_id": "f45bfcfe723e4221903ff6b97176b1ae",
       "version_major": 2,
       "version_minor": 0
      },
      "text/plain": [
       "Processing:   0%|          | 0/11 [00:00<?, ? img/s]"
      ]
     },
     "metadata": {},
     "output_type": "display_data"
    },
    {
     "data": {
      "application/vnd.jupyter.widget-view+json": {
       "model_id": "9a0c7c2f1b4b4a678194286b5df7f7f5",
       "version_major": 2,
       "version_minor": 0
      },
      "text/plain": [
       "Processing:   0%|          | 0/11 [00:00<?, ? img/s]"
      ]
     },
     "metadata": {},
     "output_type": "display_data"
    },
    {
     "data": {
      "application/vnd.jupyter.widget-view+json": {
       "model_id": "339d201dbf884af684b97a6d37491c56",
       "version_major": 2,
       "version_minor": 0
      },
      "text/plain": [
       "Processing:   0%|          | 0/16 [00:00<?, ? img/s]"
      ]
     },
     "metadata": {},
     "output_type": "display_data"
    },
    {
     "data": {
      "application/vnd.jupyter.widget-view+json": {
       "model_id": "309b9292a5fe4183960993152fbcf597",
       "version_major": 2,
       "version_minor": 0
      },
      "text/plain": [
       "Processing:   0%|          | 0/11 [00:00<?, ? img/s]"
      ]
     },
     "metadata": {},
     "output_type": "display_data"
    },
    {
     "data": {
      "application/vnd.jupyter.widget-view+json": {
       "model_id": "222c794b97784637af25a674f6c59aa5",
       "version_major": 2,
       "version_minor": 0
      },
      "text/plain": [
       "Processing:   0%|          | 0/11 [00:00<?, ? img/s]"
      ]
     },
     "metadata": {},
     "output_type": "display_data"
    },
    {
     "data": {
      "application/vnd.jupyter.widget-view+json": {
       "model_id": "8d8fdb94b3b742b886bb8dff2e61cb9a",
       "version_major": 2,
       "version_minor": 0
      },
      "text/plain": [
       "Processing:   0%|          | 0/35 [00:00<?, ? img/s]"
      ]
     },
     "metadata": {},
     "output_type": "display_data"
    },
    {
     "data": {
      "application/vnd.jupyter.widget-view+json": {
       "model_id": "86d906e971754217a6d95673d549fb50",
       "version_major": 2,
       "version_minor": 0
      },
      "text/plain": [
       "Processing:   0%|          | 0/35 [00:00<?, ? img/s]"
      ]
     },
     "metadata": {},
     "output_type": "display_data"
    },
    {
     "data": {
      "application/vnd.jupyter.widget-view+json": {
       "model_id": "c20cb128f5ec46cf83868f039947721b",
       "version_major": 2,
       "version_minor": 0
      },
      "text/plain": [
       "Processing:   0%|          | 0/35 [00:00<?, ? img/s]"
      ]
     },
     "metadata": {},
     "output_type": "display_data"
    },
    {
     "data": {
      "application/vnd.jupyter.widget-view+json": {
       "model_id": "671233900df44ed3ac97f4decc06bc39",
       "version_major": 2,
       "version_minor": 0
      },
      "text/plain": [
       "Processing:   0%|          | 0/35 [00:00<?, ? img/s]"
      ]
     },
     "metadata": {},
     "output_type": "display_data"
    },
    {
     "data": {
      "application/vnd.jupyter.widget-view+json": {
       "model_id": "5ec8eb06205c404ca9412a8e8ef4d3ac",
       "version_major": 2,
       "version_minor": 0
      },
      "text/plain": [
       "Processing:   0%|          | 0/8 [00:00<?, ? img/s]"
      ]
     },
     "metadata": {},
     "output_type": "display_data"
    },
    {
     "data": {
      "application/vnd.jupyter.widget-view+json": {
       "model_id": "a33d7651bc934442b0f4a23024bdfc2a",
       "version_major": 2,
       "version_minor": 0
      },
      "text/plain": [
       "Processing:   0%|          | 0/35 [00:00<?, ? img/s]"
      ]
     },
     "metadata": {},
     "output_type": "display_data"
    },
    {
     "data": {
      "application/vnd.jupyter.widget-view+json": {
       "model_id": "1ec1e84b0b024569ac40b4f4c34526d1",
       "version_major": 2,
       "version_minor": 0
      },
      "text/plain": [
       "Processing:   0%|          | 0/14 [00:00<?, ? img/s]"
      ]
     },
     "metadata": {},
     "output_type": "display_data"
    },
    {
     "data": {
      "application/vnd.jupyter.widget-view+json": {
       "model_id": "5a17aaa968c34ede8b97404d181d68c2",
       "version_major": 2,
       "version_minor": 0
      },
      "text/plain": [
       "Processing:   0%|          | 0/35 [00:00<?, ? img/s]"
      ]
     },
     "metadata": {},
     "output_type": "display_data"
    },
    {
     "data": {
      "application/vnd.jupyter.widget-view+json": {
       "model_id": "8ca52d52c354401aa0b758c32a2ebb71",
       "version_major": 2,
       "version_minor": 0
      },
      "text/plain": [
       "Processing:   0%|          | 0/35 [00:00<?, ? img/s]"
      ]
     },
     "metadata": {},
     "output_type": "display_data"
    },
    {
     "data": {
      "application/vnd.jupyter.widget-view+json": {
       "model_id": "9e7d026918a34a60bee70a8d7cab2031",
       "version_major": 2,
       "version_minor": 0
      },
      "text/plain": [
       "Processing:   0%|          | 0/4 [00:00<?, ? img/s]"
      ]
     },
     "metadata": {},
     "output_type": "display_data"
    },
    {
     "data": {
      "application/vnd.jupyter.widget-view+json": {
       "model_id": "9f249644765f4da99b15562711b3e95e",
       "version_major": 2,
       "version_minor": 0
      },
      "text/plain": [
       "Processing:   0%|          | 0/4 [00:00<?, ? img/s]"
      ]
     },
     "metadata": {},
     "output_type": "display_data"
    },
    {
     "data": {
      "application/vnd.jupyter.widget-view+json": {
       "model_id": "6881e6fca9e24d67a1b581c229ae264d",
       "version_major": 2,
       "version_minor": 0
      },
      "text/plain": [
       "Processing:   0%|          | 0/4 [00:00<?, ? img/s]"
      ]
     },
     "metadata": {},
     "output_type": "display_data"
    },
    {
     "data": {
      "application/vnd.jupyter.widget-view+json": {
       "model_id": "0c6ebb8c091447439140635e477f1177",
       "version_major": 2,
       "version_minor": 0
      },
      "text/plain": [
       "Processing:   0%|          | 0/4 [00:00<?, ? img/s]"
      ]
     },
     "metadata": {},
     "output_type": "display_data"
    },
    {
     "data": {
      "application/vnd.jupyter.widget-view+json": {
       "model_id": "cc8c63a2cdf049b59490e23789b164d2",
       "version_major": 2,
       "version_minor": 0
      },
      "text/plain": [
       "Processing:   0%|          | 0/4 [00:00<?, ? img/s]"
      ]
     },
     "metadata": {},
     "output_type": "display_data"
    },
    {
     "data": {
      "application/vnd.jupyter.widget-view+json": {
       "model_id": "449532914de3499e8515d891e4303046",
       "version_major": 2,
       "version_minor": 0
      },
      "text/plain": [
       "Processing:   0%|          | 0/4 [00:00<?, ? img/s]"
      ]
     },
     "metadata": {},
     "output_type": "display_data"
    },
    {
     "data": {
      "application/vnd.jupyter.widget-view+json": {
       "model_id": "8135734917994cdbaddf4838da75121f",
       "version_major": 2,
       "version_minor": 0
      },
      "text/plain": [
       "Processing:   0%|          | 0/6 [00:00<?, ? img/s]"
      ]
     },
     "metadata": {},
     "output_type": "display_data"
    },
    {
     "data": {
      "application/vnd.jupyter.widget-view+json": {
       "model_id": "d5f8ccbd45e44c42b078abce608a2664",
       "version_major": 2,
       "version_minor": 0
      },
      "text/plain": [
       "Processing:   0%|          | 0/4 [00:00<?, ? img/s]"
      ]
     },
     "metadata": {},
     "output_type": "display_data"
    },
    {
     "data": {
      "application/vnd.jupyter.widget-view+json": {
       "model_id": "f5bd487a188745299affa05c911e7e24",
       "version_major": 2,
       "version_minor": 0
      },
      "text/plain": [
       "Processing:   0%|          | 0/4 [00:00<?, ? img/s]"
      ]
     },
     "metadata": {},
     "output_type": "display_data"
    },
    {
     "data": {
      "application/vnd.jupyter.widget-view+json": {
       "model_id": "8ddf0db93e2947c98389028bc4666d95",
       "version_major": 2,
       "version_minor": 0
      },
      "text/plain": [
       "Processing:   0%|          | 0/23 [00:00<?, ? img/s]"
      ]
     },
     "metadata": {},
     "output_type": "display_data"
    },
    {
     "data": {
      "application/vnd.jupyter.widget-view+json": {
       "model_id": "937decf4b8b74cd994da553ecfa934d7",
       "version_major": 2,
       "version_minor": 0
      },
      "text/plain": [
       "Processing:   0%|          | 0/23 [00:00<?, ? img/s]"
      ]
     },
     "metadata": {},
     "output_type": "display_data"
    },
    {
     "data": {
      "application/vnd.jupyter.widget-view+json": {
       "model_id": "e9ec97816ba3498fbce2cb81f891a34b",
       "version_major": 2,
       "version_minor": 0
      },
      "text/plain": [
       "Processing:   0%|          | 0/23 [00:00<?, ? img/s]"
      ]
     },
     "metadata": {},
     "output_type": "display_data"
    },
    {
     "data": {
      "application/vnd.jupyter.widget-view+json": {
       "model_id": "6e1d7c33677e4aac80f88b3aee62b443",
       "version_major": 2,
       "version_minor": 0
      },
      "text/plain": [
       "Processing:   0%|          | 0/23 [00:00<?, ? img/s]"
      ]
     },
     "metadata": {},
     "output_type": "display_data"
    },
    {
     "data": {
      "application/vnd.jupyter.widget-view+json": {
       "model_id": "6726f6afbb0b454592e78e70d9ae4b48",
       "version_major": 2,
       "version_minor": 0
      },
      "text/plain": [
       "Processing:   0%|          | 0/12 [00:00<?, ? img/s]"
      ]
     },
     "metadata": {},
     "output_type": "display_data"
    },
    {
     "data": {
      "application/vnd.jupyter.widget-view+json": {
       "model_id": "ccbe0993053847c987b4592653c72e76",
       "version_major": 2,
       "version_minor": 0
      },
      "text/plain": [
       "Processing:   0%|          | 0/23 [00:00<?, ? img/s]"
      ]
     },
     "metadata": {},
     "output_type": "display_data"
    },
    {
     "data": {
      "application/vnd.jupyter.widget-view+json": {
       "model_id": "f8110762d9164a9aaa7b787d7624deb9",
       "version_major": 2,
       "version_minor": 0
      },
      "text/plain": [
       "Processing:   0%|          | 0/24 [00:00<?, ? img/s]"
      ]
     },
     "metadata": {},
     "output_type": "display_data"
    },
    {
     "data": {
      "application/vnd.jupyter.widget-view+json": {
       "model_id": "9bb739cf1805406399b543f2bfec613c",
       "version_major": 2,
       "version_minor": 0
      },
      "text/plain": [
       "Processing:   0%|          | 0/23 [00:00<?, ? img/s]"
      ]
     },
     "metadata": {},
     "output_type": "display_data"
    },
    {
     "data": {
      "application/vnd.jupyter.widget-view+json": {
       "model_id": "6e620b000fc74738ac69a1aa37e9ba2f",
       "version_major": 2,
       "version_minor": 0
      },
      "text/plain": [
       "Processing:   0%|          | 0/23 [00:00<?, ? img/s]"
      ]
     },
     "metadata": {},
     "output_type": "display_data"
    },
    {
     "data": {
      "application/vnd.jupyter.widget-view+json": {
       "model_id": "0497758b2a8d4e4bb112369f3a2016fa",
       "version_major": 2,
       "version_minor": 0
      },
      "text/plain": [
       "Processing:   0%|          | 0/128 [00:00<?, ? img/s]"
      ]
     },
     "metadata": {},
     "output_type": "display_data"
    },
    {
     "data": {
      "text/html": [
       "<div>\n",
       "<style scoped>\n",
       "    .dataframe tbody tr th:only-of-type {\n",
       "        vertical-align: middle;\n",
       "    }\n",
       "\n",
       "    .dataframe tbody tr th {\n",
       "        vertical-align: top;\n",
       "    }\n",
       "\n",
       "    .dataframe thead th {\n",
       "        text-align: right;\n",
       "    }\n",
       "</style>\n",
       "<table border=\"1\" class=\"dataframe\">\n",
       "  <thead>\n",
       "    <tr style=\"text-align: right;\">\n",
       "      <th></th>\n",
       "      <th>File_Name</th>\n",
       "      <th>Bands</th>\n",
       "      <th>Height</th>\n",
       "      <th>Width</th>\n",
       "      <th>Resolution</th>\n",
       "      <th>CRS</th>\n",
       "      <th>Bound_Left</th>\n",
       "      <th>Bound_Bottom</th>\n",
       "      <th>Bound_Right</th>\n",
       "      <th>Bound_Top</th>\n",
       "    </tr>\n",
       "  </thead>\n",
       "  <tbody>\n",
       "    <tr>\n",
       "      <th>0</th>\n",
       "      <td>Prepared Invermay 20201008_Planet_221357 - Paddock 218.tif</td>\n",
       "      <td>5</td>\n",
       "      <td>82</td>\n",
       "      <td>193</td>\n",
       "      <td>(1.0, 1.0)</td>\n",
       "      <td>EPSG:2193</td>\n",
       "      <td>1.398561e+06</td>\n",
       "      <td>4.918711e+06</td>\n",
       "      <td>1.398754e+06</td>\n",
       "      <td>4.918793e+06</td>\n",
       "    </tr>\n",
       "    <tr>\n",
       "      <th>1</th>\n",
       "      <td>Prepared Invermay 20201008_Planet_221357 - Paddock 224.tif</td>\n",
       "      <td>5</td>\n",
       "      <td>226</td>\n",
       "      <td>310</td>\n",
       "      <td>(1.0, 1.0)</td>\n",
       "      <td>EPSG:2193</td>\n",
       "      <td>1.398684e+06</td>\n",
       "      <td>4.917972e+06</td>\n",
       "      <td>1.398994e+06</td>\n",
       "      <td>4.918198e+06</td>\n",
       "    </tr>\n",
       "    <tr>\n",
       "      <th>2</th>\n",
       "      <td>Prepared Invermay 20201012_Planet_215343 - Paddock 232.tif</td>\n",
       "      <td>5</td>\n",
       "      <td>361</td>\n",
       "      <td>370</td>\n",
       "      <td>(1.0, 1.0)</td>\n",
       "      <td>EPSG:2193</td>\n",
       "      <td>1.399220e+06</td>\n",
       "      <td>4.917909e+06</td>\n",
       "      <td>1.399590e+06</td>\n",
       "      <td>4.918270e+06</td>\n",
       "    </tr>\n",
       "    <tr>\n",
       "      <th>3</th>\n",
       "      <td>Prepared Invermay 20201008_Planet_221357 - Paddock 225.tif</td>\n",
       "      <td>5</td>\n",
       "      <td>196</td>\n",
       "      <td>304</td>\n",
       "      <td>(1.0, 1.0)</td>\n",
       "      <td>EPSG:2193</td>\n",
       "      <td>1.398585e+06</td>\n",
       "      <td>4.917882e+06</td>\n",
       "      <td>1.398889e+06</td>\n",
       "      <td>4.918078e+06</td>\n",
       "    </tr>\n",
       "    <tr>\n",
       "      <th>4</th>\n",
       "      <td>Prepared Invermay 20220818_CWOF - Paddock D5.tiff</td>\n",
       "      <td>5</td>\n",
       "      <td>103</td>\n",
       "      <td>163</td>\n",
       "      <td>(1.0, 1.0)</td>\n",
       "      <td>EPSG:2193</td>\n",
       "      <td>1.396403e+06</td>\n",
       "      <td>4.918180e+06</td>\n",
       "      <td>1.396566e+06</td>\n",
       "      <td>4.918283e+06</td>\n",
       "    </tr>\n",
       "    <tr>\n",
       "      <th>...</th>\n",
       "      <td>...</td>\n",
       "      <td>...</td>\n",
       "      <td>...</td>\n",
       "      <td>...</td>\n",
       "      <td>...</td>\n",
       "      <td>...</td>\n",
       "      <td>...</td>\n",
       "      <td>...</td>\n",
       "      <td>...</td>\n",
       "      <td>...</td>\n",
       "    </tr>\n",
       "    <tr>\n",
       "      <th>123</th>\n",
       "      <td>Prepared Invermay 20201008_Planet_221357 - Paddock 201.tif</td>\n",
       "      <td>5</td>\n",
       "      <td>136</td>\n",
       "      <td>118</td>\n",
       "      <td>(1.0, 1.0)</td>\n",
       "      <td>EPSG:2193</td>\n",
       "      <td>1.398257e+06</td>\n",
       "      <td>4.918461e+06</td>\n",
       "      <td>1.398375e+06</td>\n",
       "      <td>4.918597e+06</td>\n",
       "    </tr>\n",
       "    <tr>\n",
       "      <th>124</th>\n",
       "      <td>Prepared Invermay 20220819_CWOF - Paddock 13.tiff</td>\n",
       "      <td>5</td>\n",
       "      <td>106</td>\n",
       "      <td>115</td>\n",
       "      <td>(1.0, 1.0)</td>\n",
       "      <td>EPSG:2193</td>\n",
       "      <td>1.396727e+06</td>\n",
       "      <td>4.917910e+06</td>\n",
       "      <td>1.396842e+06</td>\n",
       "      <td>4.918016e+06</td>\n",
       "    </tr>\n",
       "    <tr>\n",
       "      <th>125</th>\n",
       "      <td>Prepared Invermay 20220918_S2 - Paddock 84.tiff</td>\n",
       "      <td>5</td>\n",
       "      <td>162</td>\n",
       "      <td>162</td>\n",
       "      <td>(1.0, 1.0)</td>\n",
       "      <td>EPSG:2193</td>\n",
       "      <td>1.398427e+06</td>\n",
       "      <td>4.918898e+06</td>\n",
       "      <td>1.398589e+06</td>\n",
       "      <td>4.919060e+06</td>\n",
       "    </tr>\n",
       "    <tr>\n",
       "      <th>126</th>\n",
       "      <td>Prepared Invermay 20201014_Planet_221210 - Paddock 245.tif</td>\n",
       "      <td>5</td>\n",
       "      <td>289</td>\n",
       "      <td>310</td>\n",
       "      <td>(1.0, 1.0)</td>\n",
       "      <td>EPSG:2193</td>\n",
       "      <td>1.400277e+06</td>\n",
       "      <td>4.917634e+06</td>\n",
       "      <td>1.400587e+06</td>\n",
       "      <td>4.917923e+06</td>\n",
       "    </tr>\n",
       "    <tr>\n",
       "      <th>127</th>\n",
       "      <td>Prepared Invermay 20201014_Planet_221210 - Paddock 251.tif</td>\n",
       "      <td>5</td>\n",
       "      <td>175</td>\n",
       "      <td>169</td>\n",
       "      <td>(1.0, 1.0)</td>\n",
       "      <td>EPSG:2193</td>\n",
       "      <td>1.399754e+06</td>\n",
       "      <td>4.917968e+06</td>\n",
       "      <td>1.399923e+06</td>\n",
       "      <td>4.918143e+06</td>\n",
       "    </tr>\n",
       "  </tbody>\n",
       "</table>\n",
       "<p>128 rows × 10 columns</p>\n",
       "</div>"
      ],
      "text/plain": [
       "                                                      File_Name  Bands  \\\n",
       "0    Prepared Invermay 20201008_Planet_221357 - Paddock 218.tif      5   \n",
       "1    Prepared Invermay 20201008_Planet_221357 - Paddock 224.tif      5   \n",
       "2    Prepared Invermay 20201012_Planet_215343 - Paddock 232.tif      5   \n",
       "3    Prepared Invermay 20201008_Planet_221357 - Paddock 225.tif      5   \n",
       "4             Prepared Invermay 20220818_CWOF - Paddock D5.tiff      5   \n",
       "..                                                          ...    ...   \n",
       "123  Prepared Invermay 20201008_Planet_221357 - Paddock 201.tif      5   \n",
       "124           Prepared Invermay 20220819_CWOF - Paddock 13.tiff      5   \n",
       "125             Prepared Invermay 20220918_S2 - Paddock 84.tiff      5   \n",
       "126  Prepared Invermay 20201014_Planet_221210 - Paddock 245.tif      5   \n",
       "127  Prepared Invermay 20201014_Planet_221210 - Paddock 251.tif      5   \n",
       "\n",
       "     Height  Width  Resolution        CRS    Bound_Left  Bound_Bottom  \\\n",
       "0        82    193  (1.0, 1.0)  EPSG:2193  1.398561e+06  4.918711e+06   \n",
       "1       226    310  (1.0, 1.0)  EPSG:2193  1.398684e+06  4.917972e+06   \n",
       "2       361    370  (1.0, 1.0)  EPSG:2193  1.399220e+06  4.917909e+06   \n",
       "3       196    304  (1.0, 1.0)  EPSG:2193  1.398585e+06  4.917882e+06   \n",
       "4       103    163  (1.0, 1.0)  EPSG:2193  1.396403e+06  4.918180e+06   \n",
       "..      ...    ...         ...        ...           ...           ...   \n",
       "123     136    118  (1.0, 1.0)  EPSG:2193  1.398257e+06  4.918461e+06   \n",
       "124     106    115  (1.0, 1.0)  EPSG:2193  1.396727e+06  4.917910e+06   \n",
       "125     162    162  (1.0, 1.0)  EPSG:2193  1.398427e+06  4.918898e+06   \n",
       "126     289    310  (1.0, 1.0)  EPSG:2193  1.400277e+06  4.917634e+06   \n",
       "127     175    169  (1.0, 1.0)  EPSG:2193  1.399754e+06  4.917968e+06   \n",
       "\n",
       "      Bound_Right     Bound_Top  \n",
       "0    1.398754e+06  4.918793e+06  \n",
       "1    1.398994e+06  4.918198e+06  \n",
       "2    1.399590e+06  4.918270e+06  \n",
       "3    1.398889e+06  4.918078e+06  \n",
       "4    1.396566e+06  4.918283e+06  \n",
       "..            ...           ...  \n",
       "123  1.398375e+06  4.918597e+06  \n",
       "124  1.396842e+06  4.918016e+06  \n",
       "125  1.398589e+06  4.919060e+06  \n",
       "126  1.400587e+06  4.917923e+06  \n",
       "127  1.399923e+06  4.918143e+06  \n",
       "\n",
       "[128 rows x 10 columns]"
      ]
     },
     "execution_count": 29,
     "metadata": {},
     "output_type": "execute_result"
    }
   ],
   "source": [
    "# Remove the previous outputs and start again\n",
    "for folder in filter(lambda x: re.findall('[12345]\\.\\w+', x), os.listdir()):\n",
    "    shutil.rmtree(folder)\n",
    "# Traverse all subfolders\n",
    "for sub_folder in filter(lambda x: re.findall('\\d{8}-\\d{8} - \\w+', x), os.listdir('Invermay')):\n",
    "    # Generate Paddock dataframe\n",
    "    filePath, fileType = 'Invermay/' + sub_folder, ('.tif', '.tiff')\n",
    "    df_Invermay = imgInfo(filePath, readFiles(filePath, fileType))\n",
    "    # Execute reproject\n",
    "    src_fileList = [filePath + '/' + i for i in df_Invermay.File_Name.to_list()]\n",
    "    src_pattern = '\\w+ \\d{8}\\w+ - Paddock \\w+.tif[f]?'\n",
    "    reproject_image(src_fileList, src_pattern, '1.Reprojected Paddock', 'EPSG:2193')\n",
    "    # Generate Reprojected paddock dataframe\n",
    "    df_Reprojected_Invermay = imgInfo('1.Reprojected Paddock', os.listdir('1.Reprojected Paddock'))\n",
    "    # Generate Overlapping dataframe\n",
    "    df_Overlap = Paddock_overlap_Lidar(df_Reprojected_Invermay, df_Invermay_Lidar)\n",
    "    # Copy overlapping Lidar images\n",
    "    fileList = {item for sublist in df_Overlap.Paddock_Overlap_Lidar.tolist() for item in sublist}\n",
    "    copyFiles('Invermay/Invermay Lidar 890', '2.Overlapping Lidar', fileList)\n",
    "    # Execute merge\n",
    "    merge_image('2.Overlapping Lidar', df_Overlap)\n",
    "    # Calculate slope of overlapping Lidar images\n",
    "    fileList = os.listdir('2.Overlapping Lidar')\n",
    "    src_fileList = ['2.Overlapping Lidar' + '/' + i for i in fileList]\n",
    "    calculate_slope(src_fileList, '\\d+\\.tif', '3.Slope Lidar')\n",
    "    # Crop paddock area from lidar slope images\n",
    "    crop_image('1.Reprojected Paddock', '3.Slope Lidar', '4.Cropped Lidar', df_Overlap)\n",
    "    # Execute trim and mask\n",
    "    cropped_fileList = os.listdir('4.Cropped Lidar')\n",
    "    save_slope_band('4.Cropped Lidar', cropped_fileList, '1.Reprojected Paddock', '5.Prepared Paddock')\n",
    "    for folder in filter(lambda x: re.findall('[1234]\\.\\w+', x), os.listdir()):\n",
    "        shutil.rmtree(folder)\n",
    "# Generate Prepared paddock dataframe\n",
    "df_Prepared_Invermay = imgInfo('5.Prepared Paddock', os.listdir('5.Prepared Paddock'))\n",
    "df_Prepared_Invermay"
   ]
  },
  {
   "cell_type": "markdown",
   "metadata": {
    "tags": []
   },
   "source": [
    "# Train linear model"
   ]
  },
  {
   "cell_type": "markdown",
   "metadata": {},
   "source": [
    "## Calculate the mean of each band"
   ]
  },
  {
   "cell_type": "code",
   "execution_count": 30,
   "metadata": {},
   "outputs": [],
   "source": [
    "def BandsMean(yPath, preparedImgPath):\n",
    "    df_ground_truth = pd.read_csv(yPath)[['Processed_Paddock', 'CDAX']]\n",
    "    # Calculate the mean of each band for each image\n",
    "    bandsMeanList, Shapes = [], []\n",
    "    for i in tqdm(df_ground_truth.Processed_Paddock, desc='Processing', unit=' img'):\n",
    "        with rasterio.open(preparedImgPath + '/' + i) as img:\n",
    "            bands = img.read().reshape(5, -1)\n",
    "            bands[bands == 0] = np.nan\n",
    "            bandsMean = np.nanmean(bands, axis = 1)\n",
    "            bandsMeanList.append(bandsMean)\n",
    "            Shapes.append(img.shape)\n",
    "    # Save as data frame\n",
    "    df_Shape = pd.DataFrame(Shapes, columns = ['Height', 'Width'])\n",
    "    df_bandsMean = pd.DataFrame(bandsMeanList, columns = ['Blu', 'Gre', 'Red', 'Nir', 'Slo'])\n",
    "    return pd.concat([df_ground_truth, df_Shape, df_bandsMean], axis = 1)"
   ]
  },
  {
   "cell_type": "code",
   "execution_count": 31,
   "metadata": {},
   "outputs": [
    {
     "data": {
      "application/vnd.jupyter.widget-view+json": {
       "model_id": "20ab5a040b2242728f512bb42412474f",
       "version_major": 2,
       "version_minor": 0
      },
      "text/plain": [
       "Processing:   0%|          | 0/94 [00:00<?, ? img/s]"
      ]
     },
     "metadata": {},
     "output_type": "display_data"
    },
    {
     "data": {
      "text/html": [
       "<div>\n",
       "<style scoped>\n",
       "    .dataframe tbody tr th:only-of-type {\n",
       "        vertical-align: middle;\n",
       "    }\n",
       "\n",
       "    .dataframe tbody tr th {\n",
       "        vertical-align: top;\n",
       "    }\n",
       "\n",
       "    .dataframe thead th {\n",
       "        text-align: right;\n",
       "    }\n",
       "</style>\n",
       "<table border=\"1\" class=\"dataframe\">\n",
       "  <thead>\n",
       "    <tr style=\"text-align: right;\">\n",
       "      <th></th>\n",
       "      <th>Processed_Paddock</th>\n",
       "      <th>CDAX</th>\n",
       "      <th>Height</th>\n",
       "      <th>Width</th>\n",
       "      <th>Blu</th>\n",
       "      <th>Gre</th>\n",
       "      <th>Red</th>\n",
       "      <th>Nir</th>\n",
       "      <th>Slo</th>\n",
       "    </tr>\n",
       "  </thead>\n",
       "  <tbody>\n",
       "    <tr>\n",
       "      <th>0</th>\n",
       "      <td>Prepared Invermay 20201008_Planet_221357 - Paddock 200.tif</td>\n",
       "      <td>2612</td>\n",
       "      <td>133</td>\n",
       "      <td>115</td>\n",
       "      <td>349.783264</td>\n",
       "      <td>619.396301</td>\n",
       "      <td>615.110352</td>\n",
       "      <td>3914.101562</td>\n",
       "      <td>5.640727</td>\n",
       "    </tr>\n",
       "    <tr>\n",
       "      <th>1</th>\n",
       "      <td>Prepared Invermay 20201008_Planet_221357 - Paddock 201.tif</td>\n",
       "      <td>3290</td>\n",
       "      <td>136</td>\n",
       "      <td>118</td>\n",
       "      <td>268.179169</td>\n",
       "      <td>515.858887</td>\n",
       "      <td>486.923553</td>\n",
       "      <td>4371.109863</td>\n",
       "      <td>5.960751</td>\n",
       "    </tr>\n",
       "    <tr>\n",
       "      <th>2</th>\n",
       "      <td>Prepared Invermay 20201008_Planet_221357 - Paddock 202.tif</td>\n",
       "      <td>2799</td>\n",
       "      <td>175</td>\n",
       "      <td>211</td>\n",
       "      <td>353.986206</td>\n",
       "      <td>632.187256</td>\n",
       "      <td>623.157043</td>\n",
       "      <td>4387.208984</td>\n",
       "      <td>10.791287</td>\n",
       "    </tr>\n",
       "    <tr>\n",
       "      <th>3</th>\n",
       "      <td>Prepared Invermay 20201008_Planet_221357 - Paddock 203.tif</td>\n",
       "      <td>2818</td>\n",
       "      <td>145</td>\n",
       "      <td>112</td>\n",
       "      <td>291.084076</td>\n",
       "      <td>549.331421</td>\n",
       "      <td>506.285767</td>\n",
       "      <td>4924.514648</td>\n",
       "      <td>11.793829</td>\n",
       "    </tr>\n",
       "    <tr>\n",
       "      <th>4</th>\n",
       "      <td>Prepared Invermay 20201008_Planet_221357 - Paddock 205.tif</td>\n",
       "      <td>2667</td>\n",
       "      <td>193</td>\n",
       "      <td>142</td>\n",
       "      <td>291.784851</td>\n",
       "      <td>539.562805</td>\n",
       "      <td>518.533203</td>\n",
       "      <td>4482.874023</td>\n",
       "      <td>10.539539</td>\n",
       "    </tr>\n",
       "    <tr>\n",
       "      <th>...</th>\n",
       "      <td>...</td>\n",
       "      <td>...</td>\n",
       "      <td>...</td>\n",
       "      <td>...</td>\n",
       "      <td>...</td>\n",
       "      <td>...</td>\n",
       "      <td>...</td>\n",
       "      <td>...</td>\n",
       "      <td>...</td>\n",
       "    </tr>\n",
       "    <tr>\n",
       "      <th>89</th>\n",
       "      <td>Prepared Invermay 20220819_CWOF - Paddock D7.tiff</td>\n",
       "      <td>1582</td>\n",
       "      <td>109</td>\n",
       "      <td>145</td>\n",
       "      <td>420.009338</td>\n",
       "      <td>793.481995</td>\n",
       "      <td>557.932922</td>\n",
       "      <td>4728.696777</td>\n",
       "      <td>1.322564</td>\n",
       "    </tr>\n",
       "    <tr>\n",
       "      <th>90</th>\n",
       "      <td>Prepared Invermay 20220818_CWOF - Paddock D9.tiff</td>\n",
       "      <td>1534</td>\n",
       "      <td>97</td>\n",
       "      <td>142</td>\n",
       "      <td>385.515900</td>\n",
       "      <td>764.220886</td>\n",
       "      <td>542.403809</td>\n",
       "      <td>3938.517822</td>\n",
       "      <td>0.722708</td>\n",
       "    </tr>\n",
       "    <tr>\n",
       "      <th>91</th>\n",
       "      <td>Prepared Invermay 20220819_CWOF - Paddock D9.tiff</td>\n",
       "      <td>1534</td>\n",
       "      <td>97</td>\n",
       "      <td>142</td>\n",
       "      <td>443.926849</td>\n",
       "      <td>840.626770</td>\n",
       "      <td>583.231079</td>\n",
       "      <td>4848.030762</td>\n",
       "      <td>0.722708</td>\n",
       "    </tr>\n",
       "    <tr>\n",
       "      <th>92</th>\n",
       "      <td>Prepared Invermay 20220818_CWOF - Paddock D11.tiff</td>\n",
       "      <td>1540</td>\n",
       "      <td>94</td>\n",
       "      <td>145</td>\n",
       "      <td>382.927338</td>\n",
       "      <td>719.131836</td>\n",
       "      <td>554.255859</td>\n",
       "      <td>3784.996094</td>\n",
       "      <td>0.707130</td>\n",
       "    </tr>\n",
       "    <tr>\n",
       "      <th>93</th>\n",
       "      <td>Prepared Invermay 20220819_CWOF - Paddock D11.tiff</td>\n",
       "      <td>1540</td>\n",
       "      <td>94</td>\n",
       "      <td>145</td>\n",
       "      <td>456.418121</td>\n",
       "      <td>798.289368</td>\n",
       "      <td>613.139709</td>\n",
       "      <td>4602.021973</td>\n",
       "      <td>0.707130</td>\n",
       "    </tr>\n",
       "  </tbody>\n",
       "</table>\n",
       "<p>94 rows × 9 columns</p>\n",
       "</div>"
      ],
      "text/plain": [
       "                                             Processed_Paddock  CDAX  Height  \\\n",
       "0   Prepared Invermay 20201008_Planet_221357 - Paddock 200.tif  2612     133   \n",
       "1   Prepared Invermay 20201008_Planet_221357 - Paddock 201.tif  3290     136   \n",
       "2   Prepared Invermay 20201008_Planet_221357 - Paddock 202.tif  2799     175   \n",
       "3   Prepared Invermay 20201008_Planet_221357 - Paddock 203.tif  2818     145   \n",
       "4   Prepared Invermay 20201008_Planet_221357 - Paddock 205.tif  2667     193   \n",
       "..                                                         ...   ...     ...   \n",
       "89           Prepared Invermay 20220819_CWOF - Paddock D7.tiff  1582     109   \n",
       "90           Prepared Invermay 20220818_CWOF - Paddock D9.tiff  1534      97   \n",
       "91           Prepared Invermay 20220819_CWOF - Paddock D9.tiff  1534      97   \n",
       "92          Prepared Invermay 20220818_CWOF - Paddock D11.tiff  1540      94   \n",
       "93          Prepared Invermay 20220819_CWOF - Paddock D11.tiff  1540      94   \n",
       "\n",
       "    Width         Blu         Gre         Red          Nir        Slo  \n",
       "0     115  349.783264  619.396301  615.110352  3914.101562   5.640727  \n",
       "1     118  268.179169  515.858887  486.923553  4371.109863   5.960751  \n",
       "2     211  353.986206  632.187256  623.157043  4387.208984  10.791287  \n",
       "3     112  291.084076  549.331421  506.285767  4924.514648  11.793829  \n",
       "4     142  291.784851  539.562805  518.533203  4482.874023  10.539539  \n",
       "..    ...         ...         ...         ...          ...        ...  \n",
       "89    145  420.009338  793.481995  557.932922  4728.696777   1.322564  \n",
       "90    142  385.515900  764.220886  542.403809  3938.517822   0.722708  \n",
       "91    142  443.926849  840.626770  583.231079  4848.030762   0.722708  \n",
       "92    145  382.927338  719.131836  554.255859  3784.996094   0.707130  \n",
       "93    145  456.418121  798.289368  613.139709  4602.021973   0.707130  \n",
       "\n",
       "[94 rows x 9 columns]"
      ]
     },
     "execution_count": 31,
     "metadata": {},
     "output_type": "execute_result"
    }
   ],
   "source": [
    "yPath = 'Invermay/Y - Invermay Planet.csv'\n",
    "preparedImgPath = '5.Prepared Paddock'\n",
    "df_ground_truth = BandsMean(yPath, preparedImgPath)\n",
    "df_ground_truth"
   ]
  },
  {
   "cell_type": "markdown",
   "metadata": {},
   "source": [
    "## Fit linear regression model"
   ]
  },
  {
   "cell_type": "code",
   "execution_count": 32,
   "metadata": {},
   "outputs": [],
   "source": [
    "def linear_regression(X_train, y_train, X_test, y_test):\n",
    "    reg = LinearRegression()\n",
    "    reg.fit(X_train, y_train)\n",
    "    y_pred = reg.predict(X_test)\n",
    "    print(f'Model Coefficients: {reg.coef_}\\nModel Intercept: {reg.intercept_}')\n",
    "    print(f'MAELoss on Test set: {mean_absolute_error(y_test, y_pred)}\\nR2 Score on Test set: {r2_score(y_test, y_pred)}')"
   ]
  },
  {
   "cell_type": "code",
   "execution_count": 33,
   "metadata": {},
   "outputs": [
    {
     "name": "stdout",
     "output_type": "stream",
     "text": [
      "Model Coefficients: [  1.209478    -6.5164657    2.4926572    0.42355636 -15.163994  ]\n",
      "Model Intercept: 2997.162353515625\n",
      "MAELoss on Test set: 202.05360149515087\n",
      "R2 Score on Test set: 0.5390036573188164\n"
     ]
    }
   ],
   "source": [
    "# Select all features: Blu, Gre, Red, Nir, Slo\n",
    "X, y = df_ground_truth.loc[:, 'Blu':'Slo'], df_ground_truth['CDAX']\n",
    "# Random split training set and test set\n",
    "X_train, X_test, y_train, y_test = train_test_split(X, y, test_size = 0.3, random_state = RANDOM_STATE)\n",
    "# Fit the linear model\n",
    "linear_regression(X_train, y_train, X_test, y_test)"
   ]
  },
  {
   "cell_type": "code",
   "execution_count": 34,
   "metadata": {},
   "outputs": [
    {
     "name": "stdout",
     "output_type": "stream",
     "text": [
      "Blu: 0.02573875, Gre: 0.00000005, Red: 0.89463816, Nir: 0.28199958, Slo: 0.00000003\n"
     ]
    }
   ],
   "source": [
    "F, p = f_regression(X, y)\n",
    "print(f'Blu: {p[0]:.8f}, Gre: {p[1]:.8f}, Red: {p[2]:.8f}, Nir: {p[3]:.8f}, Slo: {p[4]:.8f}')"
   ]
  },
  {
   "cell_type": "code",
   "execution_count": 35,
   "metadata": {},
   "outputs": [
    {
     "name": "stdout",
     "output_type": "stream",
     "text": [
      "Model Coefficients: [ 5.6452994 -7.0210137 -4.7066145]\n",
      "Model Intercept: 4869.251953125\n",
      "MAELoss on Test set: 184.23723733836206\n",
      "R2 Score on Test set: 0.7002275291654969\n"
     ]
    }
   ],
   "source": [
    "# Select the features which p-value < 0.05\n",
    "selector = SelectFpr(f_regression, alpha = 0.05)\n",
    "X_new = selector.fit_transform(X, y)\n",
    "# Random split training set and test set\n",
    "X_train, X_test, y_train, y_test = train_test_split(X_new, y, test_size = 0.3, random_state = RANDOM_STATE)\n",
    "# Fit the linear model again\n",
    "linear_regression(X_train, y_train, X_test, y_test)"
   ]
  },
  {
   "cell_type": "markdown",
   "metadata": {},
   "source": [
    "# Prepare images for deep learning"
   ]
  },
  {
   "cell_type": "markdown",
   "metadata": {},
   "source": [
    "## Prepare Invermay images"
   ]
  },
  {
   "cell_type": "code",
   "execution_count": 36,
   "metadata": {},
   "outputs": [
    {
     "data": {
      "application/vnd.jupyter.widget-view+json": {
       "model_id": "2d12d7343f884bb6b1704f25fb57505a",
       "version_major": 2,
       "version_minor": 0
      },
      "text/plain": [
       "Processing:   0%|          | 0/94 [00:00<?, ? img/s]"
      ]
     },
     "metadata": {},
     "output_type": "display_data"
    },
    {
     "data": {
      "application/vnd.jupyter.widget-view+json": {
       "model_id": "ee50aa05d7c84d408d7f6cdf2d969b5b",
       "version_major": 2,
       "version_minor": 0
      },
      "text/plain": [
       "Processing:   0%|          | 0/94 [00:00<?, ? img/s]"
      ]
     },
     "metadata": {},
     "output_type": "display_data"
    }
   ],
   "source": [
    "# Cope Invermay images for deep learning\n",
    "copyFiles('5.Prepared Paddock', 'Images for Deep Learning (Slope)', df_ground_truth.Processed_Paddock.to_list())\n",
    "copyFiles('5.Prepared Paddock', 'Images for Deep Learning (All)', df_ground_truth.Processed_Paddock.to_list())\n",
    "# Remove the previous outputs\n",
    "for folder in filter(lambda x: re.findall('[12345]\\.\\w+', x), os.listdir()):\n",
    "    shutil.rmtree(folder)"
   ]
  },
  {
   "cell_type": "markdown",
   "metadata": {},
   "source": [
    "## Prepare BLYP images"
   ]
  },
  {
   "cell_type": "code",
   "execution_count": 37,
   "metadata": {},
   "outputs": [
    {
     "data": {
      "application/vnd.jupyter.widget-view+json": {
       "model_id": "3a10c725198847b98d2f96149706d2cf",
       "version_major": 2,
       "version_minor": 0
      },
      "text/plain": [
       "Processing:   0%|          | 0/5527 [00:00<?, ? img/s]"
      ]
     },
     "metadata": {},
     "output_type": "display_data"
    },
    {
     "data": {
      "text/html": [
       "<div>\n",
       "<style scoped>\n",
       "    .dataframe tbody tr th:only-of-type {\n",
       "        vertical-align: middle;\n",
       "    }\n",
       "\n",
       "    .dataframe tbody tr th {\n",
       "        vertical-align: top;\n",
       "    }\n",
       "\n",
       "    .dataframe thead th {\n",
       "        text-align: right;\n",
       "    }\n",
       "</style>\n",
       "<table border=\"1\" class=\"dataframe\">\n",
       "  <thead>\n",
       "    <tr style=\"text-align: right;\">\n",
       "      <th></th>\n",
       "      <th>File_Name</th>\n",
       "      <th>Bands</th>\n",
       "      <th>Height</th>\n",
       "      <th>Width</th>\n",
       "      <th>Resolution</th>\n",
       "      <th>CRS</th>\n",
       "      <th>Bound_Left</th>\n",
       "      <th>Bound_Bottom</th>\n",
       "      <th>Bound_Right</th>\n",
       "      <th>Bound_Top</th>\n",
       "    </tr>\n",
       "  </thead>\n",
       "  <tbody>\n",
       "    <tr>\n",
       "      <th>0</th>\n",
       "      <td>DEM_BK30_2021_1000_0321.tif</td>\n",
       "      <td>1</td>\n",
       "      <td>720</td>\n",
       "      <td>480</td>\n",
       "      <td>(1.0, 1.0)</td>\n",
       "      <td>EPSG:2193</td>\n",
       "      <td>1717600.0</td>\n",
       "      <td>5619840.0</td>\n",
       "      <td>1718080.0</td>\n",
       "      <td>5620560.0</td>\n",
       "    </tr>\n",
       "    <tr>\n",
       "      <th>1</th>\n",
       "      <td>DEM_BJ29_2021_1000_1807.tif</td>\n",
       "      <td>1</td>\n",
       "      <td>720</td>\n",
       "      <td>480</td>\n",
       "      <td>(1.0, 1.0)</td>\n",
       "      <td>EPSG:2193</td>\n",
       "      <td>1686880.0</td>\n",
       "      <td>5645040.0</td>\n",
       "      <td>1687360.0</td>\n",
       "      <td>5645760.0</td>\n",
       "    </tr>\n",
       "    <tr>\n",
       "      <th>2</th>\n",
       "      <td>DEM_BJ30_2021_1000_3933.tif</td>\n",
       "      <td>1</td>\n",
       "      <td>720</td>\n",
       "      <td>480</td>\n",
       "      <td>(1.0, 1.0)</td>\n",
       "      <td>EPSG:2193</td>\n",
       "      <td>1723360.0</td>\n",
       "      <td>5629920.0</td>\n",
       "      <td>1723840.0</td>\n",
       "      <td>5630640.0</td>\n",
       "    </tr>\n",
       "    <tr>\n",
       "      <th>3</th>\n",
       "      <td>DEM_BJ30_2021_1000_1842.tif</td>\n",
       "      <td>1</td>\n",
       "      <td>720</td>\n",
       "      <td>480</td>\n",
       "      <td>(1.0, 1.0)</td>\n",
       "      <td>EPSG:2193</td>\n",
       "      <td>1727680.0</td>\n",
       "      <td>5645040.0</td>\n",
       "      <td>1728160.0</td>\n",
       "      <td>5645760.0</td>\n",
       "    </tr>\n",
       "    <tr>\n",
       "      <th>4</th>\n",
       "      <td>DEM_BK30_2021_1000_0447.tif</td>\n",
       "      <td>1</td>\n",
       "      <td>720</td>\n",
       "      <td>480</td>\n",
       "      <td>(1.0, 1.0)</td>\n",
       "      <td>EPSG:2193</td>\n",
       "      <td>1730080.0</td>\n",
       "      <td>5619120.0</td>\n",
       "      <td>1730560.0</td>\n",
       "      <td>5619840.0</td>\n",
       "    </tr>\n",
       "    <tr>\n",
       "      <th>...</th>\n",
       "      <td>...</td>\n",
       "      <td>...</td>\n",
       "      <td>...</td>\n",
       "      <td>...</td>\n",
       "      <td>...</td>\n",
       "      <td>...</td>\n",
       "      <td>...</td>\n",
       "      <td>...</td>\n",
       "      <td>...</td>\n",
       "      <td>...</td>\n",
       "    </tr>\n",
       "    <tr>\n",
       "      <th>5522</th>\n",
       "      <td>DEM_BJ30_2021_1000_4937.tif</td>\n",
       "      <td>1</td>\n",
       "      <td>720</td>\n",
       "      <td>480</td>\n",
       "      <td>(1.0, 1.0)</td>\n",
       "      <td>EPSG:2193</td>\n",
       "      <td>1725280.0</td>\n",
       "      <td>5622720.0</td>\n",
       "      <td>1725760.0</td>\n",
       "      <td>5623440.0</td>\n",
       "    </tr>\n",
       "    <tr>\n",
       "      <th>5523</th>\n",
       "      <td>DEM_BK30_2021_1000_1740.tif</td>\n",
       "      <td>1</td>\n",
       "      <td>720</td>\n",
       "      <td>480</td>\n",
       "      <td>(1.0, 1.0)</td>\n",
       "      <td>EPSG:2193</td>\n",
       "      <td>1726720.0</td>\n",
       "      <td>5609760.0</td>\n",
       "      <td>1727200.0</td>\n",
       "      <td>5610480.0</td>\n",
       "    </tr>\n",
       "    <tr>\n",
       "      <th>5524</th>\n",
       "      <td>DEM_BJ30_2021_1000_4923.tif</td>\n",
       "      <td>1</td>\n",
       "      <td>720</td>\n",
       "      <td>480</td>\n",
       "      <td>(1.0, 1.0)</td>\n",
       "      <td>EPSG:2193</td>\n",
       "      <td>1718560.0</td>\n",
       "      <td>5622720.0</td>\n",
       "      <td>1719040.0</td>\n",
       "      <td>5623440.0</td>\n",
       "    </tr>\n",
       "    <tr>\n",
       "      <th>5525</th>\n",
       "      <td>DEM_BK30_2021_1000_1026.tif</td>\n",
       "      <td>1</td>\n",
       "      <td>720</td>\n",
       "      <td>480</td>\n",
       "      <td>(1.0, 1.0)</td>\n",
       "      <td>EPSG:2193</td>\n",
       "      <td>1720000.0</td>\n",
       "      <td>5614800.0</td>\n",
       "      <td>1720480.0</td>\n",
       "      <td>5615520.0</td>\n",
       "    </tr>\n",
       "    <tr>\n",
       "      <th>5526</th>\n",
       "      <td>DEM_BK30_2021_1000_0338.tif</td>\n",
       "      <td>1</td>\n",
       "      <td>720</td>\n",
       "      <td>480</td>\n",
       "      <td>(1.0, 1.0)</td>\n",
       "      <td>EPSG:2193</td>\n",
       "      <td>1725760.0</td>\n",
       "      <td>5619840.0</td>\n",
       "      <td>1726240.0</td>\n",
       "      <td>5620560.0</td>\n",
       "    </tr>\n",
       "  </tbody>\n",
       "</table>\n",
       "<p>5527 rows × 10 columns</p>\n",
       "</div>"
      ],
      "text/plain": [
       "                        File_Name  Bands  Height  Width  Resolution  \\\n",
       "0     DEM_BK30_2021_1000_0321.tif      1     720    480  (1.0, 1.0)   \n",
       "1     DEM_BJ29_2021_1000_1807.tif      1     720    480  (1.0, 1.0)   \n",
       "2     DEM_BJ30_2021_1000_3933.tif      1     720    480  (1.0, 1.0)   \n",
       "3     DEM_BJ30_2021_1000_1842.tif      1     720    480  (1.0, 1.0)   \n",
       "4     DEM_BK30_2021_1000_0447.tif      1     720    480  (1.0, 1.0)   \n",
       "...                           ...    ...     ...    ...         ...   \n",
       "5522  DEM_BJ30_2021_1000_4937.tif      1     720    480  (1.0, 1.0)   \n",
       "5523  DEM_BK30_2021_1000_1740.tif      1     720    480  (1.0, 1.0)   \n",
       "5524  DEM_BJ30_2021_1000_4923.tif      1     720    480  (1.0, 1.0)   \n",
       "5525  DEM_BK30_2021_1000_1026.tif      1     720    480  (1.0, 1.0)   \n",
       "5526  DEM_BK30_2021_1000_0338.tif      1     720    480  (1.0, 1.0)   \n",
       "\n",
       "            CRS  Bound_Left  Bound_Bottom  Bound_Right  Bound_Top  \n",
       "0     EPSG:2193   1717600.0     5619840.0    1718080.0  5620560.0  \n",
       "1     EPSG:2193   1686880.0     5645040.0    1687360.0  5645760.0  \n",
       "2     EPSG:2193   1723360.0     5629920.0    1723840.0  5630640.0  \n",
       "3     EPSG:2193   1727680.0     5645040.0    1728160.0  5645760.0  \n",
       "4     EPSG:2193   1730080.0     5619120.0    1730560.0  5619840.0  \n",
       "...         ...         ...           ...          ...        ...  \n",
       "5522  EPSG:2193   1725280.0     5622720.0    1725760.0  5623440.0  \n",
       "5523  EPSG:2193   1726720.0     5609760.0    1727200.0  5610480.0  \n",
       "5524  EPSG:2193   1718560.0     5622720.0    1719040.0  5623440.0  \n",
       "5525  EPSG:2193   1720000.0     5614800.0    1720480.0  5615520.0  \n",
       "5526  EPSG:2193   1725760.0     5619840.0    1726240.0  5620560.0  \n",
       "\n",
       "[5527 rows x 10 columns]"
      ]
     },
     "execution_count": 37,
     "metadata": {},
     "output_type": "execute_result"
    }
   ],
   "source": [
    "filePath, fileType = 'BLYP/BLYP Lidar 5527', '.tif'\n",
    "df_BLYP_Lidar = imgInfo(filePath, readFiles(filePath, fileType))\n",
    "df_BLYP_Lidar"
   ]
  },
  {
   "cell_type": "code",
   "execution_count": 38,
   "metadata": {
    "scrolled": true
   },
   "outputs": [
    {
     "data": {
      "application/vnd.jupyter.widget-view+json": {
       "model_id": "5e50c32d640a478182009d248fe2601d",
       "version_major": 2,
       "version_minor": 0
      },
      "text/plain": [
       "Processing:   0%|          | 0/36 [00:00<?, ? img/s]"
      ]
     },
     "metadata": {},
     "output_type": "display_data"
    },
    {
     "data": {
      "application/vnd.jupyter.widget-view+json": {
       "model_id": "5fbbead5c44d45608dc90ee3c5a03e0b",
       "version_major": 2,
       "version_minor": 0
      },
      "text/plain": [
       "Processing:   0%|          | 0/36 [00:00<?, ? img/s]"
      ]
     },
     "metadata": {},
     "output_type": "display_data"
    },
    {
     "data": {
      "application/vnd.jupyter.widget-view+json": {
       "model_id": "555f07f1c255407f8a02ce2532bc9a69",
       "version_major": 2,
       "version_minor": 0
      },
      "text/plain": [
       "Processing:   0%|          | 0/36 [00:00<?, ? img/s]"
      ]
     },
     "metadata": {},
     "output_type": "display_data"
    },
    {
     "data": {
      "application/vnd.jupyter.widget-view+json": {
       "model_id": "32fcade9feb2403b93c422d40ab7280f",
       "version_major": 2,
       "version_minor": 0
      },
      "text/plain": [
       "Processing:   0%|          | 0/36 [00:00<?, ? img/s]"
      ]
     },
     "metadata": {},
     "output_type": "display_data"
    },
    {
     "data": {
      "application/vnd.jupyter.widget-view+json": {
       "model_id": "8bca54bf91644d51a1a3fcc4a1070b53",
       "version_major": 2,
       "version_minor": 0
      },
      "text/plain": [
       "Processing:   0%|          | 0/4 [00:00<?, ? img/s]"
      ]
     },
     "metadata": {},
     "output_type": "display_data"
    },
    {
     "data": {
      "application/vnd.jupyter.widget-view+json": {
       "model_id": "68c971570f4d4319812ea68529c1d270",
       "version_major": 2,
       "version_minor": 0
      },
      "text/plain": [
       "Processing:   0%|          | 0/36 [00:00<?, ? img/s]"
      ]
     },
     "metadata": {},
     "output_type": "display_data"
    },
    {
     "data": {
      "application/vnd.jupyter.widget-view+json": {
       "model_id": "8d6739bb12bb4c5a94847e99edc7f813",
       "version_major": 2,
       "version_minor": 0
      },
      "text/plain": [
       "Processing:   0%|          | 0/8 [00:00<?, ? img/s]"
      ]
     },
     "metadata": {},
     "output_type": "display_data"
    },
    {
     "data": {
      "application/vnd.jupyter.widget-view+json": {
       "model_id": "a2920eb4d75d477198d2f735016d5deb",
       "version_major": 2,
       "version_minor": 0
      },
      "text/plain": [
       "Processing:   0%|          | 0/36 [00:00<?, ? img/s]"
      ]
     },
     "metadata": {},
     "output_type": "display_data"
    },
    {
     "data": {
      "application/vnd.jupyter.widget-view+json": {
       "model_id": "88df25d4950c4fefa8292f2b4cc2b0b4",
       "version_major": 2,
       "version_minor": 0
      },
      "text/plain": [
       "Processing:   0%|          | 0/36 [00:00<?, ? img/s]"
      ]
     },
     "metadata": {},
     "output_type": "display_data"
    },
    {
     "data": {
      "application/vnd.jupyter.widget-view+json": {
       "model_id": "f98cd388f1354bfa833a777a968aa662",
       "version_major": 2,
       "version_minor": 0
      },
      "text/plain": [
       "Processing:   0%|          | 0/17 [00:00<?, ? img/s]"
      ]
     },
     "metadata": {},
     "output_type": "display_data"
    },
    {
     "data": {
      "application/vnd.jupyter.widget-view+json": {
       "model_id": "068ed2f8a05f427aaa2c2df86fe249e4",
       "version_major": 2,
       "version_minor": 0
      },
      "text/plain": [
       "Processing:   0%|          | 0/17 [00:00<?, ? img/s]"
      ]
     },
     "metadata": {},
     "output_type": "display_data"
    },
    {
     "data": {
      "application/vnd.jupyter.widget-view+json": {
       "model_id": "b1627eba0ff849ddb0b3fcee3b26fe11",
       "version_major": 2,
       "version_minor": 0
      },
      "text/plain": [
       "Processing:   0%|          | 0/17 [00:00<?, ? img/s]"
      ]
     },
     "metadata": {},
     "output_type": "display_data"
    },
    {
     "data": {
      "application/vnd.jupyter.widget-view+json": {
       "model_id": "6a02e4218e8e4e3a9950484babe31130",
       "version_major": 2,
       "version_minor": 0
      },
      "text/plain": [
       "Processing:   0%|          | 0/17 [00:00<?, ? img/s]"
      ]
     },
     "metadata": {},
     "output_type": "display_data"
    },
    {
     "data": {
      "application/vnd.jupyter.widget-view+json": {
       "model_id": "6bf51f819d6c484cb6857fce7bb0620d",
       "version_major": 2,
       "version_minor": 0
      },
      "text/plain": [
       "Processing:   0%|          | 0/4 [00:00<?, ? img/s]"
      ]
     },
     "metadata": {},
     "output_type": "display_data"
    },
    {
     "data": {
      "application/vnd.jupyter.widget-view+json": {
       "model_id": "fa4ed4ca781b4046929a365318d580f9",
       "version_major": 2,
       "version_minor": 0
      },
      "text/plain": [
       "Processing:   0%|          | 0/17 [00:00<?, ? img/s]"
      ]
     },
     "metadata": {},
     "output_type": "display_data"
    },
    {
     "data": {
      "application/vnd.jupyter.widget-view+json": {
       "model_id": "aaf64551326849f6b9e2fa8ea092999a",
       "version_major": 2,
       "version_minor": 0
      },
      "text/plain": [
       "Processing:   0%|          | 0/7 [00:00<?, ? img/s]"
      ]
     },
     "metadata": {},
     "output_type": "display_data"
    },
    {
     "data": {
      "application/vnd.jupyter.widget-view+json": {
       "model_id": "bca3fa13cf5547fa84eb7bd41b873ae2",
       "version_major": 2,
       "version_minor": 0
      },
      "text/plain": [
       "Processing:   0%|          | 0/17 [00:00<?, ? img/s]"
      ]
     },
     "metadata": {},
     "output_type": "display_data"
    },
    {
     "data": {
      "application/vnd.jupyter.widget-view+json": {
       "model_id": "34ba23506a4046108aa1bab9b1aa1328",
       "version_major": 2,
       "version_minor": 0
      },
      "text/plain": [
       "Processing:   0%|          | 0/17 [00:00<?, ? img/s]"
      ]
     },
     "metadata": {},
     "output_type": "display_data"
    },
    {
     "data": {
      "application/vnd.jupyter.widget-view+json": {
       "model_id": "6cb1234696104ef8b37b9c01c67f3726",
       "version_major": 2,
       "version_minor": 0
      },
      "text/plain": [
       "Processing:   0%|          | 0/72 [00:00<?, ? img/s]"
      ]
     },
     "metadata": {},
     "output_type": "display_data"
    },
    {
     "data": {
      "application/vnd.jupyter.widget-view+json": {
       "model_id": "d1d181dec99d4d219199cc81fccc2e5a",
       "version_major": 2,
       "version_minor": 0
      },
      "text/plain": [
       "Processing:   0%|          | 0/72 [00:00<?, ? img/s]"
      ]
     },
     "metadata": {},
     "output_type": "display_data"
    },
    {
     "data": {
      "application/vnd.jupyter.widget-view+json": {
       "model_id": "beec25e5328245d6953cae25cb031480",
       "version_major": 2,
       "version_minor": 0
      },
      "text/plain": [
       "Processing:   0%|          | 0/72 [00:00<?, ? img/s]"
      ]
     },
     "metadata": {},
     "output_type": "display_data"
    },
    {
     "data": {
      "application/vnd.jupyter.widget-view+json": {
       "model_id": "2b5fd401c9b64eb590ba969a18329c15",
       "version_major": 2,
       "version_minor": 0
      },
      "text/plain": [
       "Processing:   0%|          | 0/72 [00:00<?, ? img/s]"
      ]
     },
     "metadata": {},
     "output_type": "display_data"
    },
    {
     "data": {
      "application/vnd.jupyter.widget-view+json": {
       "model_id": "3c81bb33aa3c46aaa66d803a29da94e7",
       "version_major": 2,
       "version_minor": 0
      },
      "text/plain": [
       "Processing:   0%|          | 0/4 [00:00<?, ? img/s]"
      ]
     },
     "metadata": {},
     "output_type": "display_data"
    },
    {
     "data": {
      "application/vnd.jupyter.widget-view+json": {
       "model_id": "8ded25ed373048fc8071ce8a74703af5",
       "version_major": 2,
       "version_minor": 0
      },
      "text/plain": [
       "Processing:   0%|          | 0/72 [00:00<?, ? img/s]"
      ]
     },
     "metadata": {},
     "output_type": "display_data"
    },
    {
     "data": {
      "application/vnd.jupyter.widget-view+json": {
       "model_id": "ebba2f0fd0834a809db23146eb530a42",
       "version_major": 2,
       "version_minor": 0
      },
      "text/plain": [
       "Processing:   0%|          | 0/7 [00:00<?, ? img/s]"
      ]
     },
     "metadata": {},
     "output_type": "display_data"
    },
    {
     "data": {
      "application/vnd.jupyter.widget-view+json": {
       "model_id": "ba9920b2ef8043228a080277024a2ed6",
       "version_major": 2,
       "version_minor": 0
      },
      "text/plain": [
       "Processing:   0%|          | 0/72 [00:00<?, ? img/s]"
      ]
     },
     "metadata": {},
     "output_type": "display_data"
    },
    {
     "data": {
      "application/vnd.jupyter.widget-view+json": {
       "model_id": "5cf25a78b9bc4752aab27dc8ee450b68",
       "version_major": 2,
       "version_minor": 0
      },
      "text/plain": [
       "Processing:   0%|          | 0/72 [00:00<?, ? img/s]"
      ]
     },
     "metadata": {},
     "output_type": "display_data"
    },
    {
     "data": {
      "application/vnd.jupyter.widget-view+json": {
       "model_id": "472d6022ad204dbba7fd853ef22f3e9b",
       "version_major": 2,
       "version_minor": 0
      },
      "text/plain": [
       "Processing:   0%|          | 0/72 [00:00<?, ? img/s]"
      ]
     },
     "metadata": {},
     "output_type": "display_data"
    },
    {
     "data": {
      "application/vnd.jupyter.widget-view+json": {
       "model_id": "d5cf3593314d47b5abfbc464a866fbbd",
       "version_major": 2,
       "version_minor": 0
      },
      "text/plain": [
       "Processing:   0%|          | 0/72 [00:00<?, ? img/s]"
      ]
     },
     "metadata": {},
     "output_type": "display_data"
    },
    {
     "data": {
      "application/vnd.jupyter.widget-view+json": {
       "model_id": "d200fbc4fbbf4433a4fe709b4ed8fcfa",
       "version_major": 2,
       "version_minor": 0
      },
      "text/plain": [
       "Processing:   0%|          | 0/72 [00:00<?, ? img/s]"
      ]
     },
     "metadata": {},
     "output_type": "display_data"
    },
    {
     "data": {
      "application/vnd.jupyter.widget-view+json": {
       "model_id": "2312cd8a2d7946258e2046f460dd6960",
       "version_major": 2,
       "version_minor": 0
      },
      "text/plain": [
       "Processing:   0%|          | 0/72 [00:00<?, ? img/s]"
      ]
     },
     "metadata": {},
     "output_type": "display_data"
    },
    {
     "data": {
      "application/vnd.jupyter.widget-view+json": {
       "model_id": "d76aaf7a82424e42a73236266fdbce54",
       "version_major": 2,
       "version_minor": 0
      },
      "text/plain": [
       "Processing:   0%|          | 0/4 [00:00<?, ? img/s]"
      ]
     },
     "metadata": {},
     "output_type": "display_data"
    },
    {
     "data": {
      "application/vnd.jupyter.widget-view+json": {
       "model_id": "8c059781efcd4e62a20779f967ea15b6",
       "version_major": 2,
       "version_minor": 0
      },
      "text/plain": [
       "Processing:   0%|          | 0/72 [00:00<?, ? img/s]"
      ]
     },
     "metadata": {},
     "output_type": "display_data"
    },
    {
     "data": {
      "application/vnd.jupyter.widget-view+json": {
       "model_id": "148fd7f1aa1f451e8d53804932e7b3b9",
       "version_major": 2,
       "version_minor": 0
      },
      "text/plain": [
       "Processing:   0%|          | 0/7 [00:00<?, ? img/s]"
      ]
     },
     "metadata": {},
     "output_type": "display_data"
    },
    {
     "data": {
      "application/vnd.jupyter.widget-view+json": {
       "model_id": "91b0cc4326df4988996bb0a781f1945c",
       "version_major": 2,
       "version_minor": 0
      },
      "text/plain": [
       "Processing:   0%|          | 0/72 [00:00<?, ? img/s]"
      ]
     },
     "metadata": {},
     "output_type": "display_data"
    },
    {
     "data": {
      "application/vnd.jupyter.widget-view+json": {
       "model_id": "e2e623449ca0446bbf33893f19d05434",
       "version_major": 2,
       "version_minor": 0
      },
      "text/plain": [
       "Processing:   0%|          | 0/72 [00:00<?, ? img/s]"
      ]
     },
     "metadata": {},
     "output_type": "display_data"
    },
    {
     "data": {
      "application/vnd.jupyter.widget-view+json": {
       "model_id": "dd00fcae87874bb38980387b179072ed",
       "version_major": 2,
       "version_minor": 0
      },
      "text/plain": [
       "Processing:   0%|          | 0/17 [00:00<?, ? img/s]"
      ]
     },
     "metadata": {},
     "output_type": "display_data"
    },
    {
     "data": {
      "application/vnd.jupyter.widget-view+json": {
       "model_id": "cf42dca2c0f6472193537111acbe3d7e",
       "version_major": 2,
       "version_minor": 0
      },
      "text/plain": [
       "Processing:   0%|          | 0/17 [00:00<?, ? img/s]"
      ]
     },
     "metadata": {},
     "output_type": "display_data"
    },
    {
     "data": {
      "application/vnd.jupyter.widget-view+json": {
       "model_id": "821ac52f1c0045f2af4f637fdac068df",
       "version_major": 2,
       "version_minor": 0
      },
      "text/plain": [
       "Processing:   0%|          | 0/17 [00:00<?, ? img/s]"
      ]
     },
     "metadata": {},
     "output_type": "display_data"
    },
    {
     "data": {
      "application/vnd.jupyter.widget-view+json": {
       "model_id": "b28d6817c67f466f8d2cdf3f7efb81ce",
       "version_major": 2,
       "version_minor": 0
      },
      "text/plain": [
       "Processing:   0%|          | 0/17 [00:00<?, ? img/s]"
      ]
     },
     "metadata": {},
     "output_type": "display_data"
    },
    {
     "data": {
      "application/vnd.jupyter.widget-view+json": {
       "model_id": "23e6541c48044cb7a6a27dc0f675c02a",
       "version_major": 2,
       "version_minor": 0
      },
      "text/plain": [
       "Processing:   0%|          | 0/4 [00:00<?, ? img/s]"
      ]
     },
     "metadata": {},
     "output_type": "display_data"
    },
    {
     "data": {
      "application/vnd.jupyter.widget-view+json": {
       "model_id": "a280fec0d0174818add885285c2e62f7",
       "version_major": 2,
       "version_minor": 0
      },
      "text/plain": [
       "Processing:   0%|          | 0/17 [00:00<?, ? img/s]"
      ]
     },
     "metadata": {},
     "output_type": "display_data"
    },
    {
     "data": {
      "application/vnd.jupyter.widget-view+json": {
       "model_id": "93f123c0fd264282a516e9c5fb543ed9",
       "version_major": 2,
       "version_minor": 0
      },
      "text/plain": [
       "Processing:   0%|          | 0/7 [00:00<?, ? img/s]"
      ]
     },
     "metadata": {},
     "output_type": "display_data"
    },
    {
     "data": {
      "application/vnd.jupyter.widget-view+json": {
       "model_id": "39050892480c4c26b4e35f27ddd64087",
       "version_major": 2,
       "version_minor": 0
      },
      "text/plain": [
       "Processing:   0%|          | 0/17 [00:00<?, ? img/s]"
      ]
     },
     "metadata": {},
     "output_type": "display_data"
    },
    {
     "data": {
      "application/vnd.jupyter.widget-view+json": {
       "model_id": "bfbd93b24f884310b05a1cb812916e06",
       "version_major": 2,
       "version_minor": 0
      },
      "text/plain": [
       "Processing:   0%|          | 0/17 [00:00<?, ? img/s]"
      ]
     },
     "metadata": {},
     "output_type": "display_data"
    },
    {
     "data": {
      "application/vnd.jupyter.widget-view+json": {
       "model_id": "5255d2285b3f4d66ba52f5c6117a36ed",
       "version_major": 2,
       "version_minor": 0
      },
      "text/plain": [
       "Processing:   0%|          | 0/17 [00:00<?, ? img/s]"
      ]
     },
     "metadata": {},
     "output_type": "display_data"
    },
    {
     "data": {
      "application/vnd.jupyter.widget-view+json": {
       "model_id": "f1189a8605cf4141b8df0a316cc38e10",
       "version_major": 2,
       "version_minor": 0
      },
      "text/plain": [
       "Processing:   0%|          | 0/17 [00:00<?, ? img/s]"
      ]
     },
     "metadata": {},
     "output_type": "display_data"
    },
    {
     "data": {
      "application/vnd.jupyter.widget-view+json": {
       "model_id": "d76e625afc5a4417a5e6249e8a11bd11",
       "version_major": 2,
       "version_minor": 0
      },
      "text/plain": [
       "Processing:   0%|          | 0/17 [00:00<?, ? img/s]"
      ]
     },
     "metadata": {},
     "output_type": "display_data"
    },
    {
     "data": {
      "application/vnd.jupyter.widget-view+json": {
       "model_id": "eaa5ccd090ef4c4ea54ce995a3935663",
       "version_major": 2,
       "version_minor": 0
      },
      "text/plain": [
       "Processing:   0%|          | 0/17 [00:00<?, ? img/s]"
      ]
     },
     "metadata": {},
     "output_type": "display_data"
    },
    {
     "data": {
      "application/vnd.jupyter.widget-view+json": {
       "model_id": "68c871cfda50489ab803026a085ca48b",
       "version_major": 2,
       "version_minor": 0
      },
      "text/plain": [
       "Processing:   0%|          | 0/4 [00:00<?, ? img/s]"
      ]
     },
     "metadata": {},
     "output_type": "display_data"
    },
    {
     "data": {
      "application/vnd.jupyter.widget-view+json": {
       "model_id": "6d1f7e7f70104520be916f369868d2ea",
       "version_major": 2,
       "version_minor": 0
      },
      "text/plain": [
       "Processing:   0%|          | 0/17 [00:00<?, ? img/s]"
      ]
     },
     "metadata": {},
     "output_type": "display_data"
    },
    {
     "data": {
      "application/vnd.jupyter.widget-view+json": {
       "model_id": "0d3c7d2c58b54e608aa9d7c375bf1fc0",
       "version_major": 2,
       "version_minor": 0
      },
      "text/plain": [
       "Processing:   0%|          | 0/7 [00:00<?, ? img/s]"
      ]
     },
     "metadata": {},
     "output_type": "display_data"
    },
    {
     "data": {
      "application/vnd.jupyter.widget-view+json": {
       "model_id": "8f55b5aeb5c641efab11209f15a9c980",
       "version_major": 2,
       "version_minor": 0
      },
      "text/plain": [
       "Processing:   0%|          | 0/17 [00:00<?, ? img/s]"
      ]
     },
     "metadata": {},
     "output_type": "display_data"
    },
    {
     "data": {
      "application/vnd.jupyter.widget-view+json": {
       "model_id": "18a4fd67e9fe4c57843b4e2c51897174",
       "version_major": 2,
       "version_minor": 0
      },
      "text/plain": [
       "Processing:   0%|          | 0/17 [00:00<?, ? img/s]"
      ]
     },
     "metadata": {},
     "output_type": "display_data"
    },
    {
     "data": {
      "application/vnd.jupyter.widget-view+json": {
       "model_id": "82812c6f342241cabea3383c4eef3547",
       "version_major": 2,
       "version_minor": 0
      },
      "text/plain": [
       "Processing:   0%|          | 0/72 [00:00<?, ? img/s]"
      ]
     },
     "metadata": {},
     "output_type": "display_data"
    },
    {
     "data": {
      "application/vnd.jupyter.widget-view+json": {
       "model_id": "9644cafefdab459c9f1fc9f2060f2668",
       "version_major": 2,
       "version_minor": 0
      },
      "text/plain": [
       "Processing:   0%|          | 0/72 [00:00<?, ? img/s]"
      ]
     },
     "metadata": {},
     "output_type": "display_data"
    },
    {
     "data": {
      "application/vnd.jupyter.widget-view+json": {
       "model_id": "7ed87335bb9c4c02bdd22e0c6957b186",
       "version_major": 2,
       "version_minor": 0
      },
      "text/plain": [
       "Processing:   0%|          | 0/72 [00:00<?, ? img/s]"
      ]
     },
     "metadata": {},
     "output_type": "display_data"
    },
    {
     "data": {
      "application/vnd.jupyter.widget-view+json": {
       "model_id": "8c9d021aeccc4f749303f7b0a8ffce7c",
       "version_major": 2,
       "version_minor": 0
      },
      "text/plain": [
       "Processing:   0%|          | 0/72 [00:00<?, ? img/s]"
      ]
     },
     "metadata": {},
     "output_type": "display_data"
    },
    {
     "data": {
      "application/vnd.jupyter.widget-view+json": {
       "model_id": "f70ac0a67cd143f09eb8de34e70f0e44",
       "version_major": 2,
       "version_minor": 0
      },
      "text/plain": [
       "Processing:   0%|          | 0/4 [00:00<?, ? img/s]"
      ]
     },
     "metadata": {},
     "output_type": "display_data"
    },
    {
     "data": {
      "application/vnd.jupyter.widget-view+json": {
       "model_id": "6949dc4b84124339bb7b887c75dfef8e",
       "version_major": 2,
       "version_minor": 0
      },
      "text/plain": [
       "Processing:   0%|          | 0/72 [00:00<?, ? img/s]"
      ]
     },
     "metadata": {},
     "output_type": "display_data"
    },
    {
     "data": {
      "application/vnd.jupyter.widget-view+json": {
       "model_id": "3aa36a07913f42c394bccfd4c1f1c876",
       "version_major": 2,
       "version_minor": 0
      },
      "text/plain": [
       "Processing:   0%|          | 0/7 [00:00<?, ? img/s]"
      ]
     },
     "metadata": {},
     "output_type": "display_data"
    },
    {
     "data": {
      "application/vnd.jupyter.widget-view+json": {
       "model_id": "5611e515ff0d4fec898d08ccac865427",
       "version_major": 2,
       "version_minor": 0
      },
      "text/plain": [
       "Processing:   0%|          | 0/72 [00:00<?, ? img/s]"
      ]
     },
     "metadata": {},
     "output_type": "display_data"
    },
    {
     "data": {
      "application/vnd.jupyter.widget-view+json": {
       "model_id": "706d288560114c4e8b3f5e54b9ece167",
       "version_major": 2,
       "version_minor": 0
      },
      "text/plain": [
       "Processing:   0%|          | 0/72 [00:00<?, ? img/s]"
      ]
     },
     "metadata": {},
     "output_type": "display_data"
    },
    {
     "data": {
      "application/vnd.jupyter.widget-view+json": {
       "model_id": "844ed7d0292b4e95a9a801849131f04f",
       "version_major": 2,
       "version_minor": 0
      },
      "text/plain": [
       "Processing:   0%|          | 0/72 [00:00<?, ? img/s]"
      ]
     },
     "metadata": {},
     "output_type": "display_data"
    },
    {
     "data": {
      "application/vnd.jupyter.widget-view+json": {
       "model_id": "ec70a5f942ed48bf82e96f188e100948",
       "version_major": 2,
       "version_minor": 0
      },
      "text/plain": [
       "Processing:   0%|          | 0/72 [00:00<?, ? img/s]"
      ]
     },
     "metadata": {},
     "output_type": "display_data"
    },
    {
     "data": {
      "application/vnd.jupyter.widget-view+json": {
       "model_id": "5ce8f65f75fd479a89945bb16f81a046",
       "version_major": 2,
       "version_minor": 0
      },
      "text/plain": [
       "Processing:   0%|          | 0/72 [00:00<?, ? img/s]"
      ]
     },
     "metadata": {},
     "output_type": "display_data"
    },
    {
     "data": {
      "application/vnd.jupyter.widget-view+json": {
       "model_id": "55a4784bbfdc428fbab1a4f5c8e15e82",
       "version_major": 2,
       "version_minor": 0
      },
      "text/plain": [
       "Processing:   0%|          | 0/72 [00:00<?, ? img/s]"
      ]
     },
     "metadata": {},
     "output_type": "display_data"
    },
    {
     "data": {
      "application/vnd.jupyter.widget-view+json": {
       "model_id": "a644bb0b83f343938e443473c5e380bf",
       "version_major": 2,
       "version_minor": 0
      },
      "text/plain": [
       "Processing:   0%|          | 0/4 [00:00<?, ? img/s]"
      ]
     },
     "metadata": {},
     "output_type": "display_data"
    },
    {
     "data": {
      "application/vnd.jupyter.widget-view+json": {
       "model_id": "b105de15ba394b5397774580596b3109",
       "version_major": 2,
       "version_minor": 0
      },
      "text/plain": [
       "Processing:   0%|          | 0/72 [00:00<?, ? img/s]"
      ]
     },
     "metadata": {},
     "output_type": "display_data"
    },
    {
     "data": {
      "application/vnd.jupyter.widget-view+json": {
       "model_id": "5caf087ed9c540ff89b4c3b85cf8d7a0",
       "version_major": 2,
       "version_minor": 0
      },
      "text/plain": [
       "Processing:   0%|          | 0/7 [00:00<?, ? img/s]"
      ]
     },
     "metadata": {},
     "output_type": "display_data"
    },
    {
     "data": {
      "application/vnd.jupyter.widget-view+json": {
       "model_id": "2e1848ce95ec46b79807944b391e12b5",
       "version_major": 2,
       "version_minor": 0
      },
      "text/plain": [
       "Processing:   0%|          | 0/72 [00:00<?, ? img/s]"
      ]
     },
     "metadata": {},
     "output_type": "display_data"
    },
    {
     "data": {
      "application/vnd.jupyter.widget-view+json": {
       "model_id": "e2f2c62517e046e8b7395a97bf259c06",
       "version_major": 2,
       "version_minor": 0
      },
      "text/plain": [
       "Processing:   0%|          | 0/72 [00:00<?, ? img/s]"
      ]
     },
     "metadata": {},
     "output_type": "display_data"
    },
    {
     "data": {
      "application/vnd.jupyter.widget-view+json": {
       "model_id": "a30862fc7e4a4978a55cf6da0c4e02a0",
       "version_major": 2,
       "version_minor": 0
      },
      "text/plain": [
       "Processing:   0%|          | 0/36 [00:00<?, ? img/s]"
      ]
     },
     "metadata": {},
     "output_type": "display_data"
    },
    {
     "data": {
      "application/vnd.jupyter.widget-view+json": {
       "model_id": "ff9c443b5ef2467195792b3c9e24658a",
       "version_major": 2,
       "version_minor": 0
      },
      "text/plain": [
       "Processing:   0%|          | 0/36 [00:00<?, ? img/s]"
      ]
     },
     "metadata": {},
     "output_type": "display_data"
    },
    {
     "data": {
      "application/vnd.jupyter.widget-view+json": {
       "model_id": "9de259cc87d04b158e4382cfa86a288c",
       "version_major": 2,
       "version_minor": 0
      },
      "text/plain": [
       "Processing:   0%|          | 0/36 [00:00<?, ? img/s]"
      ]
     },
     "metadata": {},
     "output_type": "display_data"
    },
    {
     "data": {
      "application/vnd.jupyter.widget-view+json": {
       "model_id": "b6661f9270574557ac87ec67d28ff5b6",
       "version_major": 2,
       "version_minor": 0
      },
      "text/plain": [
       "Processing:   0%|          | 0/36 [00:00<?, ? img/s]"
      ]
     },
     "metadata": {},
     "output_type": "display_data"
    },
    {
     "data": {
      "application/vnd.jupyter.widget-view+json": {
       "model_id": "baabff77144444a1afc25cc20fb6d2c5",
       "version_major": 2,
       "version_minor": 0
      },
      "text/plain": [
       "Processing:   0%|          | 0/4 [00:00<?, ? img/s]"
      ]
     },
     "metadata": {},
     "output_type": "display_data"
    },
    {
     "data": {
      "application/vnd.jupyter.widget-view+json": {
       "model_id": "f3f0265e0cb34c56b708e93af1e2bb0c",
       "version_major": 2,
       "version_minor": 0
      },
      "text/plain": [
       "Processing:   0%|          | 0/36 [00:00<?, ? img/s]"
      ]
     },
     "metadata": {},
     "output_type": "display_data"
    },
    {
     "data": {
      "application/vnd.jupyter.widget-view+json": {
       "model_id": "c0da8321624e4d0e8f7a418903be0e39",
       "version_major": 2,
       "version_minor": 0
      },
      "text/plain": [
       "Processing:   0%|          | 0/7 [00:00<?, ? img/s]"
      ]
     },
     "metadata": {},
     "output_type": "display_data"
    },
    {
     "data": {
      "application/vnd.jupyter.widget-view+json": {
       "model_id": "a0b2cde0107b4364b1f586252acb724b",
       "version_major": 2,
       "version_minor": 0
      },
      "text/plain": [
       "Processing:   0%|          | 0/36 [00:00<?, ? img/s]"
      ]
     },
     "metadata": {},
     "output_type": "display_data"
    },
    {
     "data": {
      "application/vnd.jupyter.widget-view+json": {
       "model_id": "8d369ee59d73440e8ce60a8659c68406",
       "version_major": 2,
       "version_minor": 0
      },
      "text/plain": [
       "Processing:   0%|          | 0/36 [00:00<?, ? img/s]"
      ]
     },
     "metadata": {},
     "output_type": "display_data"
    },
    {
     "data": {
      "application/vnd.jupyter.widget-view+json": {
       "model_id": "214b5a8bd1fd4f9583fc637635b0c3b4",
       "version_major": 2,
       "version_minor": 0
      },
      "text/plain": [
       "Processing:   0%|          | 0/18 [00:00<?, ? img/s]"
      ]
     },
     "metadata": {},
     "output_type": "display_data"
    },
    {
     "data": {
      "application/vnd.jupyter.widget-view+json": {
       "model_id": "7ad196918b63485f84da0170326e1e45",
       "version_major": 2,
       "version_minor": 0
      },
      "text/plain": [
       "Processing:   0%|          | 0/18 [00:00<?, ? img/s]"
      ]
     },
     "metadata": {},
     "output_type": "display_data"
    },
    {
     "data": {
      "application/vnd.jupyter.widget-view+json": {
       "model_id": "684aff8649f44d88b0a27caed3715d4a",
       "version_major": 2,
       "version_minor": 0
      },
      "text/plain": [
       "Processing:   0%|          | 0/18 [00:00<?, ? img/s]"
      ]
     },
     "metadata": {},
     "output_type": "display_data"
    },
    {
     "data": {
      "application/vnd.jupyter.widget-view+json": {
       "model_id": "0c90ea9084e5431fb2089e889a35f3ac",
       "version_major": 2,
       "version_minor": 0
      },
      "text/plain": [
       "Processing:   0%|          | 0/18 [00:00<?, ? img/s]"
      ]
     },
     "metadata": {},
     "output_type": "display_data"
    },
    {
     "data": {
      "application/vnd.jupyter.widget-view+json": {
       "model_id": "e4f877bfe9554251b3f8b9267463a9d5",
       "version_major": 2,
       "version_minor": 0
      },
      "text/plain": [
       "Processing:   0%|          | 0/4 [00:00<?, ? img/s]"
      ]
     },
     "metadata": {},
     "output_type": "display_data"
    },
    {
     "data": {
      "application/vnd.jupyter.widget-view+json": {
       "model_id": "465470aee6274fd7b7612f295c7bef4a",
       "version_major": 2,
       "version_minor": 0
      },
      "text/plain": [
       "Processing:   0%|          | 0/18 [00:00<?, ? img/s]"
      ]
     },
     "metadata": {},
     "output_type": "display_data"
    },
    {
     "data": {
      "application/vnd.jupyter.widget-view+json": {
       "model_id": "1ede196056e44de0a51d34cb123ff5d7",
       "version_major": 2,
       "version_minor": 0
      },
      "text/plain": [
       "Processing:   0%|          | 0/8 [00:00<?, ? img/s]"
      ]
     },
     "metadata": {},
     "output_type": "display_data"
    },
    {
     "data": {
      "application/vnd.jupyter.widget-view+json": {
       "model_id": "6a213f9f8be34a738d7f1f9637eee2a7",
       "version_major": 2,
       "version_minor": 0
      },
      "text/plain": [
       "Processing:   0%|          | 0/18 [00:00<?, ? img/s]"
      ]
     },
     "metadata": {},
     "output_type": "display_data"
    },
    {
     "data": {
      "application/vnd.jupyter.widget-view+json": {
       "model_id": "c963753989984a1884d1f596b1ea4072",
       "version_major": 2,
       "version_minor": 0
      },
      "text/plain": [
       "Processing:   0%|          | 0/18 [00:00<?, ? img/s]"
      ]
     },
     "metadata": {},
     "output_type": "display_data"
    },
    {
     "data": {
      "application/vnd.jupyter.widget-view+json": {
       "model_id": "f3dbedccefee4a3fa104c69f121f9fca",
       "version_major": 2,
       "version_minor": 0
      },
      "text/plain": [
       "Processing:   0%|          | 0/36 [00:00<?, ? img/s]"
      ]
     },
     "metadata": {},
     "output_type": "display_data"
    },
    {
     "data": {
      "application/vnd.jupyter.widget-view+json": {
       "model_id": "b6ac293956d14b16ade47272c8708ee5",
       "version_major": 2,
       "version_minor": 0
      },
      "text/plain": [
       "Processing:   0%|          | 0/36 [00:00<?, ? img/s]"
      ]
     },
     "metadata": {},
     "output_type": "display_data"
    },
    {
     "data": {
      "application/vnd.jupyter.widget-view+json": {
       "model_id": "f553cc98ea534fefaa67430b846a04e9",
       "version_major": 2,
       "version_minor": 0
      },
      "text/plain": [
       "Processing:   0%|          | 0/36 [00:00<?, ? img/s]"
      ]
     },
     "metadata": {},
     "output_type": "display_data"
    },
    {
     "data": {
      "application/vnd.jupyter.widget-view+json": {
       "model_id": "60a0753904514c298aa759566435f167",
       "version_major": 2,
       "version_minor": 0
      },
      "text/plain": [
       "Processing:   0%|          | 0/36 [00:00<?, ? img/s]"
      ]
     },
     "metadata": {},
     "output_type": "display_data"
    },
    {
     "data": {
      "application/vnd.jupyter.widget-view+json": {
       "model_id": "183881d15ae945c19530e2ba90de27fc",
       "version_major": 2,
       "version_minor": 0
      },
      "text/plain": [
       "Processing:   0%|          | 0/4 [00:00<?, ? img/s]"
      ]
     },
     "metadata": {},
     "output_type": "display_data"
    },
    {
     "data": {
      "application/vnd.jupyter.widget-view+json": {
       "model_id": "6c4bda71827e4f35a41a4af4cd657a12",
       "version_major": 2,
       "version_minor": 0
      },
      "text/plain": [
       "Processing:   0%|          | 0/36 [00:00<?, ? img/s]"
      ]
     },
     "metadata": {},
     "output_type": "display_data"
    },
    {
     "data": {
      "application/vnd.jupyter.widget-view+json": {
       "model_id": "e1ca8eceac554fb9a8401c9a91509cea",
       "version_major": 2,
       "version_minor": 0
      },
      "text/plain": [
       "Processing:   0%|          | 0/7 [00:00<?, ? img/s]"
      ]
     },
     "metadata": {},
     "output_type": "display_data"
    },
    {
     "data": {
      "application/vnd.jupyter.widget-view+json": {
       "model_id": "dcffbda85bc349d5ac03b18e092ab7bd",
       "version_major": 2,
       "version_minor": 0
      },
      "text/plain": [
       "Processing:   0%|          | 0/36 [00:00<?, ? img/s]"
      ]
     },
     "metadata": {},
     "output_type": "display_data"
    },
    {
     "data": {
      "application/vnd.jupyter.widget-view+json": {
       "model_id": "0ce5c629b0cc43deab9b68248f0de96d",
       "version_major": 2,
       "version_minor": 0
      },
      "text/plain": [
       "Processing:   0%|          | 0/36 [00:00<?, ? img/s]"
      ]
     },
     "metadata": {},
     "output_type": "display_data"
    },
    {
     "data": {
      "application/vnd.jupyter.widget-view+json": {
       "model_id": "f9856c3c4c85409e999bdddc8246e685",
       "version_major": 2,
       "version_minor": 0
      },
      "text/plain": [
       "Processing:   0%|          | 0/17 [00:00<?, ? img/s]"
      ]
     },
     "metadata": {},
     "output_type": "display_data"
    },
    {
     "data": {
      "application/vnd.jupyter.widget-view+json": {
       "model_id": "16c54fa16dbf43a99b7c3f945a4c1636",
       "version_major": 2,
       "version_minor": 0
      },
      "text/plain": [
       "Processing:   0%|          | 0/17 [00:00<?, ? img/s]"
      ]
     },
     "metadata": {},
     "output_type": "display_data"
    },
    {
     "data": {
      "application/vnd.jupyter.widget-view+json": {
       "model_id": "893172914a7941458fa5ed42786aea00",
       "version_major": 2,
       "version_minor": 0
      },
      "text/plain": [
       "Processing:   0%|          | 0/17 [00:00<?, ? img/s]"
      ]
     },
     "metadata": {},
     "output_type": "display_data"
    },
    {
     "data": {
      "application/vnd.jupyter.widget-view+json": {
       "model_id": "bad94d2a730e4624bb36fd1395d83112",
       "version_major": 2,
       "version_minor": 0
      },
      "text/plain": [
       "Processing:   0%|          | 0/17 [00:00<?, ? img/s]"
      ]
     },
     "metadata": {},
     "output_type": "display_data"
    },
    {
     "data": {
      "application/vnd.jupyter.widget-view+json": {
       "model_id": "b189bb1313294b06a09b49c48b804a60",
       "version_major": 2,
       "version_minor": 0
      },
      "text/plain": [
       "Processing:   0%|          | 0/4 [00:00<?, ? img/s]"
      ]
     },
     "metadata": {},
     "output_type": "display_data"
    },
    {
     "data": {
      "application/vnd.jupyter.widget-view+json": {
       "model_id": "7690f4401f22471fbea3c78ba91d54f7",
       "version_major": 2,
       "version_minor": 0
      },
      "text/plain": [
       "Processing:   0%|          | 0/17 [00:00<?, ? img/s]"
      ]
     },
     "metadata": {},
     "output_type": "display_data"
    },
    {
     "data": {
      "application/vnd.jupyter.widget-view+json": {
       "model_id": "96ad64484c584ba5aab83f23179d0d82",
       "version_major": 2,
       "version_minor": 0
      },
      "text/plain": [
       "Processing:   0%|          | 0/7 [00:00<?, ? img/s]"
      ]
     },
     "metadata": {},
     "output_type": "display_data"
    },
    {
     "data": {
      "application/vnd.jupyter.widget-view+json": {
       "model_id": "e3bac2dd325a4b2f8cf21617f541e24f",
       "version_major": 2,
       "version_minor": 0
      },
      "text/plain": [
       "Processing:   0%|          | 0/17 [00:00<?, ? img/s]"
      ]
     },
     "metadata": {},
     "output_type": "display_data"
    },
    {
     "data": {
      "application/vnd.jupyter.widget-view+json": {
       "model_id": "1f5f5b74a74a4a3091e4c4ea5be01025",
       "version_major": 2,
       "version_minor": 0
      },
      "text/plain": [
       "Processing:   0%|          | 0/17 [00:00<?, ? img/s]"
      ]
     },
     "metadata": {},
     "output_type": "display_data"
    },
    {
     "data": {
      "application/vnd.jupyter.widget-view+json": {
       "model_id": "c28e2a01d0f1486fa15aae410f33e9a1",
       "version_major": 2,
       "version_minor": 0
      },
      "text/plain": [
       "Processing:   0%|          | 0/18 [00:00<?, ? img/s]"
      ]
     },
     "metadata": {},
     "output_type": "display_data"
    },
    {
     "data": {
      "application/vnd.jupyter.widget-view+json": {
       "model_id": "6cccd6fd50f645cba730d4e623292b13",
       "version_major": 2,
       "version_minor": 0
      },
      "text/plain": [
       "Processing:   0%|          | 0/18 [00:00<?, ? img/s]"
      ]
     },
     "metadata": {},
     "output_type": "display_data"
    },
    {
     "data": {
      "application/vnd.jupyter.widget-view+json": {
       "model_id": "330bf12ba0d648e1bdb03ac4474c30f8",
       "version_major": 2,
       "version_minor": 0
      },
      "text/plain": [
       "Processing:   0%|          | 0/18 [00:00<?, ? img/s]"
      ]
     },
     "metadata": {},
     "output_type": "display_data"
    },
    {
     "data": {
      "application/vnd.jupyter.widget-view+json": {
       "model_id": "fba6edd780814829a0aa3ab02ee676d8",
       "version_major": 2,
       "version_minor": 0
      },
      "text/plain": [
       "Processing:   0%|          | 0/18 [00:00<?, ? img/s]"
      ]
     },
     "metadata": {},
     "output_type": "display_data"
    },
    {
     "data": {
      "application/vnd.jupyter.widget-view+json": {
       "model_id": "80ffbc02dff54e43870bc09d4db49c77",
       "version_major": 2,
       "version_minor": 0
      },
      "text/plain": [
       "Processing:   0%|          | 0/4 [00:00<?, ? img/s]"
      ]
     },
     "metadata": {},
     "output_type": "display_data"
    },
    {
     "data": {
      "application/vnd.jupyter.widget-view+json": {
       "model_id": "0c8d34c281dd4df3bbea3660f774131a",
       "version_major": 2,
       "version_minor": 0
      },
      "text/plain": [
       "Processing:   0%|          | 0/18 [00:00<?, ? img/s]"
      ]
     },
     "metadata": {},
     "output_type": "display_data"
    },
    {
     "data": {
      "application/vnd.jupyter.widget-view+json": {
       "model_id": "ec4a9f378f4741ff903591489ba2d1f8",
       "version_major": 2,
       "version_minor": 0
      },
      "text/plain": [
       "Processing:   0%|          | 0/8 [00:00<?, ? img/s]"
      ]
     },
     "metadata": {},
     "output_type": "display_data"
    },
    {
     "data": {
      "application/vnd.jupyter.widget-view+json": {
       "model_id": "641893e5387e4ad085ce08b8afdb8dac",
       "version_major": 2,
       "version_minor": 0
      },
      "text/plain": [
       "Processing:   0%|          | 0/18 [00:00<?, ? img/s]"
      ]
     },
     "metadata": {},
     "output_type": "display_data"
    },
    {
     "data": {
      "application/vnd.jupyter.widget-view+json": {
       "model_id": "1a4fd5bcb50142fab143c7126e45c016",
       "version_major": 2,
       "version_minor": 0
      },
      "text/plain": [
       "Processing:   0%|          | 0/18 [00:00<?, ? img/s]"
      ]
     },
     "metadata": {},
     "output_type": "display_data"
    },
    {
     "data": {
      "application/vnd.jupyter.widget-view+json": {
       "model_id": "2d0e7c7a21fd49bf883378619486296a",
       "version_major": 2,
       "version_minor": 0
      },
      "text/plain": [
       "Processing:   0%|          | 0/36 [00:00<?, ? img/s]"
      ]
     },
     "metadata": {},
     "output_type": "display_data"
    },
    {
     "data": {
      "application/vnd.jupyter.widget-view+json": {
       "model_id": "fdfdf1e414ee423db67e61fb04ab36ec",
       "version_major": 2,
       "version_minor": 0
      },
      "text/plain": [
       "Processing:   0%|          | 0/36 [00:00<?, ? img/s]"
      ]
     },
     "metadata": {},
     "output_type": "display_data"
    },
    {
     "data": {
      "application/vnd.jupyter.widget-view+json": {
       "model_id": "bef2c7be13b64a08879e164323a012c4",
       "version_major": 2,
       "version_minor": 0
      },
      "text/plain": [
       "Processing:   0%|          | 0/36 [00:00<?, ? img/s]"
      ]
     },
     "metadata": {},
     "output_type": "display_data"
    },
    {
     "data": {
      "application/vnd.jupyter.widget-view+json": {
       "model_id": "298e5cdf8ac64bba947dbf49e24c6bb9",
       "version_major": 2,
       "version_minor": 0
      },
      "text/plain": [
       "Processing:   0%|          | 0/36 [00:00<?, ? img/s]"
      ]
     },
     "metadata": {},
     "output_type": "display_data"
    },
    {
     "data": {
      "application/vnd.jupyter.widget-view+json": {
       "model_id": "3692d9ccfe73414b83952cfb65925550",
       "version_major": 2,
       "version_minor": 0
      },
      "text/plain": [
       "Processing:   0%|          | 0/4 [00:00<?, ? img/s]"
      ]
     },
     "metadata": {},
     "output_type": "display_data"
    },
    {
     "data": {
      "application/vnd.jupyter.widget-view+json": {
       "model_id": "e0fda458676044efac794f4ec8ce8e3d",
       "version_major": 2,
       "version_minor": 0
      },
      "text/plain": [
       "Processing:   0%|          | 0/36 [00:00<?, ? img/s]"
      ]
     },
     "metadata": {},
     "output_type": "display_data"
    },
    {
     "data": {
      "application/vnd.jupyter.widget-view+json": {
       "model_id": "7c8f9bb228be4686becdf1581ba15400",
       "version_major": 2,
       "version_minor": 0
      },
      "text/plain": [
       "Processing:   0%|          | 0/7 [00:00<?, ? img/s]"
      ]
     },
     "metadata": {},
     "output_type": "display_data"
    },
    {
     "data": {
      "application/vnd.jupyter.widget-view+json": {
       "model_id": "f8ead5599fa94e06bffd7e28c74bdb03",
       "version_major": 2,
       "version_minor": 0
      },
      "text/plain": [
       "Processing:   0%|          | 0/36 [00:00<?, ? img/s]"
      ]
     },
     "metadata": {},
     "output_type": "display_data"
    },
    {
     "data": {
      "application/vnd.jupyter.widget-view+json": {
       "model_id": "1923d0070c7243ee914691fee7bd2276",
       "version_major": 2,
       "version_minor": 0
      },
      "text/plain": [
       "Processing:   0%|          | 0/36 [00:00<?, ? img/s]"
      ]
     },
     "metadata": {},
     "output_type": "display_data"
    },
    {
     "data": {
      "application/vnd.jupyter.widget-view+json": {
       "model_id": "70575572a9204d1eb8d5bd47578f3145",
       "version_major": 2,
       "version_minor": 0
      },
      "text/plain": [
       "Processing:   0%|          | 0/51 [00:00<?, ? img/s]"
      ]
     },
     "metadata": {},
     "output_type": "display_data"
    },
    {
     "data": {
      "application/vnd.jupyter.widget-view+json": {
       "model_id": "25c303aab10648b4b35561064a5b4dd3",
       "version_major": 2,
       "version_minor": 0
      },
      "text/plain": [
       "Processing:   0%|          | 0/51 [00:00<?, ? img/s]"
      ]
     },
     "metadata": {},
     "output_type": "display_data"
    },
    {
     "data": {
      "application/vnd.jupyter.widget-view+json": {
       "model_id": "8bf7723005994461870af1527ff4554b",
       "version_major": 2,
       "version_minor": 0
      },
      "text/plain": [
       "Processing:   0%|          | 0/51 [00:00<?, ? img/s]"
      ]
     },
     "metadata": {},
     "output_type": "display_data"
    },
    {
     "data": {
      "application/vnd.jupyter.widget-view+json": {
       "model_id": "51d0c957223a4f8eafbf10d04709fc8d",
       "version_major": 2,
       "version_minor": 0
      },
      "text/plain": [
       "Processing:   0%|          | 0/51 [00:00<?, ? img/s]"
      ]
     },
     "metadata": {},
     "output_type": "display_data"
    },
    {
     "data": {
      "application/vnd.jupyter.widget-view+json": {
       "model_id": "5e07060a9a1149169608a113bd3e2053",
       "version_major": 2,
       "version_minor": 0
      },
      "text/plain": [
       "Processing:   0%|          | 0/4 [00:00<?, ? img/s]"
      ]
     },
     "metadata": {},
     "output_type": "display_data"
    },
    {
     "data": {
      "application/vnd.jupyter.widget-view+json": {
       "model_id": "1ea40a3b430e489bb3a70f714c131b60",
       "version_major": 2,
       "version_minor": 0
      },
      "text/plain": [
       "Processing:   0%|          | 0/51 [00:00<?, ? img/s]"
      ]
     },
     "metadata": {},
     "output_type": "display_data"
    },
    {
     "data": {
      "application/vnd.jupyter.widget-view+json": {
       "model_id": "0deb45ac7cbb41c5a4d463d43b553549",
       "version_major": 2,
       "version_minor": 0
      },
      "text/plain": [
       "Processing:   0%|          | 0/7 [00:00<?, ? img/s]"
      ]
     },
     "metadata": {},
     "output_type": "display_data"
    },
    {
     "data": {
      "application/vnd.jupyter.widget-view+json": {
       "model_id": "19e6c738b9ae41da81fc617ae3b764ec",
       "version_major": 2,
       "version_minor": 0
      },
      "text/plain": [
       "Processing:   0%|          | 0/51 [00:00<?, ? img/s]"
      ]
     },
     "metadata": {},
     "output_type": "display_data"
    },
    {
     "data": {
      "application/vnd.jupyter.widget-view+json": {
       "model_id": "e983892c9d0843eaa17537d19bf2a51d",
       "version_major": 2,
       "version_minor": 0
      },
      "text/plain": [
       "Processing:   0%|          | 0/51 [00:00<?, ? img/s]"
      ]
     },
     "metadata": {},
     "output_type": "display_data"
    },
    {
     "data": {
      "application/vnd.jupyter.widget-view+json": {
       "model_id": "bc9d52a38cfe46c1ac6a7863a2fcec59",
       "version_major": 2,
       "version_minor": 0
      },
      "text/plain": [
       "Processing:   0%|          | 0/36 [00:00<?, ? img/s]"
      ]
     },
     "metadata": {},
     "output_type": "display_data"
    },
    {
     "data": {
      "application/vnd.jupyter.widget-view+json": {
       "model_id": "4099d4f23dc24fe0be54e692fadcd00b",
       "version_major": 2,
       "version_minor": 0
      },
      "text/plain": [
       "Processing:   0%|          | 0/36 [00:00<?, ? img/s]"
      ]
     },
     "metadata": {},
     "output_type": "display_data"
    },
    {
     "data": {
      "application/vnd.jupyter.widget-view+json": {
       "model_id": "d8a34444efeb4c1cb964f9864e5fbbb7",
       "version_major": 2,
       "version_minor": 0
      },
      "text/plain": [
       "Processing:   0%|          | 0/36 [00:00<?, ? img/s]"
      ]
     },
     "metadata": {},
     "output_type": "display_data"
    },
    {
     "data": {
      "application/vnd.jupyter.widget-view+json": {
       "model_id": "9d8e01784191474caf7e6c8aff1a7e0c",
       "version_major": 2,
       "version_minor": 0
      },
      "text/plain": [
       "Processing:   0%|          | 0/36 [00:00<?, ? img/s]"
      ]
     },
     "metadata": {},
     "output_type": "display_data"
    },
    {
     "data": {
      "application/vnd.jupyter.widget-view+json": {
       "model_id": "c04753e6b051409e9c55595e1b586ceb",
       "version_major": 2,
       "version_minor": 0
      },
      "text/plain": [
       "Processing:   0%|          | 0/4 [00:00<?, ? img/s]"
      ]
     },
     "metadata": {},
     "output_type": "display_data"
    },
    {
     "data": {
      "application/vnd.jupyter.widget-view+json": {
       "model_id": "d1a24e79a02249ebbf7af721d3876f86",
       "version_major": 2,
       "version_minor": 0
      },
      "text/plain": [
       "Processing:   0%|          | 0/36 [00:00<?, ? img/s]"
      ]
     },
     "metadata": {},
     "output_type": "display_data"
    },
    {
     "data": {
      "application/vnd.jupyter.widget-view+json": {
       "model_id": "1911635928804bbeb5ffff750d9e9969",
       "version_major": 2,
       "version_minor": 0
      },
      "text/plain": [
       "Processing:   0%|          | 0/7 [00:00<?, ? img/s]"
      ]
     },
     "metadata": {},
     "output_type": "display_data"
    },
    {
     "data": {
      "application/vnd.jupyter.widget-view+json": {
       "model_id": "4859dcd5824f4c9b892e487f9fa28602",
       "version_major": 2,
       "version_minor": 0
      },
      "text/plain": [
       "Processing:   0%|          | 0/36 [00:00<?, ? img/s]"
      ]
     },
     "metadata": {},
     "output_type": "display_data"
    },
    {
     "data": {
      "application/vnd.jupyter.widget-view+json": {
       "model_id": "3a4aff38235c43a5ba13e4ebbf56b274",
       "version_major": 2,
       "version_minor": 0
      },
      "text/plain": [
       "Processing:   0%|          | 0/36 [00:00<?, ? img/s]"
      ]
     },
     "metadata": {},
     "output_type": "display_data"
    },
    {
     "data": {
      "application/vnd.jupyter.widget-view+json": {
       "model_id": "8ea74223f67c4a52b124c7d93f147f5d",
       "version_major": 2,
       "version_minor": 0
      },
      "text/plain": [
       "Processing:   0%|          | 0/18 [00:00<?, ? img/s]"
      ]
     },
     "metadata": {},
     "output_type": "display_data"
    },
    {
     "data": {
      "application/vnd.jupyter.widget-view+json": {
       "model_id": "cc969923bc1c42f7a934187f4d21a9be",
       "version_major": 2,
       "version_minor": 0
      },
      "text/plain": [
       "Processing:   0%|          | 0/18 [00:00<?, ? img/s]"
      ]
     },
     "metadata": {},
     "output_type": "display_data"
    },
    {
     "data": {
      "application/vnd.jupyter.widget-view+json": {
       "model_id": "679dabffd6c44314b951a38332ae577e",
       "version_major": 2,
       "version_minor": 0
      },
      "text/plain": [
       "Processing:   0%|          | 0/18 [00:00<?, ? img/s]"
      ]
     },
     "metadata": {},
     "output_type": "display_data"
    },
    {
     "data": {
      "application/vnd.jupyter.widget-view+json": {
       "model_id": "1806e6bea2084f5eb34f4f7811463870",
       "version_major": 2,
       "version_minor": 0
      },
      "text/plain": [
       "Processing:   0%|          | 0/18 [00:00<?, ? img/s]"
      ]
     },
     "metadata": {},
     "output_type": "display_data"
    },
    {
     "data": {
      "application/vnd.jupyter.widget-view+json": {
       "model_id": "88e1120d7d564f7bb2751eb0808f7594",
       "version_major": 2,
       "version_minor": 0
      },
      "text/plain": [
       "Processing:   0%|          | 0/4 [00:00<?, ? img/s]"
      ]
     },
     "metadata": {},
     "output_type": "display_data"
    },
    {
     "data": {
      "application/vnd.jupyter.widget-view+json": {
       "model_id": "2ba98af5706c47e892174ac89b9477de",
       "version_major": 2,
       "version_minor": 0
      },
      "text/plain": [
       "Processing:   0%|          | 0/18 [00:00<?, ? img/s]"
      ]
     },
     "metadata": {},
     "output_type": "display_data"
    },
    {
     "data": {
      "application/vnd.jupyter.widget-view+json": {
       "model_id": "01ec13d339b64d5195f0951e7327ada4",
       "version_major": 2,
       "version_minor": 0
      },
      "text/plain": [
       "Processing:   0%|          | 0/8 [00:00<?, ? img/s]"
      ]
     },
     "metadata": {},
     "output_type": "display_data"
    },
    {
     "data": {
      "application/vnd.jupyter.widget-view+json": {
       "model_id": "e368678d71514636a25160bee581f520",
       "version_major": 2,
       "version_minor": 0
      },
      "text/plain": [
       "Processing:   0%|          | 0/18 [00:00<?, ? img/s]"
      ]
     },
     "metadata": {},
     "output_type": "display_data"
    },
    {
     "data": {
      "application/vnd.jupyter.widget-view+json": {
       "model_id": "e925a343524445c4af32a31e672775f4",
       "version_major": 2,
       "version_minor": 0
      },
      "text/plain": [
       "Processing:   0%|          | 0/18 [00:00<?, ? img/s]"
      ]
     },
     "metadata": {},
     "output_type": "display_data"
    },
    {
     "data": {
      "application/vnd.jupyter.widget-view+json": {
       "model_id": "985c5d53a4ef4b6586581e00adde2996",
       "version_major": 2,
       "version_minor": 0
      },
      "text/plain": [
       "Processing:   0%|          | 0/36 [00:00<?, ? img/s]"
      ]
     },
     "metadata": {},
     "output_type": "display_data"
    },
    {
     "data": {
      "application/vnd.jupyter.widget-view+json": {
       "model_id": "455b9a67cf96407da78f1ccb9b027395",
       "version_major": 2,
       "version_minor": 0
      },
      "text/plain": [
       "Processing:   0%|          | 0/36 [00:00<?, ? img/s]"
      ]
     },
     "metadata": {},
     "output_type": "display_data"
    },
    {
     "data": {
      "application/vnd.jupyter.widget-view+json": {
       "model_id": "5e2b43199a5241f9abf542ae3d8d83ea",
       "version_major": 2,
       "version_minor": 0
      },
      "text/plain": [
       "Processing:   0%|          | 0/36 [00:00<?, ? img/s]"
      ]
     },
     "metadata": {},
     "output_type": "display_data"
    },
    {
     "data": {
      "application/vnd.jupyter.widget-view+json": {
       "model_id": "5d1769026dd24bed884352df2ea0b2b2",
       "version_major": 2,
       "version_minor": 0
      },
      "text/plain": [
       "Processing:   0%|          | 0/36 [00:00<?, ? img/s]"
      ]
     },
     "metadata": {},
     "output_type": "display_data"
    },
    {
     "data": {
      "application/vnd.jupyter.widget-view+json": {
       "model_id": "5e1424e4a07149f6a4c55ff7d53fb5e1",
       "version_major": 2,
       "version_minor": 0
      },
      "text/plain": [
       "Processing:   0%|          | 0/4 [00:00<?, ? img/s]"
      ]
     },
     "metadata": {},
     "output_type": "display_data"
    },
    {
     "data": {
      "application/vnd.jupyter.widget-view+json": {
       "model_id": "81a80f6382a4446192b4072e5c7468e0",
       "version_major": 2,
       "version_minor": 0
      },
      "text/plain": [
       "Processing:   0%|          | 0/36 [00:00<?, ? img/s]"
      ]
     },
     "metadata": {},
     "output_type": "display_data"
    },
    {
     "data": {
      "application/vnd.jupyter.widget-view+json": {
       "model_id": "6bd7074dca6748d987e13be6769ce1c9",
       "version_major": 2,
       "version_minor": 0
      },
      "text/plain": [
       "Processing:   0%|          | 0/7 [00:00<?, ? img/s]"
      ]
     },
     "metadata": {},
     "output_type": "display_data"
    },
    {
     "data": {
      "application/vnd.jupyter.widget-view+json": {
       "model_id": "527cdf86b3f240be9c42eb99d585994a",
       "version_major": 2,
       "version_minor": 0
      },
      "text/plain": [
       "Processing:   0%|          | 0/36 [00:00<?, ? img/s]"
      ]
     },
     "metadata": {},
     "output_type": "display_data"
    },
    {
     "data": {
      "application/vnd.jupyter.widget-view+json": {
       "model_id": "0d2604434f8d47fdba0fbbddd3fdcfc0",
       "version_major": 2,
       "version_minor": 0
      },
      "text/plain": [
       "Processing:   0%|          | 0/36 [00:00<?, ? img/s]"
      ]
     },
     "metadata": {},
     "output_type": "display_data"
    },
    {
     "data": {
      "application/vnd.jupyter.widget-view+json": {
       "model_id": "2f6203f001cf41e49b61a46bb283b456",
       "version_major": 2,
       "version_minor": 0
      },
      "text/plain": [
       "Processing:   0%|          | 0/18 [00:00<?, ? img/s]"
      ]
     },
     "metadata": {},
     "output_type": "display_data"
    },
    {
     "data": {
      "application/vnd.jupyter.widget-view+json": {
       "model_id": "6ad59f26fc154b7fa05253431f02ac87",
       "version_major": 2,
       "version_minor": 0
      },
      "text/plain": [
       "Processing:   0%|          | 0/18 [00:00<?, ? img/s]"
      ]
     },
     "metadata": {},
     "output_type": "display_data"
    },
    {
     "data": {
      "application/vnd.jupyter.widget-view+json": {
       "model_id": "cac04848e52945cfad7faa518746dad6",
       "version_major": 2,
       "version_minor": 0
      },
      "text/plain": [
       "Processing:   0%|          | 0/18 [00:00<?, ? img/s]"
      ]
     },
     "metadata": {},
     "output_type": "display_data"
    },
    {
     "data": {
      "application/vnd.jupyter.widget-view+json": {
       "model_id": "935ca12b567d446b95d7b7cfb1db6d60",
       "version_major": 2,
       "version_minor": 0
      },
      "text/plain": [
       "Processing:   0%|          | 0/18 [00:00<?, ? img/s]"
      ]
     },
     "metadata": {},
     "output_type": "display_data"
    },
    {
     "data": {
      "application/vnd.jupyter.widget-view+json": {
       "model_id": "292a674aea5b4fc09dd4a19f615db0cc",
       "version_major": 2,
       "version_minor": 0
      },
      "text/plain": [
       "Processing:   0%|          | 0/4 [00:00<?, ? img/s]"
      ]
     },
     "metadata": {},
     "output_type": "display_data"
    },
    {
     "data": {
      "application/vnd.jupyter.widget-view+json": {
       "model_id": "fbea49af462c43699752fb052f27eca8",
       "version_major": 2,
       "version_minor": 0
      },
      "text/plain": [
       "Processing:   0%|          | 0/18 [00:00<?, ? img/s]"
      ]
     },
     "metadata": {},
     "output_type": "display_data"
    },
    {
     "data": {
      "application/vnd.jupyter.widget-view+json": {
       "model_id": "d3f8eac5bacb4019b2be3c4d4fa63211",
       "version_major": 2,
       "version_minor": 0
      },
      "text/plain": [
       "Processing:   0%|          | 0/8 [00:00<?, ? img/s]"
      ]
     },
     "metadata": {},
     "output_type": "display_data"
    },
    {
     "data": {
      "application/vnd.jupyter.widget-view+json": {
       "model_id": "b0ec6dda52b54ecba6d6f49774b4c8c8",
       "version_major": 2,
       "version_minor": 0
      },
      "text/plain": [
       "Processing:   0%|          | 0/18 [00:00<?, ? img/s]"
      ]
     },
     "metadata": {},
     "output_type": "display_data"
    },
    {
     "data": {
      "application/vnd.jupyter.widget-view+json": {
       "model_id": "cf7a3d7665b645858283ed553f0c917e",
       "version_major": 2,
       "version_minor": 0
      },
      "text/plain": [
       "Processing:   0%|          | 0/18 [00:00<?, ? img/s]"
      ]
     },
     "metadata": {},
     "output_type": "display_data"
    },
    {
     "data": {
      "application/vnd.jupyter.widget-view+json": {
       "model_id": "8ebe6953f0094fc08ac1dfe58e7380c9",
       "version_major": 2,
       "version_minor": 0
      },
      "text/plain": [
       "Processing:   0%|          | 0/36 [00:00<?, ? img/s]"
      ]
     },
     "metadata": {},
     "output_type": "display_data"
    },
    {
     "data": {
      "application/vnd.jupyter.widget-view+json": {
       "model_id": "b6290d747902492195a546676f4edd4b",
       "version_major": 2,
       "version_minor": 0
      },
      "text/plain": [
       "Processing:   0%|          | 0/36 [00:00<?, ? img/s]"
      ]
     },
     "metadata": {},
     "output_type": "display_data"
    },
    {
     "data": {
      "application/vnd.jupyter.widget-view+json": {
       "model_id": "007d8dff797444e187b76bc94a47afd2",
       "version_major": 2,
       "version_minor": 0
      },
      "text/plain": [
       "Processing:   0%|          | 0/36 [00:00<?, ? img/s]"
      ]
     },
     "metadata": {},
     "output_type": "display_data"
    },
    {
     "data": {
      "application/vnd.jupyter.widget-view+json": {
       "model_id": "e6e5df9973654bea84c8d42ab28112e9",
       "version_major": 2,
       "version_minor": 0
      },
      "text/plain": [
       "Processing:   0%|          | 0/36 [00:00<?, ? img/s]"
      ]
     },
     "metadata": {},
     "output_type": "display_data"
    },
    {
     "data": {
      "application/vnd.jupyter.widget-view+json": {
       "model_id": "a3f16a4cf5e74e2a85d9c3e67f1aaa13",
       "version_major": 2,
       "version_minor": 0
      },
      "text/plain": [
       "Processing:   0%|          | 0/4 [00:00<?, ? img/s]"
      ]
     },
     "metadata": {},
     "output_type": "display_data"
    },
    {
     "data": {
      "application/vnd.jupyter.widget-view+json": {
       "model_id": "83b5f612943a490c94e68ad652478abe",
       "version_major": 2,
       "version_minor": 0
      },
      "text/plain": [
       "Processing:   0%|          | 0/36 [00:00<?, ? img/s]"
      ]
     },
     "metadata": {},
     "output_type": "display_data"
    },
    {
     "data": {
      "application/vnd.jupyter.widget-view+json": {
       "model_id": "1708c7088f3b44b79e67448519fc4f17",
       "version_major": 2,
       "version_minor": 0
      },
      "text/plain": [
       "Processing:   0%|          | 0/7 [00:00<?, ? img/s]"
      ]
     },
     "metadata": {},
     "output_type": "display_data"
    },
    {
     "data": {
      "application/vnd.jupyter.widget-view+json": {
       "model_id": "4aba85c480b44c4aa92f653de70a15d9",
       "version_major": 2,
       "version_minor": 0
      },
      "text/plain": [
       "Processing:   0%|          | 0/36 [00:00<?, ? img/s]"
      ]
     },
     "metadata": {},
     "output_type": "display_data"
    },
    {
     "data": {
      "application/vnd.jupyter.widget-view+json": {
       "model_id": "aef32fe75806494687fdc445433eeca3",
       "version_major": 2,
       "version_minor": 0
      },
      "text/plain": [
       "Processing:   0%|          | 0/36 [00:00<?, ? img/s]"
      ]
     },
     "metadata": {},
     "output_type": "display_data"
    },
    {
     "data": {
      "application/vnd.jupyter.widget-view+json": {
       "model_id": "e108afe0cbbe4dc18c2445d91a77fd35",
       "version_major": 2,
       "version_minor": 0
      },
      "text/plain": [
       "Processing:   0%|          | 0/36 [00:00<?, ? img/s]"
      ]
     },
     "metadata": {},
     "output_type": "display_data"
    },
    {
     "data": {
      "application/vnd.jupyter.widget-view+json": {
       "model_id": "39f26c00c22d4f05ad1021b76a0a95da",
       "version_major": 2,
       "version_minor": 0
      },
      "text/plain": [
       "Processing:   0%|          | 0/36 [00:00<?, ? img/s]"
      ]
     },
     "metadata": {},
     "output_type": "display_data"
    },
    {
     "data": {
      "application/vnd.jupyter.widget-view+json": {
       "model_id": "58aff3bda19d4a57a5b1d7355c6afcf3",
       "version_major": 2,
       "version_minor": 0
      },
      "text/plain": [
       "Processing:   0%|          | 0/36 [00:00<?, ? img/s]"
      ]
     },
     "metadata": {},
     "output_type": "display_data"
    },
    {
     "data": {
      "application/vnd.jupyter.widget-view+json": {
       "model_id": "5d9e2882e36c41c083e052dd8a87e5f7",
       "version_major": 2,
       "version_minor": 0
      },
      "text/plain": [
       "Processing:   0%|          | 0/36 [00:00<?, ? img/s]"
      ]
     },
     "metadata": {},
     "output_type": "display_data"
    },
    {
     "data": {
      "application/vnd.jupyter.widget-view+json": {
       "model_id": "488e93bf002847a0b3f57e83405f23e6",
       "version_major": 2,
       "version_minor": 0
      },
      "text/plain": [
       "Processing:   0%|          | 0/4 [00:00<?, ? img/s]"
      ]
     },
     "metadata": {},
     "output_type": "display_data"
    },
    {
     "data": {
      "application/vnd.jupyter.widget-view+json": {
       "model_id": "a19aff8396a544c3a2c5ee69e45a1e90",
       "version_major": 2,
       "version_minor": 0
      },
      "text/plain": [
       "Processing:   0%|          | 0/36 [00:00<?, ? img/s]"
      ]
     },
     "metadata": {},
     "output_type": "display_data"
    },
    {
     "data": {
      "application/vnd.jupyter.widget-view+json": {
       "model_id": "389c5520ee83466b84e36337ef0a5ad6",
       "version_major": 2,
       "version_minor": 0
      },
      "text/plain": [
       "Processing:   0%|          | 0/7 [00:00<?, ? img/s]"
      ]
     },
     "metadata": {},
     "output_type": "display_data"
    },
    {
     "data": {
      "application/vnd.jupyter.widget-view+json": {
       "model_id": "388539ef460e4c44b25e7df3893df0e5",
       "version_major": 2,
       "version_minor": 0
      },
      "text/plain": [
       "Processing:   0%|          | 0/36 [00:00<?, ? img/s]"
      ]
     },
     "metadata": {},
     "output_type": "display_data"
    },
    {
     "data": {
      "application/vnd.jupyter.widget-view+json": {
       "model_id": "9333731e2bb6422185ce9cf7bb35132c",
       "version_major": 2,
       "version_minor": 0
      },
      "text/plain": [
       "Processing:   0%|          | 0/36 [00:00<?, ? img/s]"
      ]
     },
     "metadata": {},
     "output_type": "display_data"
    },
    {
     "data": {
      "application/vnd.jupyter.widget-view+json": {
       "model_id": "8220c6bedc8243fcbd4d100a04432cda",
       "version_major": 2,
       "version_minor": 0
      },
      "text/plain": [
       "Processing:   0%|          | 0/17 [00:00<?, ? img/s]"
      ]
     },
     "metadata": {},
     "output_type": "display_data"
    },
    {
     "data": {
      "application/vnd.jupyter.widget-view+json": {
       "model_id": "d01b6dda2f23401c82a938381a6a78e3",
       "version_major": 2,
       "version_minor": 0
      },
      "text/plain": [
       "Processing:   0%|          | 0/17 [00:00<?, ? img/s]"
      ]
     },
     "metadata": {},
     "output_type": "display_data"
    },
    {
     "data": {
      "application/vnd.jupyter.widget-view+json": {
       "model_id": "f59f9d6f38fd488a98b43a3194d1d095",
       "version_major": 2,
       "version_minor": 0
      },
      "text/plain": [
       "Processing:   0%|          | 0/17 [00:00<?, ? img/s]"
      ]
     },
     "metadata": {},
     "output_type": "display_data"
    },
    {
     "data": {
      "application/vnd.jupyter.widget-view+json": {
       "model_id": "df2441f92a5a4a26a9ecb3156aa06e1e",
       "version_major": 2,
       "version_minor": 0
      },
      "text/plain": [
       "Processing:   0%|          | 0/17 [00:00<?, ? img/s]"
      ]
     },
     "metadata": {},
     "output_type": "display_data"
    },
    {
     "data": {
      "application/vnd.jupyter.widget-view+json": {
       "model_id": "4d79886dab694cd4bc6b45bdaf536188",
       "version_major": 2,
       "version_minor": 0
      },
      "text/plain": [
       "Processing:   0%|          | 0/4 [00:00<?, ? img/s]"
      ]
     },
     "metadata": {},
     "output_type": "display_data"
    },
    {
     "data": {
      "application/vnd.jupyter.widget-view+json": {
       "model_id": "715951fb45924e449876ae3ed3ed6ea5",
       "version_major": 2,
       "version_minor": 0
      },
      "text/plain": [
       "Processing:   0%|          | 0/17 [00:00<?, ? img/s]"
      ]
     },
     "metadata": {},
     "output_type": "display_data"
    },
    {
     "data": {
      "application/vnd.jupyter.widget-view+json": {
       "model_id": "9e420362d37243f1a01f6a00520af557",
       "version_major": 2,
       "version_minor": 0
      },
      "text/plain": [
       "Processing:   0%|          | 0/7 [00:00<?, ? img/s]"
      ]
     },
     "metadata": {},
     "output_type": "display_data"
    },
    {
     "data": {
      "application/vnd.jupyter.widget-view+json": {
       "model_id": "887c9f87e25a4a20abbe31cbc8865154",
       "version_major": 2,
       "version_minor": 0
      },
      "text/plain": [
       "Processing:   0%|          | 0/17 [00:00<?, ? img/s]"
      ]
     },
     "metadata": {},
     "output_type": "display_data"
    },
    {
     "data": {
      "application/vnd.jupyter.widget-view+json": {
       "model_id": "1daddb0fdf10438daf675c4e2b9f0a51",
       "version_major": 2,
       "version_minor": 0
      },
      "text/plain": [
       "Processing:   0%|          | 0/17 [00:00<?, ? img/s]"
      ]
     },
     "metadata": {},
     "output_type": "display_data"
    },
    {
     "data": {
      "application/vnd.jupyter.widget-view+json": {
       "model_id": "4983bcebb15d4f91bc049550514c104e",
       "version_major": 2,
       "version_minor": 0
      },
      "text/plain": [
       "Processing:   0%|          | 0/36 [00:00<?, ? img/s]"
      ]
     },
     "metadata": {},
     "output_type": "display_data"
    },
    {
     "data": {
      "application/vnd.jupyter.widget-view+json": {
       "model_id": "fd0448c1d5174b3fa2a40052da210319",
       "version_major": 2,
       "version_minor": 0
      },
      "text/plain": [
       "Processing:   0%|          | 0/36 [00:00<?, ? img/s]"
      ]
     },
     "metadata": {},
     "output_type": "display_data"
    },
    {
     "data": {
      "application/vnd.jupyter.widget-view+json": {
       "model_id": "4b62ea9d72484ed3bc2d14a316ec6337",
       "version_major": 2,
       "version_minor": 0
      },
      "text/plain": [
       "Processing:   0%|          | 0/36 [00:00<?, ? img/s]"
      ]
     },
     "metadata": {},
     "output_type": "display_data"
    },
    {
     "data": {
      "application/vnd.jupyter.widget-view+json": {
       "model_id": "de70a84ebe294ea18ed75ee7b8fae041",
       "version_major": 2,
       "version_minor": 0
      },
      "text/plain": [
       "Processing:   0%|          | 0/36 [00:00<?, ? img/s]"
      ]
     },
     "metadata": {},
     "output_type": "display_data"
    },
    {
     "data": {
      "application/vnd.jupyter.widget-view+json": {
       "model_id": "a2cebc4b88fe40739678d80ebd244603",
       "version_major": 2,
       "version_minor": 0
      },
      "text/plain": [
       "Processing:   0%|          | 0/4 [00:00<?, ? img/s]"
      ]
     },
     "metadata": {},
     "output_type": "display_data"
    },
    {
     "data": {
      "application/vnd.jupyter.widget-view+json": {
       "model_id": "a686bd6dfede4de3b0d3d4ff58de87ff",
       "version_major": 2,
       "version_minor": 0
      },
      "text/plain": [
       "Processing:   0%|          | 0/36 [00:00<?, ? img/s]"
      ]
     },
     "metadata": {},
     "output_type": "display_data"
    },
    {
     "data": {
      "application/vnd.jupyter.widget-view+json": {
       "model_id": "d192189e8637413bb25b2ce13bc32b24",
       "version_major": 2,
       "version_minor": 0
      },
      "text/plain": [
       "Processing:   0%|          | 0/8 [00:00<?, ? img/s]"
      ]
     },
     "metadata": {},
     "output_type": "display_data"
    },
    {
     "data": {
      "application/vnd.jupyter.widget-view+json": {
       "model_id": "e200093f03ae4a0b8378fd271f6678a9",
       "version_major": 2,
       "version_minor": 0
      },
      "text/plain": [
       "Processing:   0%|          | 0/36 [00:00<?, ? img/s]"
      ]
     },
     "metadata": {},
     "output_type": "display_data"
    },
    {
     "data": {
      "application/vnd.jupyter.widget-view+json": {
       "model_id": "4e397941eaa74b5e89e79cb795addefa",
       "version_major": 2,
       "version_minor": 0
      },
      "text/plain": [
       "Processing:   0%|          | 0/36 [00:00<?, ? img/s]"
      ]
     },
     "metadata": {},
     "output_type": "display_data"
    },
    {
     "data": {
      "application/vnd.jupyter.widget-view+json": {
       "model_id": "255b5a94f8084da7aa16c32c344b9e7b",
       "version_major": 2,
       "version_minor": 0
      },
      "text/plain": [
       "Processing:   0%|          | 0/36 [00:00<?, ? img/s]"
      ]
     },
     "metadata": {},
     "output_type": "display_data"
    },
    {
     "data": {
      "application/vnd.jupyter.widget-view+json": {
       "model_id": "78f8df852295444f88be9664971fec4c",
       "version_major": 2,
       "version_minor": 0
      },
      "text/plain": [
       "Processing:   0%|          | 0/36 [00:00<?, ? img/s]"
      ]
     },
     "metadata": {},
     "output_type": "display_data"
    },
    {
     "data": {
      "application/vnd.jupyter.widget-view+json": {
       "model_id": "8abe39fd5b9044eabe808890f1890122",
       "version_major": 2,
       "version_minor": 0
      },
      "text/plain": [
       "Processing:   0%|          | 0/36 [00:00<?, ? img/s]"
      ]
     },
     "metadata": {},
     "output_type": "display_data"
    },
    {
     "data": {
      "application/vnd.jupyter.widget-view+json": {
       "model_id": "60d81a93603d42daa07d7ee165eb903f",
       "version_major": 2,
       "version_minor": 0
      },
      "text/plain": [
       "Processing:   0%|          | 0/36 [00:00<?, ? img/s]"
      ]
     },
     "metadata": {},
     "output_type": "display_data"
    },
    {
     "data": {
      "application/vnd.jupyter.widget-view+json": {
       "model_id": "a327e5e0d85a4217ae636085bf900916",
       "version_major": 2,
       "version_minor": 0
      },
      "text/plain": [
       "Processing:   0%|          | 0/4 [00:00<?, ? img/s]"
      ]
     },
     "metadata": {},
     "output_type": "display_data"
    },
    {
     "data": {
      "application/vnd.jupyter.widget-view+json": {
       "model_id": "f74862b3fce64aec83919f2844409323",
       "version_major": 2,
       "version_minor": 0
      },
      "text/plain": [
       "Processing:   0%|          | 0/36 [00:00<?, ? img/s]"
      ]
     },
     "metadata": {},
     "output_type": "display_data"
    },
    {
     "data": {
      "application/vnd.jupyter.widget-view+json": {
       "model_id": "19aab87d37cb49aaba56c1802580e294",
       "version_major": 2,
       "version_minor": 0
      },
      "text/plain": [
       "Processing:   0%|          | 0/7 [00:00<?, ? img/s]"
      ]
     },
     "metadata": {},
     "output_type": "display_data"
    },
    {
     "data": {
      "application/vnd.jupyter.widget-view+json": {
       "model_id": "8a64749da0ec4003b91d2eb348e565b0",
       "version_major": 2,
       "version_minor": 0
      },
      "text/plain": [
       "Processing:   0%|          | 0/36 [00:00<?, ? img/s]"
      ]
     },
     "metadata": {},
     "output_type": "display_data"
    },
    {
     "data": {
      "application/vnd.jupyter.widget-view+json": {
       "model_id": "64e2a7b7a49c46da992d123ac990923a",
       "version_major": 2,
       "version_minor": 0
      },
      "text/plain": [
       "Processing:   0%|          | 0/36 [00:00<?, ? img/s]"
      ]
     },
     "metadata": {},
     "output_type": "display_data"
    },
    {
     "data": {
      "application/vnd.jupyter.widget-view+json": {
       "model_id": "cb26647f9c7d4e079fb22a1cc282abad",
       "version_major": 2,
       "version_minor": 0
      },
      "text/plain": [
       "Processing:   0%|          | 0/36 [00:00<?, ? img/s]"
      ]
     },
     "metadata": {},
     "output_type": "display_data"
    },
    {
     "data": {
      "application/vnd.jupyter.widget-view+json": {
       "model_id": "a741ac3187dc4f99b7f8629832a960f7",
       "version_major": 2,
       "version_minor": 0
      },
      "text/plain": [
       "Processing:   0%|          | 0/36 [00:00<?, ? img/s]"
      ]
     },
     "metadata": {},
     "output_type": "display_data"
    },
    {
     "data": {
      "application/vnd.jupyter.widget-view+json": {
       "model_id": "d619606dc1e548f8b8a7f46a4c1028ee",
       "version_major": 2,
       "version_minor": 0
      },
      "text/plain": [
       "Processing:   0%|          | 0/36 [00:00<?, ? img/s]"
      ]
     },
     "metadata": {},
     "output_type": "display_data"
    },
    {
     "data": {
      "application/vnd.jupyter.widget-view+json": {
       "model_id": "a81b809b75a3489c9ecf61ea2f39f28b",
       "version_major": 2,
       "version_minor": 0
      },
      "text/plain": [
       "Processing:   0%|          | 0/36 [00:00<?, ? img/s]"
      ]
     },
     "metadata": {},
     "output_type": "display_data"
    },
    {
     "data": {
      "application/vnd.jupyter.widget-view+json": {
       "model_id": "028ec971312e4245be2f73b34af88840",
       "version_major": 2,
       "version_minor": 0
      },
      "text/plain": [
       "Processing:   0%|          | 0/4 [00:00<?, ? img/s]"
      ]
     },
     "metadata": {},
     "output_type": "display_data"
    },
    {
     "data": {
      "application/vnd.jupyter.widget-view+json": {
       "model_id": "17f94945658f47238e27f01cdb280b4a",
       "version_major": 2,
       "version_minor": 0
      },
      "text/plain": [
       "Processing:   0%|          | 0/36 [00:00<?, ? img/s]"
      ]
     },
     "metadata": {},
     "output_type": "display_data"
    },
    {
     "data": {
      "application/vnd.jupyter.widget-view+json": {
       "model_id": "47065522d2fc469bbff37cf907f79885",
       "version_major": 2,
       "version_minor": 0
      },
      "text/plain": [
       "Processing:   0%|          | 0/7 [00:00<?, ? img/s]"
      ]
     },
     "metadata": {},
     "output_type": "display_data"
    },
    {
     "data": {
      "application/vnd.jupyter.widget-view+json": {
       "model_id": "b9ac20835c514d8ca5b8ff7b82aa5809",
       "version_major": 2,
       "version_minor": 0
      },
      "text/plain": [
       "Processing:   0%|          | 0/36 [00:00<?, ? img/s]"
      ]
     },
     "metadata": {},
     "output_type": "display_data"
    },
    {
     "data": {
      "application/vnd.jupyter.widget-view+json": {
       "model_id": "ee36a382634242918a01b73b4cc3c191",
       "version_major": 2,
       "version_minor": 0
      },
      "text/plain": [
       "Processing:   0%|          | 0/36 [00:00<?, ? img/s]"
      ]
     },
     "metadata": {},
     "output_type": "display_data"
    },
    {
     "data": {
      "application/vnd.jupyter.widget-view+json": {
       "model_id": "103295c91b204b69abaa595954af0e41",
       "version_major": 2,
       "version_minor": 0
      },
      "text/plain": [
       "Processing:   0%|          | 0/892 [00:00<?, ? img/s]"
      ]
     },
     "metadata": {},
     "output_type": "display_data"
    },
    {
     "data": {
      "text/html": [
       "<div>\n",
       "<style scoped>\n",
       "    .dataframe tbody tr th:only-of-type {\n",
       "        vertical-align: middle;\n",
       "    }\n",
       "\n",
       "    .dataframe tbody tr th {\n",
       "        vertical-align: top;\n",
       "    }\n",
       "\n",
       "    .dataframe thead th {\n",
       "        text-align: right;\n",
       "    }\n",
       "</style>\n",
       "<table border=\"1\" class=\"dataframe\">\n",
       "  <thead>\n",
       "    <tr style=\"text-align: right;\">\n",
       "      <th></th>\n",
       "      <th>File_Name</th>\n",
       "      <th>Bands</th>\n",
       "      <th>Height</th>\n",
       "      <th>Width</th>\n",
       "      <th>Resolution</th>\n",
       "      <th>CRS</th>\n",
       "      <th>Bound_Left</th>\n",
       "      <th>Bound_Bottom</th>\n",
       "      <th>Bound_Right</th>\n",
       "      <th>Bound_Top</th>\n",
       "    </tr>\n",
       "  </thead>\n",
       "  <tbody>\n",
       "    <tr>\n",
       "      <th>0</th>\n",
       "      <td>Prepared BLYP 20221228_CWOF - Paddock 30.tiff</td>\n",
       "      <td>5</td>\n",
       "      <td>54</td>\n",
       "      <td>219</td>\n",
       "      <td>(1.0, 1.0)</td>\n",
       "      <td>EPSG:2193</td>\n",
       "      <td>1.698355e+06</td>\n",
       "      <td>5.624060e+06</td>\n",
       "      <td>1.698574e+06</td>\n",
       "      <td>5.624114e+06</td>\n",
       "    </tr>\n",
       "    <tr>\n",
       "      <th>1</th>\n",
       "      <td>Prepared BLYP 20221031_CWOF - Paddock 36.tiff</td>\n",
       "      <td>5</td>\n",
       "      <td>57</td>\n",
       "      <td>222</td>\n",
       "      <td>(1.0, 1.0)</td>\n",
       "      <td>EPSG:2193</td>\n",
       "      <td>1.698348e+06</td>\n",
       "      <td>5.623836e+06</td>\n",
       "      <td>1.698570e+06</td>\n",
       "      <td>5.623893e+06</td>\n",
       "    </tr>\n",
       "    <tr>\n",
       "      <th>2</th>\n",
       "      <td>Prepared BLYP 20230228_CWOF - Paddock 34.tiff</td>\n",
       "      <td>5</td>\n",
       "      <td>54</td>\n",
       "      <td>222</td>\n",
       "      <td>(1.0, 1.0)</td>\n",
       "      <td>EPSG:2193</td>\n",
       "      <td>1.698352e+06</td>\n",
       "      <td>5.623909e+06</td>\n",
       "      <td>1.698574e+06</td>\n",
       "      <td>5.623963e+06</td>\n",
       "    </tr>\n",
       "    <tr>\n",
       "      <th>3</th>\n",
       "      <td>Prepared BLYP 20230123_CWOF - Paddock 20.tiff</td>\n",
       "      <td>5</td>\n",
       "      <td>69</td>\n",
       "      <td>153</td>\n",
       "      <td>(1.0, 1.0)</td>\n",
       "      <td>EPSG:2193</td>\n",
       "      <td>1.698298e+06</td>\n",
       "      <td>5.624414e+06</td>\n",
       "      <td>1.698451e+06</td>\n",
       "      <td>5.624483e+06</td>\n",
       "    </tr>\n",
       "    <tr>\n",
       "      <th>4</th>\n",
       "      <td>Prepared BLYP 20221003_CWOF - Paddock 21.tiff</td>\n",
       "      <td>5</td>\n",
       "      <td>66</td>\n",
       "      <td>135</td>\n",
       "      <td>(1.0, 1.0)</td>\n",
       "      <td>EPSG:2193</td>\n",
       "      <td>1.698448e+06</td>\n",
       "      <td>5.624413e+06</td>\n",
       "      <td>1.698583e+06</td>\n",
       "      <td>5.624479e+06</td>\n",
       "    </tr>\n",
       "    <tr>\n",
       "      <th>...</th>\n",
       "      <td>...</td>\n",
       "      <td>...</td>\n",
       "      <td>...</td>\n",
       "      <td>...</td>\n",
       "      <td>...</td>\n",
       "      <td>...</td>\n",
       "      <td>...</td>\n",
       "      <td>...</td>\n",
       "      <td>...</td>\n",
       "      <td>...</td>\n",
       "    </tr>\n",
       "    <tr>\n",
       "      <th>887</th>\n",
       "      <td>Prepared BLYP 20230403_CWOF - Paddock 30.tiff</td>\n",
       "      <td>5</td>\n",
       "      <td>54</td>\n",
       "      <td>219</td>\n",
       "      <td>(1.0, 1.0)</td>\n",
       "      <td>EPSG:2193</td>\n",
       "      <td>1.698355e+06</td>\n",
       "      <td>5.624060e+06</td>\n",
       "      <td>1.698574e+06</td>\n",
       "      <td>5.624114e+06</td>\n",
       "    </tr>\n",
       "    <tr>\n",
       "      <th>888</th>\n",
       "      <td>Prepared BLYP 20230415_CWOF - Paddock 12.tiff</td>\n",
       "      <td>5</td>\n",
       "      <td>54</td>\n",
       "      <td>198</td>\n",
       "      <td>(1.0, 1.0)</td>\n",
       "      <td>EPSG:2193</td>\n",
       "      <td>1.698142e+06</td>\n",
       "      <td>5.624142e+06</td>\n",
       "      <td>1.698340e+06</td>\n",
       "      <td>5.624196e+06</td>\n",
       "    </tr>\n",
       "    <tr>\n",
       "      <th>889</th>\n",
       "      <td>Prepared BLYP 20221016_CWOF - Paddock 40.tiff</td>\n",
       "      <td>5</td>\n",
       "      <td>54</td>\n",
       "      <td>222</td>\n",
       "      <td>(1.0, 1.0)</td>\n",
       "      <td>EPSG:2193</td>\n",
       "      <td>1.698350e+06</td>\n",
       "      <td>5.623679e+06</td>\n",
       "      <td>1.698572e+06</td>\n",
       "      <td>5.623733e+06</td>\n",
       "    </tr>\n",
       "    <tr>\n",
       "      <th>890</th>\n",
       "      <td>Prepared BLYP 20220925_CWOF - Paddock 39.tiff</td>\n",
       "      <td>5</td>\n",
       "      <td>51</td>\n",
       "      <td>219</td>\n",
       "      <td>(1.0, 1.0)</td>\n",
       "      <td>EPSG:2193</td>\n",
       "      <td>1.698351e+06</td>\n",
       "      <td>5.623718e+06</td>\n",
       "      <td>1.698570e+06</td>\n",
       "      <td>5.623769e+06</td>\n",
       "    </tr>\n",
       "    <tr>\n",
       "      <th>891</th>\n",
       "      <td>Prepared BLYP 20230205_CWOF - Paddock 6.tiff</td>\n",
       "      <td>5</td>\n",
       "      <td>57</td>\n",
       "      <td>204</td>\n",
       "      <td>(1.0, 1.0)</td>\n",
       "      <td>EPSG:2193</td>\n",
       "      <td>1.698134e+06</td>\n",
       "      <td>5.623899e+06</td>\n",
       "      <td>1.698338e+06</td>\n",
       "      <td>5.623956e+06</td>\n",
       "    </tr>\n",
       "  </tbody>\n",
       "</table>\n",
       "<p>892 rows × 10 columns</p>\n",
       "</div>"
      ],
      "text/plain": [
       "                                         File_Name  Bands  Height  Width  \\\n",
       "0    Prepared BLYP 20221228_CWOF - Paddock 30.tiff      5      54    219   \n",
       "1    Prepared BLYP 20221031_CWOF - Paddock 36.tiff      5      57    222   \n",
       "2    Prepared BLYP 20230228_CWOF - Paddock 34.tiff      5      54    222   \n",
       "3    Prepared BLYP 20230123_CWOF - Paddock 20.tiff      5      69    153   \n",
       "4    Prepared BLYP 20221003_CWOF - Paddock 21.tiff      5      66    135   \n",
       "..                                             ...    ...     ...    ...   \n",
       "887  Prepared BLYP 20230403_CWOF - Paddock 30.tiff      5      54    219   \n",
       "888  Prepared BLYP 20230415_CWOF - Paddock 12.tiff      5      54    198   \n",
       "889  Prepared BLYP 20221016_CWOF - Paddock 40.tiff      5      54    222   \n",
       "890  Prepared BLYP 20220925_CWOF - Paddock 39.tiff      5      51    219   \n",
       "891   Prepared BLYP 20230205_CWOF - Paddock 6.tiff      5      57    204   \n",
       "\n",
       "     Resolution        CRS    Bound_Left  Bound_Bottom   Bound_Right  \\\n",
       "0    (1.0, 1.0)  EPSG:2193  1.698355e+06  5.624060e+06  1.698574e+06   \n",
       "1    (1.0, 1.0)  EPSG:2193  1.698348e+06  5.623836e+06  1.698570e+06   \n",
       "2    (1.0, 1.0)  EPSG:2193  1.698352e+06  5.623909e+06  1.698574e+06   \n",
       "3    (1.0, 1.0)  EPSG:2193  1.698298e+06  5.624414e+06  1.698451e+06   \n",
       "4    (1.0, 1.0)  EPSG:2193  1.698448e+06  5.624413e+06  1.698583e+06   \n",
       "..          ...        ...           ...           ...           ...   \n",
       "887  (1.0, 1.0)  EPSG:2193  1.698355e+06  5.624060e+06  1.698574e+06   \n",
       "888  (1.0, 1.0)  EPSG:2193  1.698142e+06  5.624142e+06  1.698340e+06   \n",
       "889  (1.0, 1.0)  EPSG:2193  1.698350e+06  5.623679e+06  1.698572e+06   \n",
       "890  (1.0, 1.0)  EPSG:2193  1.698351e+06  5.623718e+06  1.698570e+06   \n",
       "891  (1.0, 1.0)  EPSG:2193  1.698134e+06  5.623899e+06  1.698338e+06   \n",
       "\n",
       "        Bound_Top  \n",
       "0    5.624114e+06  \n",
       "1    5.623893e+06  \n",
       "2    5.623963e+06  \n",
       "3    5.624483e+06  \n",
       "4    5.624479e+06  \n",
       "..            ...  \n",
       "887  5.624114e+06  \n",
       "888  5.624196e+06  \n",
       "889  5.623733e+06  \n",
       "890  5.623769e+06  \n",
       "891  5.623956e+06  \n",
       "\n",
       "[892 rows x 10 columns]"
      ]
     },
     "execution_count": 38,
     "metadata": {},
     "output_type": "execute_result"
    }
   ],
   "source": [
    "# Traverse all subfolders\n",
    "for sub_folder in filter(lambda x: re.findall('\\d{8}-\\d{8} - \\w+', x), os.listdir('BLYP')):\n",
    "    # Generate Paddock dataframe\n",
    "    filePath, fileType = 'BLYP/' + sub_folder, ('tiff')\n",
    "    df_BLYP = imgInfo(filePath, readFiles(filePath, fileType))\n",
    "    # Execute reproject\n",
    "    src_fileList = [filePath + '/' + i for i in df_BLYP.File_Name.to_list()]\n",
    "    src_pattern = '\\w+ \\d{8}\\w+ - Paddock \\w+.tiff'\n",
    "    reproject_image(src_fileList, src_pattern, '1.Reprojected Paddock', 'EPSG:2193')\n",
    "    # Generate Reprojected paddock dataframe\n",
    "    df_Reprojected_BLYP = imgInfo('1.Reprojected Paddock', os.listdir('1.Reprojected Paddock'))\n",
    "    # Generate Overlapping dataframe\n",
    "    df_Overlap = Paddock_overlap_Lidar(df_Reprojected_BLYP, df_BLYP_Lidar)\n",
    "    # Copy overlapping Lidar images\n",
    "    fileList = {item for sublist in df_Overlap.Paddock_Overlap_Lidar.tolist() for item in sublist}\n",
    "    copyFiles('BLYP/BLYP Lidar 5527', '2.Overlapping Lidar', fileList)\n",
    "    # Execute merge\n",
    "    merge_image('2.Overlapping Lidar', df_Overlap)\n",
    "    # Calculate slope of overlapping Lidar images\n",
    "    fileList = os.listdir('2.Overlapping Lidar')\n",
    "    src_fileList = ['2.Overlapping Lidar' + '/' + i for i in fileList]\n",
    "    calculate_slope(src_fileList, '\\d+.tif', '3.Slope Lidar')\n",
    "    # Crop paddock area from lidar slope images\n",
    "    crop_image('1.Reprojected Paddock', '3.Slope Lidar', '4.Cropped Lidar', df_Overlap)\n",
    "    # Execute trim and mask\n",
    "    cropped_fileList = os.listdir('4.Cropped Lidar')\n",
    "    save_slope_band('4.Cropped Lidar', cropped_fileList, '1.Reprojected Paddock', '5.Prepared Paddock')\n",
    "    for folder in filter(lambda x: re.findall('[1234]\\.\\w+', x), os.listdir()):\n",
    "        shutil.rmtree(folder)\n",
    "# Generate Prepared paddock dataframe\n",
    "df_Prepared_BLYP = imgInfo('5.Prepared Paddock', os.listdir('5.Prepared Paddock'))\n",
    "df_Prepared_BLYP"
   ]
  },
  {
   "cell_type": "code",
   "execution_count": 39,
   "metadata": {},
   "outputs": [
    {
     "data": {
      "application/vnd.jupyter.widget-view+json": {
       "model_id": "f99be2b8e45844639602eb715eb27508",
       "version_major": 2,
       "version_minor": 0
      },
      "text/plain": [
       "Processing:   0%|          | 0/892 [00:00<?, ? img/s]"
      ]
     },
     "metadata": {},
     "output_type": "display_data"
    }
   ],
   "source": [
    "# Cope BLYP images for deep learning\n",
    "copyFiles('5.Prepared Paddock', 'Images for Deep Learning (All)', df_Prepared_BLYP.File_Name.to_list())\n",
    "# Remove the previous outputs\n",
    "for folder in filter(lambda x: re.findall('[12345]\\.\\w+', x), os.listdir()):\n",
    "    shutil.rmtree(folder)"
   ]
  },
  {
   "cell_type": "markdown",
   "metadata": {},
   "source": [
    "## Prepare MRWH images"
   ]
  },
  {
   "cell_type": "code",
   "execution_count": 40,
   "metadata": {
    "scrolled": true
   },
   "outputs": [],
   "source": [
    "# filePath, fileType = 'MRWH/MRWH Lidar 1037', '.tif'\n",
    "# df_MRWH_Lidar = imgInfo(filePath, readFiles(filePath, fileType))\n",
    "# df_MRWH_Lidar"
   ]
  },
  {
   "cell_type": "code",
   "execution_count": 41,
   "metadata": {
    "scrolled": true
   },
   "outputs": [],
   "source": [
    "# # Traverse all subfolders\n",
    "# for sub_folder in filter(lambda x: re.findall('\\d{8}-\\d{8} - \\w+', x), os.listdir('MRWH')):\n",
    "#     # Generate Paddock dataframe\n",
    "#     filePath, fileType = 'MRWH/' + sub_folder, ('tiff')\n",
    "#     df_MRWH = imgInfo(filePath, readFiles(filePath, fileType))\n",
    "#     # Execute reproject\n",
    "#     src_fileList = [filePath + '/' + i for i in df_MRWH.File_Name.to_list()]\n",
    "#     src_pattern = '\\w+ \\d{8}\\w+ - Paddock \\w+.tiff'\n",
    "#     reproject_image(src_fileList, src_pattern, '1.Reprojected Paddock', 'EPSG:2193')\n",
    "#     # Generate Reprojected paddock dataframe\n",
    "#     df_Reprojected_MRWH = imgInfo('1.Reprojected Paddock', os.listdir('1.Reprojected Paddock'))\n",
    "#     # Generate Overlapping dataframe\n",
    "#     df_Overlap = Paddock_overlap_Lidar(df_Reprojected_MRWH, df_MRWH_Lidar)\n",
    "#     # Copy overlapping Lidar images\n",
    "#     fileList = {item for sublist in df_Overlap.Paddock_Overlap_Lidar.tolist() for item in sublist}\n",
    "#     copyFiles('MRWH/MRWH Lidar 1037', '2.Overlapping Lidar', fileList)\n",
    "#     # Execute merge\n",
    "#     merge_image('2.Overlapping Lidar', df_Overlap)\n",
    "#     # Calculate slope of overlapping Lidar images\n",
    "#     fileList = os.listdir('2.Overlapping Lidar')\n",
    "#     src_fileList = ['2.Overlapping Lidar' + '/' + i for i in fileList]\n",
    "#     calculate_slope(src_fileList, '\\d+.tif', '3.Slope Lidar')\n",
    "#     # Crop paddock area from lidar slope images\n",
    "#     crop_image('1.Reprojected Paddock', '3.Slope Lidar', '4.Cropped Lidar', df_Overlap)\n",
    "#     # Execute trim and mask\n",
    "#     cropped_fileList = os.listdir('4.Cropped Lidar')\n",
    "#     save_slope_band('4.Cropped Lidar', cropped_fileList, '1.Reprojected Paddock', '5.Prepared Paddock')\n",
    "#     for folder in filter(lambda x: re.findall('[1234]\\.\\w+', x), os.listdir()):\n",
    "#         shutil.rmtree(folder)\n",
    "# # Generate Prepared paddock dataframe\n",
    "# df_Prepared_MRWH = imgInfo('5.Prepared Paddock', os.listdir('5.Prepared Paddock'))\n",
    "# df_Prepared_MRWH"
   ]
  },
  {
   "cell_type": "code",
   "execution_count": 42,
   "metadata": {},
   "outputs": [],
   "source": [
    "# # Cope MRWH images for deep learning\n",
    "# copyFiles('5.Prepared Paddock', 'Images for Deep Learning (All)', df_Prepared_MRWH.File_Name.to_list())\n",
    "# # Remove the previous outputs\n",
    "# for folder in filter(lambda x: re.findall('[12345]\\.\\w+', x), os.listdir()):\n",
    "#     shutil.rmtree(folder)"
   ]
  },
  {
   "cell_type": "markdown",
   "metadata": {},
   "source": [
    "# Train deep learning model"
   ]
  },
  {
   "cell_type": "markdown",
   "metadata": {},
   "source": [
    "## Slope farm only"
   ]
  },
  {
   "cell_type": "code",
   "execution_count": 43,
   "metadata": {},
   "outputs": [],
   "source": [
    "def read_ground_truth(yPath, preparedImgPath):\n",
    "    df_ground_truth = pd.read_csv(yPath)[['Processed_Paddock', 'CDAX']]\n",
    "    Shapes = []\n",
    "    for i in tqdm(df_ground_truth.Processed_Paddock, desc='Processing', unit=' img'):\n",
    "        with rasterio.open(preparedImgPath + '/' + i) as img:\n",
    "            Shapes.append(img.shape)\n",
    "    # Save as data frame\n",
    "    df_Shape = pd.DataFrame(Shapes, columns = ['Height', 'Width'])\n",
    "    return pd.concat([df_ground_truth, df_Shape], axis = 1)"
   ]
  },
  {
   "cell_type": "code",
   "execution_count": 44,
   "metadata": {},
   "outputs": [],
   "source": [
    "def padding_img(df_train_test, img_path, H, W):\n",
    "    data = []\n",
    "    for i in tqdm(df_train_test.index, desc = 'Processing', unit = ' img'):\n",
    "        with rasterio.open(img_path + '/' + df_train_test.at[i, 'Processed_Paddock']) as img:\n",
    "            bands = torch.from_numpy(img.read())\n",
    "            L = int((W - bands.shape[2]) / 2)\n",
    "            R = W - L - bands.shape[2]\n",
    "            T = int((H - bands.shape[1]) / 2)\n",
    "            B = H - T - bands.shape[1]\n",
    "            pad = nn.ZeroPad2d(padding = (L, R, T, B))\n",
    "            data.append((pad(bands), df_train_test.at[i, 'CDAX'].astype(float)))\n",
    "    return data"
   ]
  },
  {
   "cell_type": "code",
   "execution_count": 45,
   "metadata": {},
   "outputs": [
    {
     "data": {
      "application/vnd.jupyter.widget-view+json": {
       "model_id": "dda6d642aab34803bbb0a65e3e1039a3",
       "version_major": 2,
       "version_minor": 0
      },
      "text/plain": [
       "Processing:   0%|          | 0/94 [00:00<?, ? img/s]"
      ]
     },
     "metadata": {},
     "output_type": "display_data"
    },
    {
     "data": {
      "application/vnd.jupyter.widget-view+json": {
       "model_id": "5ff270da73b74437a1395bfbb705354b",
       "version_major": 2,
       "version_minor": 0
      },
      "text/plain": [
       "Processing:   0%|          | 0/66 [00:00<?, ? img/s]"
      ]
     },
     "metadata": {},
     "output_type": "display_data"
    },
    {
     "data": {
      "application/vnd.jupyter.widget-view+json": {
       "model_id": "ee30fe79b9e24597a935cd8625ebaa35",
       "version_major": 2,
       "version_minor": 0
      },
      "text/plain": [
       "Processing:   0%|          | 0/28 [00:00<?, ? img/s]"
      ]
     },
     "metadata": {},
     "output_type": "display_data"
    }
   ],
   "source": [
    "# Read ground truth file\n",
    "df_ground_truth = read_ground_truth('Invermay/Y - Invermay Planet.csv', 'Images for Deep Learning (Slope)')\n",
    "# Random split training set and test set\n",
    "df_train = df_ground_truth.sample(frac = 0.7, random_state = RANDOM_STATE)\n",
    "df_test = df_ground_truth.drop(df_train.index)\n",
    "# Copy Prepared Paddock images to training and test folders\n",
    "copyFiles('Images for Deep Learning (Slope)', 'Training set', df_train.Processed_Paddock.to_list())\n",
    "copyFiles('Images for Deep Learning (Slope)', 'Test set', df_test.Processed_Paddock.to_list())"
   ]
  },
  {
   "cell_type": "code",
   "execution_count": 46,
   "metadata": {},
   "outputs": [
    {
     "data": {
      "application/vnd.jupyter.widget-view+json": {
       "model_id": "8e7c3b6e3eb74171aab4bce376e1563e",
       "version_major": 2,
       "version_minor": 0
      },
      "text/plain": [
       "Processing:   0%|          | 0/66 [00:00<?, ? img/s]"
      ]
     },
     "metadata": {},
     "output_type": "display_data"
    },
    {
     "data": {
      "application/vnd.jupyter.widget-view+json": {
       "model_id": "b6475bd0cad04785867ffc461b366eb8",
       "version_major": 2,
       "version_minor": 0
      },
      "text/plain": [
       "Processing:   0%|          | 0/28 [00:00<?, ? img/s]"
      ]
     },
     "metadata": {},
     "output_type": "display_data"
    }
   ],
   "source": [
    "H = (df_ground_truth.Height.max() // 100 + 1) * 100\n",
    "W = (df_ground_truth.Width.max() // 100 + 1) * 100\n",
    "train_set = padding_img(df_train, 'Training set', H, W)\n",
    "test_set = padding_img(df_test, 'Test set', H, W)"
   ]
  },
  {
   "cell_type": "code",
   "execution_count": 47,
   "metadata": {},
   "outputs": [
    {
     "name": "stdout",
     "output_type": "stream",
     "text": [
      "Selected device: cpu\n"
     ]
    }
   ],
   "source": [
    "# Device configuration\n",
    "device = torch.device(\"cuda\" if torch.cuda.is_available() else \"cpu\")\n",
    "print(f'Selected device: {device}')"
   ]
  },
  {
   "cell_type": "code",
   "execution_count": 48,
   "metadata": {},
   "outputs": [],
   "source": [
    "class CNN(nn.Module):\n",
    "    def __init__(self, input_size, batch_size):\n",
    "        super(CNN, self).__init__()\n",
    "        self.conv1 = nn.Sequential(\n",
    "            nn.Conv2d(in_channels = input_size, out_channels = batch_size * 4, kernel_size = 3, stride = 1),\n",
    "            nn.BatchNorm2d(num_features = batch_size * 4),\n",
    "            nn.ReLU()\n",
    "        )\n",
    "        self.conv2 = nn.Sequential(\n",
    "            nn.Conv2d(in_channels = batch_size * 4, out_channels = batch_size * 16, kernel_size = 3, stride = 1),\n",
    "            nn.BatchNorm2d(num_features = batch_size * 16),\n",
    "            nn.ReLU()\n",
    "        )\n",
    "        self.conv3 = nn.Sequential(\n",
    "            nn.Conv2d(in_channels = batch_size * 16, out_channels = batch_size * 64, kernel_size = 3, stride = 1),\n",
    "            nn.BatchNorm2d(num_features = batch_size * 64),\n",
    "            nn.ReLU()\n",
    "        )\n",
    "        self.pool = nn.MaxPool2d(kernel_size = 2, stride = 2)\n",
    "        self.fc = nn.Sequential(\n",
    "            nn.Linear(in_features = 48 * 48 * batch_size * 64, out_features = 3 * 3 * batch_size * 4),\n",
    "            nn.ReLU(),\n",
    "            nn.Linear(in_features = 3 * 3 * batch_size * 4, out_features = 1)\n",
    "        )\n",
    "    \n",
    "    def forward(self, x):\n",
    "        x = self.conv1(x)\n",
    "        x = self.pool(x)\n",
    "        x = self.conv2(x)\n",
    "        x = self.pool(x)\n",
    "        x = self.conv3(x)\n",
    "        x = self.pool(x)\n",
    "        x = torch.flatten(x, 1)\n",
    "        x = self.fc(x)\n",
    "        return x"
   ]
  },
  {
   "cell_type": "code",
   "execution_count": 49,
   "metadata": {},
   "outputs": [
    {
     "name": "stdout",
     "output_type": "stream",
     "text": [
      "Total number of parameters: 340369345\n"
     ]
    }
   ],
   "source": [
    "# Initialize the model\n",
    "input_size = 5\n",
    "batch_size = 8\n",
    "model = CNN(input_size, batch_size).to(device)\n",
    "\n",
    "# Set random seed for reproducible results\n",
    "torch.manual_seed(RANDOM_STATE)\n",
    "\n",
    "# Define loss function and optimizer\n",
    "loss_fn = nn.L1Loss()\n",
    "optimizer = torch.optim.Adam(model.parameters(), lr = 1e-3)\n",
    "\n",
    "# Number of parameters\n",
    "parameters = [p.numel() for p in model.parameters() if p.requires_grad]\n",
    "print(f'Total number of parameters: {sum(parameters)}')"
   ]
  },
  {
   "cell_type": "code",
   "execution_count": 50,
   "metadata": {},
   "outputs": [],
   "source": [
    "def train(dataloader, model, loss_fn, optimizer):\n",
    "    loss_list, pred_list, targ_list = [], [], []\n",
    "    model.train()\n",
    "    for batch_x, batch_y in dataloader:\n",
    "        pred = model(batch_x).reshape(-1)\n",
    "        pred_list.append(pred)\n",
    "        \n",
    "        targ_list.append(batch_y)\n",
    "        \n",
    "        loss = loss_fn(pred, batch_y)\n",
    "        loss_list.append(loss.item())\n",
    "        \n",
    "        # Backpropagation\n",
    "        optimizer.zero_grad()\n",
    "        loss.backward()\n",
    "        optimizer.step()\n",
    "        \n",
    "    return np.mean(loss_list), pred_list, targ_list"
   ]
  },
  {
   "cell_type": "code",
   "execution_count": 51,
   "metadata": {},
   "outputs": [],
   "source": [
    "def test(dataloader, model, loss_fn):\n",
    "    loss_list, pred_list, targ_list = [], [], []\n",
    "    model.eval()\n",
    "    with torch.no_grad():\n",
    "        for batch_x, batch_y in dataloader:\n",
    "            pred = model(batch_x).reshape(-1)\n",
    "            pred_list.append(pred)\n",
    "            \n",
    "            targ_list.append(batch_y)\n",
    "            \n",
    "            loss = loss_fn(pred, batch_y)\n",
    "            loss_list.append(loss.item())\n",
    "            \n",
    "    return np.mean(loss_list), pred_list, targ_list"
   ]
  },
  {
   "cell_type": "code",
   "execution_count": 52,
   "metadata": {},
   "outputs": [],
   "source": [
    "train_loader = DataLoader(train_set, batch_size = batch_size, shuffle = True, drop_last = True)\n",
    "test_loader = DataLoader(test_set, batch_size = batch_size, shuffle = True, drop_last = True)"
   ]
  },
  {
   "cell_type": "code",
   "execution_count": 53,
   "metadata": {
    "scrolled": true
   },
   "outputs": [
    {
     "name": "stdout",
     "output_type": "stream",
     "text": [
      "Epoch [1  /50]   Train Loss: 891.95761874   Test Loss: 429.86583964\n",
      "Epoch [2  /50]   Train Loss: 464.79948044   Test Loss: 500.35061646\n",
      "Epoch [3  /50]   Train Loss: 406.07133865   Test Loss: 541.34456889\n",
      "Epoch [4  /50]   Train Loss: 343.60298920   Test Loss: 686.53265381\n",
      "Epoch [5  /50]   Train Loss: 509.97517490   Test Loss: 448.53079224\n",
      "Epoch [6  /50]   Train Loss: 288.57153511   Test Loss: 513.20526123\n",
      "Epoch [7  /50]   Train Loss: 286.73537064   Test Loss: 440.96034241\n",
      "Epoch [8  /50]   Train Loss: 286.23634720   Test Loss: 375.90116882\n",
      "Epoch [9  /50]   Train Loss: 224.65761757   Test Loss: 506.05392965\n",
      "Epoch [10 /50]   Train Loss: 275.72891617   Test Loss: 392.25013733\n",
      "Epoch [11 /50]   Train Loss: 168.93226624   Test Loss: 330.77667745\n",
      "Epoch [12 /50]   Train Loss: 216.73695755   Test Loss: 478.49106344\n",
      "Epoch [13 /50]   Train Loss: 232.25213051   Test Loss: 437.81553141\n",
      "Epoch [14 /50]   Train Loss: 204.40500832   Test Loss: 414.37956746\n",
      "Epoch [15 /50]   Train Loss: 209.20998383   Test Loss: 374.65324402\n",
      "Epoch [16 /50]   Train Loss: 200.95834351   Test Loss: 406.06382243\n",
      "Epoch [17 /50]   Train Loss: 148.88421822   Test Loss: 383.02824402\n",
      "Epoch [18 /50]   Train Loss: 168.51921463   Test Loss: 311.94955444\n",
      "Epoch [19 /50]   Train Loss: 221.75758266   Test Loss: 303.87556458\n",
      "Epoch [20 /50]   Train Loss: 212.04310989   Test Loss: 404.84302775\n",
      "Epoch [21 /50]   Train Loss: 220.88815689   Test Loss: 337.72399902\n",
      "Epoch [22 /50]   Train Loss: 187.40323830   Test Loss: 375.69656372\n",
      "Epoch [23 /50]   Train Loss: 163.59070969   Test Loss: 357.56788635\n",
      "Epoch [24 /50]   Train Loss: 175.32723045   Test Loss: 339.60704041\n",
      "Epoch [25 /50]   Train Loss: 223.71591949   Test Loss: 303.58646139\n",
      "Epoch [26 /50]   Train Loss: 182.62745476   Test Loss: 366.12627157\n",
      "Epoch [27 /50]   Train Loss: 212.81193542   Test Loss: 300.04692586\n",
      "Epoch [28 /50]   Train Loss: 223.24098110   Test Loss: 394.93373617\n",
      "Epoch [29 /50]   Train Loss: 162.64286613   Test Loss: 476.50611369\n",
      "Epoch [30 /50]   Train Loss: 197.09487152   Test Loss: 345.03051249\n",
      "Epoch [31 /50]   Train Loss: 141.60643196   Test Loss: 316.05215963\n",
      "Epoch [32 /50]   Train Loss: 150.52657127   Test Loss: 291.79697673\n",
      "Epoch [33 /50]   Train Loss: 110.84280396   Test Loss: 280.20002238\n",
      "Epoch [34 /50]   Train Loss: 174.25992012   Test Loss: 328.43420919\n",
      "Epoch [35 /50]   Train Loss: 117.12724495   Test Loss: 316.17737834\n",
      "Epoch [36 /50]   Train Loss: 106.78077126   Test Loss: 298.85058594\n",
      "Epoch [37 /50]   Train Loss: 83.13181305   Test Loss: 297.12964376\n",
      "Epoch [38 /50]   Train Loss: 102.41391754   Test Loss: 194.80490621\n",
      "Epoch [39 /50]   Train Loss: 109.39004707   Test Loss: 248.91785177\n",
      "Epoch [40 /50]   Train Loss: 100.53861809   Test Loss: 305.07836914\n",
      "Epoch [41 /50]   Train Loss: 168.33295631   Test Loss: 415.79809570\n",
      "Epoch [42 /50]   Train Loss: 138.88229179   Test Loss: 314.70697021\n",
      "Epoch [43 /50]   Train Loss: 145.90009117   Test Loss: 283.03258769\n",
      "Epoch [44 /50]   Train Loss: 90.80510330   Test Loss: 222.83463033\n",
      "Epoch [45 /50]   Train Loss: 112.04044342   Test Loss: 298.21857198\n",
      "Epoch [46 /50]   Train Loss: 105.08873749   Test Loss: 242.56174215\n",
      "Epoch [47 /50]   Train Loss: 95.15336990   Test Loss: 383.79837036\n",
      "Epoch [48 /50]   Train Loss: 140.66917610   Test Loss: 360.88205973\n",
      "Epoch [49 /50]   Train Loss: 124.26809502   Test Loss: 287.55670675\n",
      "Epoch [50 /50]   Train Loss: 119.43609619   Test Loss: 208.73767598\n",
      "------------------------------------------------------------\n",
      "Duration: 1576.5053 seconds\n",
      "------------------------------------------------------------\n",
      "Best MAELoss on Train set: 83.1318130493164\n",
      "Best MAELoss on Test set: 194.8049062093099\n",
      "Best R2 Score on Test set: 0.13535140601804863\n"
     ]
    }
   ],
   "source": [
    "epochs = 50\n",
    "min_loss = np.inf\n",
    "epoch_train_loss = []\n",
    "epoch_test_loss = []\n",
    "\n",
    "start = time.time()\n",
    "for epoch in range(epochs):\n",
    "    train_loss, train_pred, train_targ = train(train_loader, model, loss_fn, optimizer)\n",
    "    epoch_train_loss.append(train_loss)\n",
    "\n",
    "    test_loss, test_pred, test_targ = test(test_loader, model, loss_fn)\n",
    "    epoch_test_loss.append(test_loss)\n",
    "    \n",
    "    if test_loss < min_loss:\n",
    "        min_loss = test_loss\n",
    "        best_pred = test_pred\n",
    "        best_targ = test_targ\n",
    "    \n",
    "    print(f'Epoch [{epoch+1:<3}/{epochs}]   Train Loss: {train_loss:.8f}   Test Loss: {test_loss:.8f}')\n",
    "print(f'{\"-\"*60}\\nDuration: {time.time() - start:.4f} seconds')\n",
    "print(f'{\"-\"*60}\\nBest MAELoss on Train set: {min(epoch_train_loss)}\\nBest MAELoss on Test set: {min(epoch_test_loss)}\\nBest R2 Score on Test set: {r2_score(best_targ, best_pred)}')"
   ]
  },
  {
   "cell_type": "code",
   "execution_count": 54,
   "metadata": {},
   "outputs": [
    {
     "data": {
      "image/png": "[encoded data removed]",
      "text/plain": [
       "<Figure size 1200x400 with 1 Axes>"
      ]
     },
     "metadata": {},
     "output_type": "display_data"
    }
   ],
   "source": [
    "plt.figure(figsize = (12, 4))\n",
    "plt.plot(epoch_train_loss, label = 'Train loss')\n",
    "plt.plot(epoch_test_loss, label = 'Test loss')\n",
    "plt.legend()\n",
    "plt.xlabel('Epoch')\n",
    "plt.ylabel('Loss')\n",
    "plt.grid()\n",
    "plt.show()"
   ]
  },
  {
   "cell_type": "code",
   "execution_count": 55,
   "metadata": {},
   "outputs": [
    {
     "data": {
      "text/html": [
       "<div>\n",
       "<style scoped>\n",
       "    .dataframe tbody tr th:only-of-type {\n",
       "        vertical-align: middle;\n",
       "    }\n",
       "\n",
       "    .dataframe tbody tr th {\n",
       "        vertical-align: top;\n",
       "    }\n",
       "\n",
       "    .dataframe thead th {\n",
       "        text-align: right;\n",
       "    }\n",
       "</style>\n",
       "<table border=\"1\" class=\"dataframe\">\n",
       "  <thead>\n",
       "    <tr style=\"text-align: right;\">\n",
       "      <th></th>\n",
       "      <th>Best prediction</th>\n",
       "      <th>Target</th>\n",
       "      <th>Abs difference</th>\n",
       "      <th>Difference %</th>\n",
       "    </tr>\n",
       "  </thead>\n",
       "  <tbody>\n",
       "    <tr>\n",
       "      <th>0</th>\n",
       "      <td>2394.783691</td>\n",
       "      <td>2429.0</td>\n",
       "      <td>34.216309</td>\n",
       "      <td>1.41%</td>\n",
       "    </tr>\n",
       "    <tr>\n",
       "      <th>1</th>\n",
       "      <td>2719.197021</td>\n",
       "      <td>2517.0</td>\n",
       "      <td>202.197021</td>\n",
       "      <td>8.03%</td>\n",
       "    </tr>\n",
       "    <tr>\n",
       "      <th>2</th>\n",
       "      <td>1553.489258</td>\n",
       "      <td>1316.0</td>\n",
       "      <td>237.489258</td>\n",
       "      <td>18.05%</td>\n",
       "    </tr>\n",
       "    <tr>\n",
       "      <th>3</th>\n",
       "      <td>1970.856689</td>\n",
       "      <td>2176.0</td>\n",
       "      <td>205.143311</td>\n",
       "      <td>9.43%</td>\n",
       "    </tr>\n",
       "    <tr>\n",
       "      <th>4</th>\n",
       "      <td>1636.336914</td>\n",
       "      <td>1459.0</td>\n",
       "      <td>177.336914</td>\n",
       "      <td>12.15%</td>\n",
       "    </tr>\n",
       "    <tr>\n",
       "      <th>...</th>\n",
       "      <td>...</td>\n",
       "      <td>...</td>\n",
       "      <td>...</td>\n",
       "      <td>...</td>\n",
       "    </tr>\n",
       "    <tr>\n",
       "      <th>19</th>\n",
       "      <td>2115.066406</td>\n",
       "      <td>2187.0</td>\n",
       "      <td>71.933594</td>\n",
       "      <td>3.29%</td>\n",
       "    </tr>\n",
       "    <tr>\n",
       "      <th>20</th>\n",
       "      <td>1717.577881</td>\n",
       "      <td>1626.0</td>\n",
       "      <td>91.577881</td>\n",
       "      <td>5.63%</td>\n",
       "    </tr>\n",
       "    <tr>\n",
       "      <th>21</th>\n",
       "      <td>2018.162109</td>\n",
       "      <td>1785.0</td>\n",
       "      <td>233.162109</td>\n",
       "      <td>13.06%</td>\n",
       "    </tr>\n",
       "    <tr>\n",
       "      <th>22</th>\n",
       "      <td>1466.617676</td>\n",
       "      <td>1534.0</td>\n",
       "      <td>67.382324</td>\n",
       "      <td>4.39%</td>\n",
       "    </tr>\n",
       "    <tr>\n",
       "      <th>23</th>\n",
       "      <td>1511.847412</td>\n",
       "      <td>1582.0</td>\n",
       "      <td>70.152588</td>\n",
       "      <td>4.43%</td>\n",
       "    </tr>\n",
       "  </tbody>\n",
       "</table>\n",
       "<p>24 rows × 4 columns</p>\n",
       "</div>"
      ],
      "text/plain": [
       "    Best prediction  Target  Abs difference Difference %\n",
       "0       2394.783691  2429.0       34.216309        1.41%\n",
       "1       2719.197021  2517.0      202.197021        8.03%\n",
       "2       1553.489258  1316.0      237.489258       18.05%\n",
       "3       1970.856689  2176.0      205.143311        9.43%\n",
       "4       1636.336914  1459.0      177.336914       12.15%\n",
       "..              ...     ...             ...          ...\n",
       "19      2115.066406  2187.0       71.933594        3.29%\n",
       "20      1717.577881  1626.0       91.577881        5.63%\n",
       "21      2018.162109  1785.0      233.162109       13.06%\n",
       "22      1466.617676  1534.0       67.382324        4.39%\n",
       "23      1511.847412  1582.0       70.152588        4.43%\n",
       "\n",
       "[24 rows x 4 columns]"
      ]
     },
     "execution_count": 55,
     "metadata": {},
     "output_type": "execute_result"
    }
   ],
   "source": [
    "df_pred_targ = pd.DataFrame(columns = ['Best prediction', 'Target'])\n",
    "for i in range(len(best_pred)):\n",
    "    df_new = pd.DataFrame({'Best prediction': best_pred[i], 'Target': best_targ[i]})\n",
    "    df_pred_targ = pd.concat([df_pred_targ, df_new], ignore_index = True)\n",
    "df_pred_targ['Abs difference'] = abs(df_pred_targ['Best prediction'] - df_pred_targ['Target'])\n",
    "df_pred_targ['Difference %'] = (df_pred_targ['Abs difference'] / df_pred_targ['Target'])\n",
    "avg_diff = df_pred_targ['Difference %'].mean()\n",
    "df_pred_targ['Difference %'] = df_pred_targ['Difference %'].map('{:.2%}'.format)\n",
    "df_pred_targ"
   ]
  },
  {
   "cell_type": "code",
   "execution_count": 56,
   "metadata": {},
   "outputs": [
    {
     "name": "stdout",
     "output_type": "stream",
     "text": [
      "Average difference: 8.89%\n"
     ]
    }
   ],
   "source": [
    "print(f'Average difference: {avg_diff:.2%}')"
   ]
  },
  {
   "cell_type": "markdown",
   "metadata": {},
   "source": [
    "## Mix slopes and flats"
   ]
  },
  {
   "cell_type": "code",
   "execution_count": 57,
   "metadata": {},
   "outputs": [],
   "source": [
    "# Remove the previous outputs\n",
    "for i in ['Training set', 'Test set']:\n",
    "    if os.path.isdir(i):\n",
    "        shutil.rmtree(i)"
   ]
  },
  {
   "cell_type": "code",
   "execution_count": 58,
   "metadata": {},
   "outputs": [
    {
     "data": {
      "application/vnd.jupyter.widget-view+json": {
       "model_id": "826047cf27894e41a18a384bbf7b6e2b",
       "version_major": 2,
       "version_minor": 0
      },
      "text/plain": [
       "Processing:   0%|          | 0/986 [00:00<?, ? img/s]"
      ]
     },
     "metadata": {},
     "output_type": "display_data"
    },
    {
     "data": {
      "application/vnd.jupyter.widget-view+json": {
       "model_id": "b57a7ca83b094338ab72e528850ad9b6",
       "version_major": 2,
       "version_minor": 0
      },
      "text/plain": [
       "Processing:   0%|          | 0/690 [00:00<?, ? img/s]"
      ]
     },
     "metadata": {},
     "output_type": "display_data"
    },
    {
     "data": {
      "application/vnd.jupyter.widget-view+json": {
       "model_id": "171380abc8f549878ab86b1e730a416d",
       "version_major": 2,
       "version_minor": 0
      },
      "text/plain": [
       "Processing:   0%|          | 0/296 [00:00<?, ? img/s]"
      ]
     },
     "metadata": {},
     "output_type": "display_data"
    }
   ],
   "source": [
    "# Read ground truth file\n",
    "df_ground_truth = read_ground_truth('Y.csv', 'Images for Deep Learning (All)')\n",
    "# Random split training set and test set\n",
    "df_train = df_ground_truth.sample(frac = 0.7, random_state = RANDOM_STATE)\n",
    "df_test = df_ground_truth.drop(df_train.index)\n",
    "# Copy Prepared Paddock images to training and test folders\n",
    "copyFiles('Images for Deep Learning (All)', 'Training set', df_train.Processed_Paddock.to_list())\n",
    "copyFiles('Images for Deep Learning (All)', 'Test set', df_test.Processed_Paddock.to_list())"
   ]
  },
  {
   "cell_type": "code",
   "execution_count": 59,
   "metadata": {},
   "outputs": [
    {
     "data": {
      "application/vnd.jupyter.widget-view+json": {
       "model_id": "7eae3bb8d9e14ffbb80a4148b6bd22f1",
       "version_major": 2,
       "version_minor": 0
      },
      "text/plain": [
       "Processing:   0%|          | 0/690 [00:00<?, ? img/s]"
      ]
     },
     "metadata": {},
     "output_type": "display_data"
    },
    {
     "data": {
      "application/vnd.jupyter.widget-view+json": {
       "model_id": "b810ac00cf0a4ad4a57760a7fc2c9d87",
       "version_major": 2,
       "version_minor": 0
      },
      "text/plain": [
       "Processing:   0%|          | 0/296 [00:00<?, ? img/s]"
      ]
     },
     "metadata": {},
     "output_type": "display_data"
    }
   ],
   "source": [
    "H = (df_ground_truth.Height.max() // 100 + 1) * 100\n",
    "W = (df_ground_truth.Width.max() // 100 + 1) * 100\n",
    "train_set = padding_img(df_train, 'Training set', H, W)\n",
    "test_set = padding_img(df_test, 'Test set', H, W)"
   ]
  },
  {
   "cell_type": "code",
   "execution_count": 60,
   "metadata": {},
   "outputs": [
    {
     "name": "stdout",
     "output_type": "stream",
     "text": [
      "Total number of parameters: 340369345\n"
     ]
    }
   ],
   "source": [
    "# Initialize the model\n",
    "input_size = 5\n",
    "batch_size = 8\n",
    "model = CNN(input_size, batch_size).to(device)\n",
    "\n",
    "# Set random seed for reproducible results\n",
    "torch.manual_seed(RANDOM_STATE)\n",
    "\n",
    "# Define loss function and optimizer\n",
    "loss_fn = nn.L1Loss()\n",
    "optimizer = torch.optim.Adam(model.parameters(), lr = 1e-3)\n",
    "\n",
    "# Number of parameters\n",
    "parameters = [p.numel() for p in model.parameters() if p.requires_grad]\n",
    "print(f'Total number of parameters: {sum(parameters)}')"
   ]
  },
  {
   "cell_type": "code",
   "execution_count": 61,
   "metadata": {},
   "outputs": [],
   "source": [
    "train_loader = DataLoader(train_set, batch_size = batch_size, shuffle = True, drop_last = True)\n",
    "test_loader = DataLoader(test_set, batch_size = batch_size, shuffle = True, drop_last = True)"
   ]
  },
  {
   "cell_type": "code",
   "execution_count": 62,
   "metadata": {
    "scrolled": true
   },
   "outputs": [
    {
     "name": "stdout",
     "output_type": "stream",
     "text": [
      "Epoch [1  /50]   Train Loss: 615.94404838   Test Loss: 497.83057991\n",
      "Epoch [2  /50]   Train Loss: 447.07655867   Test Loss: 603.32854400\n",
      "Epoch [3  /50]   Train Loss: 421.43149176   Test Loss: 489.31596869\n",
      "Epoch [4  /50]   Train Loss: 411.77282697   Test Loss: 403.81174118\n",
      "Epoch [5  /50]   Train Loss: 401.20968850   Test Loss: 597.79463443\n",
      "Epoch [6  /50]   Train Loss: 408.60459066   Test Loss: 583.74465118\n",
      "Epoch [7  /50]   Train Loss: 388.23877503   Test Loss: 409.48251178\n",
      "Epoch [8  /50]   Train Loss: 387.18058032   Test Loss: 523.55875624\n",
      "Epoch [9  /50]   Train Loss: 382.29556771   Test Loss: 417.17330726\n",
      "Epoch [10 /50]   Train Loss: 387.18959010   Test Loss: 394.14322518\n",
      "Epoch [11 /50]   Train Loss: 395.08914814   Test Loss: 396.80718417\n",
      "Epoch [12 /50]   Train Loss: 391.95942014   Test Loss: 397.00187724\n",
      "Epoch [13 /50]   Train Loss: 353.24324373   Test Loss: 373.14479189\n",
      "Epoch [14 /50]   Train Loss: 360.44159060   Test Loss: 376.49923706\n",
      "Epoch [15 /50]   Train Loss: 370.44844339   Test Loss: 375.25339735\n",
      "Epoch [16 /50]   Train Loss: 367.14226709   Test Loss: 732.23581757\n",
      "Epoch [17 /50]   Train Loss: 368.37523935   Test Loss: 394.42584971\n",
      "Epoch [18 /50]   Train Loss: 372.20579103   Test Loss: 401.32129360\n",
      "Epoch [19 /50]   Train Loss: 362.05456046   Test Loss: 467.67495521\n",
      "Epoch [20 /50]   Train Loss: 351.39165763   Test Loss: 456.20693227\n",
      "Epoch [21 /50]   Train Loss: 349.18538772   Test Loss: 423.98895511\n",
      "Epoch [22 /50]   Train Loss: 354.31825061   Test Loss: 490.09177873\n",
      "Epoch [23 /50]   Train Loss: 353.02402479   Test Loss: 415.54728286\n",
      "Epoch [24 /50]   Train Loss: 340.15848825   Test Loss: 405.07044323\n",
      "Epoch [25 /50]   Train Loss: 339.99997179   Test Loss: 404.09493524\n",
      "Epoch [26 /50]   Train Loss: 357.93117346   Test Loss: 456.88386824\n",
      "Epoch [27 /50]   Train Loss: 373.84312616   Test Loss: 376.38124827\n",
      "Epoch [28 /50]   Train Loss: 340.05926141   Test Loss: 374.96508583\n",
      "Epoch [29 /50]   Train Loss: 347.10045624   Test Loss: 407.75302578\n",
      "Epoch [30 /50]   Train Loss: 324.08186553   Test Loss: 376.85978493\n",
      "Epoch [31 /50]   Train Loss: 317.23397596   Test Loss: 435.54839717\n",
      "Epoch [32 /50]   Train Loss: 342.50837335   Test Loss: 372.89186632\n",
      "Epoch [33 /50]   Train Loss: 349.26947678   Test Loss: 440.77781718\n",
      "Epoch [34 /50]   Train Loss: 341.53572721   Test Loss: 415.95119497\n",
      "Epoch [35 /50]   Train Loss: 327.89016067   Test Loss: 400.50652169\n",
      "Epoch [36 /50]   Train Loss: 319.40712011   Test Loss: 365.66915729\n",
      "Epoch [37 /50]   Train Loss: 345.46368249   Test Loss: 389.98775173\n",
      "Epoch [38 /50]   Train Loss: 322.44127407   Test Loss: 390.38487285\n",
      "Epoch [39 /50]   Train Loss: 326.34965214   Test Loss: 388.46461775\n",
      "Epoch [40 /50]   Train Loss: 329.76970140   Test Loss: 366.27438354\n",
      "Epoch [41 /50]   Train Loss: 313.25350526   Test Loss: 395.88967524\n",
      "Epoch [42 /50]   Train Loss: 329.86207368   Test Loss: 389.64084687\n",
      "Epoch [43 /50]   Train Loss: 333.68431641   Test Loss: 460.94997138\n",
      "Epoch [44 /50]   Train Loss: 309.76649209   Test Loss: 399.98396301\n",
      "Epoch [45 /50]   Train Loss: 314.63551685   Test Loss: 368.06030768\n",
      "Epoch [46 /50]   Train Loss: 323.91513132   Test Loss: 366.72031423\n",
      "Epoch [47 /50]   Train Loss: 323.00321907   Test Loss: 392.81722074\n",
      "Epoch [48 /50]   Train Loss: 324.86668627   Test Loss: 498.42975431\n",
      "Epoch [49 /50]   Train Loss: 313.91945311   Test Loss: 427.02103403\n",
      "Epoch [50 /50]   Train Loss: 318.88883564   Test Loss: 397.49012344\n",
      "------------------------------------------------------------\n",
      "Duration: 17383.9363 seconds\n",
      "------------------------------------------------------------\n",
      "Best MAELoss on Train set: 309.76649208955985\n",
      "Best MAELoss on Test set: 365.6691572859481\n",
      "Best R2 Score on Test set: 0.33120323529333817\n"
     ]
    }
   ],
   "source": [
    "epochs = 50\n",
    "min_loss = np.inf\n",
    "epoch_train_loss = []\n",
    "epoch_test_loss = []\n",
    "\n",
    "start = time.time()\n",
    "for epoch in range(epochs):\n",
    "    train_loss, train_pred, train_targ = train(train_loader, model, loss_fn, optimizer)\n",
    "    epoch_train_loss.append(train_loss)\n",
    "\n",
    "    test_loss, test_pred, test_targ = test(test_loader, model, loss_fn)\n",
    "    epoch_test_loss.append(test_loss)\n",
    "    \n",
    "    if test_loss < min_loss:\n",
    "        min_loss = test_loss\n",
    "        best_pred = test_pred\n",
    "        best_targ = test_targ\n",
    "    \n",
    "    print(f'Epoch [{epoch+1:<3}/{epochs}]   Train Loss: {train_loss:.8f}   Test Loss: {test_loss:.8f}')\n",
    "print(f'{\"-\"*60}\\nDuration: {time.time() - start:.4f} seconds')\n",
    "print(f'{\"-\"*60}\\nBest MAELoss on Train set: {min(epoch_train_loss)}\\nBest MAELoss on Test set: {min(epoch_test_loss)}\\nBest R2 Score on Test set: {r2_score(best_targ, best_pred)}')"
   ]
  },
  {
   "cell_type": "code",
   "execution_count": 63,
   "metadata": {},
   "outputs": [
    {
     "data": {
      "image/png": "[encoded data removed]",
      "text/plain": [
       "<Figure size 1200x400 with 1 Axes>"
      ]
     },
     "metadata": {},
     "output_type": "display_data"
    }
   ],
   "source": [
    "plt.figure(figsize = (12, 4))\n",
    "plt.plot(epoch_train_loss, label = 'Train loss')\n",
    "plt.plot(epoch_test_loss, label = 'Test loss')\n",
    "plt.legend()\n",
    "plt.xlabel('Epoch')\n",
    "plt.ylabel('Loss')\n",
    "plt.grid()\n",
    "plt.show()"
   ]
  },
  {
   "cell_type": "code",
   "execution_count": 64,
   "metadata": {},
   "outputs": [
    {
     "data": {
      "text/html": [
       "<div>\n",
       "<style scoped>\n",
       "    .dataframe tbody tr th:only-of-type {\n",
       "        vertical-align: middle;\n",
       "    }\n",
       "\n",
       "    .dataframe tbody tr th {\n",
       "        vertical-align: top;\n",
       "    }\n",
       "\n",
       "    .dataframe thead th {\n",
       "        text-align: right;\n",
       "    }\n",
       "</style>\n",
       "<table border=\"1\" class=\"dataframe\">\n",
       "  <thead>\n",
       "    <tr style=\"text-align: right;\">\n",
       "      <th></th>\n",
       "      <th>Best prediction</th>\n",
       "      <th>Target</th>\n",
       "      <th>Abs difference</th>\n",
       "      <th>Difference %</th>\n",
       "    </tr>\n",
       "  </thead>\n",
       "  <tbody>\n",
       "    <tr>\n",
       "      <th>0</th>\n",
       "      <td>2205.810059</td>\n",
       "      <td>2200.0</td>\n",
       "      <td>5.810059</td>\n",
       "      <td>0.26%</td>\n",
       "    </tr>\n",
       "    <tr>\n",
       "      <th>1</th>\n",
       "      <td>1482.155029</td>\n",
       "      <td>1350.0</td>\n",
       "      <td>132.155029</td>\n",
       "      <td>9.79%</td>\n",
       "    </tr>\n",
       "    <tr>\n",
       "      <th>2</th>\n",
       "      <td>2460.216797</td>\n",
       "      <td>2300.0</td>\n",
       "      <td>160.216797</td>\n",
       "      <td>6.97%</td>\n",
       "    </tr>\n",
       "    <tr>\n",
       "      <th>3</th>\n",
       "      <td>2208.420410</td>\n",
       "      <td>2750.0</td>\n",
       "      <td>541.579590</td>\n",
       "      <td>19.69%</td>\n",
       "    </tr>\n",
       "    <tr>\n",
       "      <th>4</th>\n",
       "      <td>1713.671143</td>\n",
       "      <td>1480.0</td>\n",
       "      <td>233.671143</td>\n",
       "      <td>15.79%</td>\n",
       "    </tr>\n",
       "    <tr>\n",
       "      <th>...</th>\n",
       "      <td>...</td>\n",
       "      <td>...</td>\n",
       "      <td>...</td>\n",
       "      <td>...</td>\n",
       "    </tr>\n",
       "    <tr>\n",
       "      <th>291</th>\n",
       "      <td>2492.484375</td>\n",
       "      <td>3100.0</td>\n",
       "      <td>607.515625</td>\n",
       "      <td>19.60%</td>\n",
       "    </tr>\n",
       "    <tr>\n",
       "      <th>292</th>\n",
       "      <td>1999.297363</td>\n",
       "      <td>2265.0</td>\n",
       "      <td>265.702637</td>\n",
       "      <td>11.73%</td>\n",
       "    </tr>\n",
       "    <tr>\n",
       "      <th>293</th>\n",
       "      <td>2184.489990</td>\n",
       "      <td>2850.0</td>\n",
       "      <td>665.510010</td>\n",
       "      <td>23.35%</td>\n",
       "    </tr>\n",
       "    <tr>\n",
       "      <th>294</th>\n",
       "      <td>2664.903076</td>\n",
       "      <td>2750.0</td>\n",
       "      <td>85.096924</td>\n",
       "      <td>3.09%</td>\n",
       "    </tr>\n",
       "    <tr>\n",
       "      <th>295</th>\n",
       "      <td>2408.729980</td>\n",
       "      <td>1650.0</td>\n",
       "      <td>758.729980</td>\n",
       "      <td>45.98%</td>\n",
       "    </tr>\n",
       "  </tbody>\n",
       "</table>\n",
       "<p>296 rows × 4 columns</p>\n",
       "</div>"
      ],
      "text/plain": [
       "     Best prediction  Target  Abs difference Difference %\n",
       "0        2205.810059  2200.0        5.810059        0.26%\n",
       "1        1482.155029  1350.0      132.155029        9.79%\n",
       "2        2460.216797  2300.0      160.216797        6.97%\n",
       "3        2208.420410  2750.0      541.579590       19.69%\n",
       "4        1713.671143  1480.0      233.671143       15.79%\n",
       "..               ...     ...             ...          ...\n",
       "291      2492.484375  3100.0      607.515625       19.60%\n",
       "292      1999.297363  2265.0      265.702637       11.73%\n",
       "293      2184.489990  2850.0      665.510010       23.35%\n",
       "294      2664.903076  2750.0       85.096924        3.09%\n",
       "295      2408.729980  1650.0      758.729980       45.98%\n",
       "\n",
       "[296 rows x 4 columns]"
      ]
     },
     "execution_count": 64,
     "metadata": {},
     "output_type": "execute_result"
    }
   ],
   "source": [
    "df_pred_targ = pd.DataFrame(columns = ['Best prediction', 'Target'])\n",
    "for i in range(len(best_pred)):\n",
    "    df_new = pd.DataFrame({'Best prediction': best_pred[i], 'Target': best_targ[i]})\n",
    "    df_pred_targ = pd.concat([df_pred_targ, df_new], ignore_index = True)\n",
    "df_pred_targ['Abs difference'] = abs(df_pred_targ['Best prediction'] - df_pred_targ['Target'])\n",
    "df_pred_targ['Difference %'] = (df_pred_targ['Abs difference'] / df_pred_targ['Target'])\n",
    "avg_diff = df_pred_targ['Difference %'].mean()\n",
    "df_pred_targ['Difference %'] = df_pred_targ['Difference %'].map('{:.2%}'.format)\n",
    "df_pred_targ"
   ]
  },
  {
   "cell_type": "code",
   "execution_count": 65,
   "metadata": {},
   "outputs": [
    {
     "name": "stdout",
     "output_type": "stream",
     "text": [
      "Average difference: 16.42%\n"
     ]
    }
   ],
   "source": [
    "print(f'Average difference: {avg_diff:.2%}')"
   ]
  },
  {
   "cell_type": "code",
   "execution_count": null,
   "metadata": {},
   "outputs": [],
   "source": []
  }
 ],
 "metadata": {
  "kernelspec": {
   "display_name": "Python 3 (ipykernel)",
   "language": "python",
   "name": "python3"
  },
  "language_info": {
   "codemirror_mode": {
    "name": "ipython",
    "version": 3
   },
   "file_extension": ".py",
   "mimetype": "text/x-python",
   "name": "python",
   "nbconvert_exporter": "python",
   "pygments_lexer": "ipython3",
   "version": "3.11.5"
  },
  "toc-autonumbering": true,
  "toc-showcode": false,
  "toc-showmarkdowntxt": false,
  "toc-showtags": false
 },
 "nbformat": 4,
 "nbformat_minor": 4
}
